{
  "cells": [
    {
      "cell_type": "markdown",
      "metadata": {},
      "source": [
        "## Name: Naman Trisoliya\n",
        "\n",
        "## ID: 12141150\n"
      ]
    },
    {
      "cell_type": "markdown",
      "metadata": {
        "id": "5c18AIcBe7bO"
      },
      "source": [
        "# Loading libraries\n"
      ]
    },
    {
      "cell_type": "code",
      "execution_count": 1,
      "metadata": {
        "id": "ABHKNGlCsrqr"
      },
      "outputs": [],
      "source": [
        "import random\n",
        "import torch\n",
        "import numpy as np\n",
        "import torchvision\n",
        "import torch.nn as nn\n",
        "from tqdm import tqdm\n",
        "import torch.nn.functional as F\n",
        "import torch.optim as optim\n",
        "from torchsummary import summary\n",
        "from torch.optim.lr_scheduler import MultiStepLR\n",
        "from torch.utils.data import DataLoader, Subset\n",
        "from torchvision import datasets, transforms\n",
        "import matplotlib.pyplot as plt"
      ]
    },
    {
      "cell_type": "code",
      "execution_count": 2,
      "metadata": {
        "colab": {
          "base_uri": "https://localhost:8080/"
        },
        "id": "4AnLvGVACTSw",
        "outputId": "726c7380-27c2-40f4-eeae-a0219681125e"
      },
      "outputs": [
        {
          "data": {
            "text/plain": [
              "device(type='cpu')"
            ]
          },
          "execution_count": 2,
          "metadata": {},
          "output_type": "execute_result"
        }
      ],
      "source": [
        "device=torch.device('cuda' if torch.cuda.is_available() else 'cpu')\n",
        "device"
      ]
    },
    {
      "cell_type": "markdown",
      "metadata": {
        "id": "zuMvauRne_FA"
      },
      "source": [
        "# Loading Dataset and preprocessing\n"
      ]
    },
    {
      "cell_type": "code",
      "execution_count": 3,
      "metadata": {
        "id": "l_1eT49Cswgw"
      },
      "outputs": [],
      "source": [
        "transform=transforms.Compose([transforms.ToTensor(),\n",
        "                    transforms.Normalize((0.5),(0.5))])"
      ]
    },
    {
      "cell_type": "code",
      "execution_count": 4,
      "metadata": {
        "id": "sBQulANptjE_"
      },
      "outputs": [],
      "source": [
        "data_train=datasets.MNIST(root='./data',train=True,download=True,transform=transform)\n",
        "data_test=datasets.MNIST(root='./data',train=False,download=True,transform=transform)"
      ]
    },
    {
      "cell_type": "code",
      "execution_count": 5,
      "metadata": {
        "colab": {
          "base_uri": "https://localhost:8080/"
        },
        "id": "AxgHHD7Gb-JB",
        "outputId": "fd6c22a5-67b0-4d56-dbb5-047d3c2150ec"
      },
      "outputs": [
        {
          "name": "stdout",
          "output_type": "stream",
          "text": [
            "60000 10000\n"
          ]
        }
      ],
      "source": [
        "print(len(data_train),len(data_test))"
      ]
    },
    {
      "cell_type": "markdown",
      "metadata": {
        "id": "OzcOEWE6fCyt"
      },
      "source": [
        "## Dataset setup for experiments\n"
      ]
    },
    {
      "cell_type": "markdown",
      "metadata": {
        "id": "BQmVhmuPcJxY"
      },
      "source": [
        "The experiments were performed with 200 random points taken from each class during training and 10000 points in test set.\n"
      ]
    },
    {
      "cell_type": "code",
      "execution_count": 6,
      "metadata": {},
      "outputs": [],
      "source": [
        "batch_size=50"
      ]
    },
    {
      "cell_type": "code",
      "execution_count": 7,
      "metadata": {
        "id": "le71Cstzcc2W"
      },
      "outputs": [],
      "source": [
        "def get_subset_dataloader(dataset, random_seed, num_samples_per_class,batch_size):\n",
        "    torch.manual_seed(random_seed)\n",
        "\n",
        "    class_indices = {}\n",
        "    for i in range(len(dataset.classes)):\n",
        "        class_indices[i] = []\n",
        "\n",
        "    for idx, (_, label) in enumerate(dataset):\n",
        "        class_indices[label].append(idx)\n",
        "\n",
        "    selected_indices = []\n",
        "    for _, indices in class_indices.items():\n",
        "        selected_indices.extend(random.sample(indices, num_samples_per_class))\n",
        "\n",
        "    subset_dataset = Subset(dataset, selected_indices)\n",
        "    # print(\"Subset created with total lenght:\",len(subset_dataset))\n",
        "\n",
        "    dataloader = DataLoader(subset_dataset, batch_size=batch_size, shuffle=True)\n",
        "\n",
        "    return dataloader"
      ]
    },
    {
      "cell_type": "code",
      "execution_count": 8,
      "metadata": {
        "id": "M6zEpBRFt9TK"
      },
      "outputs": [],
      "source": [
        "test_loader=torch.utils.data.DataLoader(data_test,batch_size=batch_size,shuffle=False)"
      ]
    },
    {
      "cell_type": "code",
      "execution_count": 9,
      "metadata": {
        "id": "y095Rr2iwOZ6"
      },
      "outputs": [],
      "source": [
        "classes = ('Zero','One', 'Two', 'Three', 'Four','Five', 'Six', 'Seven', 'Eight', 'Nine')"
      ]
    },
    {
      "cell_type": "markdown",
      "metadata": {
        "id": "P2gmr4G9fKHk"
      },
      "source": [
        "# Model Building\n"
      ]
    },
    {
      "cell_type": "markdown",
      "metadata": {
        "id": "Ko6cz9SveW8Y"
      },
      "source": [
        "LeNet-5 Architecture was used in the experiments with maxpooling, ReLU activations and dropout after the dense hidden layer. The total parameter count of the used baseline model is 61706.\n"
      ]
    },
    {
      "cell_type": "code",
      "execution_count": 10,
      "metadata": {
        "colab": {
          "base_uri": "https://localhost:8080/"
        },
        "id": "YOuGFW7Lw1jV",
        "outputId": "3ae1f4ca-372d-4ec5-e926-9e8238835e07"
      },
      "outputs": [
        {
          "name": "stdout",
          "output_type": "stream",
          "text": [
            "----------------------------------------------------------------\n",
            "        Layer (type)               Output Shape         Param #\n",
            "================================================================\n",
            "            Conv2d-1            [-1, 6, 28, 28]             156\n",
            "         MaxPool2d-2            [-1, 6, 14, 14]               0\n",
            "            Conv2d-3           [-1, 16, 10, 10]           2,416\n",
            "         MaxPool2d-4             [-1, 16, 5, 5]               0\n",
            "           Flatten-5                  [-1, 400]               0\n",
            "            Linear-6                  [-1, 120]          48,120\n",
            "            Linear-7                   [-1, 84]          10,164\n",
            "            Linear-8                   [-1, 10]             850\n",
            "================================================================\n",
            "Total params: 61,706\n",
            "Trainable params: 61,706\n",
            "Non-trainable params: 0\n",
            "----------------------------------------------------------------\n",
            "Input size (MB): 0.00\n",
            "Forward/backward pass size (MB): 0.06\n",
            "Params size (MB): 0.24\n",
            "Estimated Total Size (MB): 0.30\n",
            "----------------------------------------------------------------\n"
          ]
        }
      ],
      "source": [
        "class BaseModel(nn.Module):\n",
        "    def __init__(self,include_dropout):\n",
        "        super(BaseModel, self).__init__()\n",
        "        self.include_dropout=include_dropout\n",
        "\n",
        "        self.conv1 = nn.Conv2d(in_channels=1, out_channels=6, kernel_size=5,stride=1,padding=2)\n",
        "        self.conv2 = nn.Conv2d(in_channels=6, out_channels=16, kernel_size=5,stride=1)\n",
        "\n",
        "\n",
        "        self.maxpool = nn.MaxPool2d(kernel_size=2, stride=2)\n",
        "\n",
        "        self.fc1 = nn.Linear(16 * 5 * 5, 120)\n",
        "        self.fc2 = nn.Linear(120, 84)\n",
        "        self.fc3 = nn.Linear(84, 10)\n",
        "\n",
        "        self.dropout = nn.Dropout(p=0.5)\n",
        "\n",
        "        self.flatten=nn.Flatten()\n",
        "\n",
        "    def forward(self, x):\n",
        "        x = self.maxpool(F.relu(self.conv1(x)))\n",
        "\n",
        "        x = self.maxpool(F.relu(self.conv2(x)))\n",
        "\n",
        "        x = self.flatten(x)\n",
        "\n",
        "        x = F.relu(self.fc1(x))\n",
        "        if self.include_dropout:\n",
        "            x = self.dropout(x)\n",
        "\n",
        "        x = F.relu(self.fc2(x))\n",
        "        if self.include_dropout:\n",
        "            x = self.dropout(x)\n",
        "\n",
        "        x = self.fc3(x)\n",
        "        return x\n",
        "\n",
        "model= BaseModel(include_dropout=False)\n",
        "model.to(device)\n",
        "summary(model,(1,28,28))"
      ]
    },
    {
      "cell_type": "code",
      "execution_count": 11,
      "metadata": {
        "colab": {
          "base_uri": "https://localhost:8080/"
        },
        "id": "uAnOkJENykCh",
        "outputId": "e6834999-91b6-461f-e17a-1c0a86f5d74c"
      },
      "outputs": [
        {
          "name": "stdout",
          "output_type": "stream",
          "text": [
            "----------------------------------------------------------------\n",
            "        Layer (type)               Output Shape         Param #\n",
            "================================================================\n",
            "            Conv2d-1            [-1, 6, 28, 28]             156\n",
            "       BatchNorm2d-2            [-1, 6, 28, 28]              12\n",
            "         MaxPool2d-3            [-1, 6, 14, 14]               0\n",
            "            Conv2d-4           [-1, 16, 10, 10]           2,416\n",
            "       BatchNorm2d-5           [-1, 16, 10, 10]              32\n",
            "         MaxPool2d-6             [-1, 16, 5, 5]               0\n",
            "           Flatten-7                  [-1, 400]               0\n",
            "            Linear-8                  [-1, 120]          48,120\n",
            "       BatchNorm1d-9                  [-1, 120]             240\n",
            "           Linear-10                   [-1, 84]          10,164\n",
            "      BatchNorm1d-11                   [-1, 84]             168\n",
            "           Linear-12                   [-1, 10]             850\n",
            "================================================================\n",
            "Total params: 62,158\n",
            "Trainable params: 62,158\n",
            "Non-trainable params: 0\n",
            "----------------------------------------------------------------\n",
            "Input size (MB): 0.00\n",
            "Forward/backward pass size (MB): 0.11\n",
            "Params size (MB): 0.24\n",
            "Estimated Total Size (MB): 0.35\n",
            "----------------------------------------------------------------\n"
          ]
        }
      ],
      "source": [
        "class BatchNormModel(nn.Module):\n",
        "    def __init__(self):\n",
        "        super(BatchNormModel, self).__init__()\n",
        "\n",
        "        self.conv1 = nn.Conv2d(in_channels=1, out_channels=6, kernel_size=5,stride=1,padding=2)\n",
        "        self.conv2 = nn.Conv2d(in_channels=6, out_channels=16, kernel_size=5,stride=1)\n",
        "\n",
        "\n",
        "        self.maxpool = nn.MaxPool2d(kernel_size=2, stride=2)\n",
        "        self.norm1 = nn.BatchNorm2d(6)\n",
        "        self.norm2 = nn.BatchNorm2d(16)\n",
        "        self.norm3 = nn.BatchNorm1d(120)\n",
        "        self.norm4 = nn.BatchNorm1d(84)\n",
        "\n",
        "\n",
        "        self.fc1 = nn.Linear(16 * 5 * 5, 120)\n",
        "        self.fc2 = nn.Linear(120, 84)\n",
        "        self.fc3 = nn.Linear(84, 10)\n",
        "\n",
        "        self.dropout = nn.Dropout(p=0.5)\n",
        "\n",
        "        self.flatten=nn.Flatten()\n",
        "\n",
        "    def forward(self, x):\n",
        "        x = self.maxpool(self.norm1(F.relu(self.conv1(x))))\n",
        "\n",
        "        x = self.maxpool(self.norm2(F.relu(self.conv2(x))))\n",
        "\n",
        "        x = self.flatten(x)\n",
        "\n",
        "        x = self.norm3(F.relu(self.fc1(x)))\n",
        "\n",
        "        x = self.norm4(F.relu(self.fc2(x)))\n",
        "\n",
        "        x = self.fc3(x)\n",
        "        return x\n",
        "\n",
        "model= BatchNormModel()\n",
        "model.to(device)\n",
        "summary(model,(1,28,28))"
      ]
    },
    {
      "cell_type": "code",
      "execution_count": 12,
      "metadata": {
        "colab": {
          "base_uri": "https://localhost:8080/"
        },
        "id": "9w5R2UVA0XSp",
        "outputId": "41ffcb98-2a7a-42a4-e9c1-78bb9946bc2b"
      },
      "outputs": [
        {
          "name": "stdout",
          "output_type": "stream",
          "text": [
            "----------------------------------------------------------------\n",
            "        Layer (type)               Output Shape         Param #\n",
            "================================================================\n",
            "            Conv2d-1            [-1, 6, 28, 28]             156\n",
            "         MaxPool2d-2            [-1, 6, 14, 14]               0\n",
            "           Dropout-3            [-1, 6, 14, 14]               0\n",
            "            Conv2d-4           [-1, 16, 10, 10]           2,416\n",
            "         MaxPool2d-5             [-1, 16, 5, 5]               0\n",
            "           Dropout-6             [-1, 16, 5, 5]               0\n",
            "           Flatten-7                  [-1, 400]               0\n",
            "            Linear-8                  [-1, 120]          48,120\n",
            "           Dropout-9                  [-1, 120]               0\n",
            "           Linear-10                   [-1, 84]          10,164\n",
            "          Dropout-11                   [-1, 84]               0\n",
            "           Linear-12                   [-1, 10]             850\n",
            "================================================================\n",
            "Total params: 61,706\n",
            "Trainable params: 61,706\n",
            "Non-trainable params: 0\n",
            "----------------------------------------------------------------\n",
            "Input size (MB): 0.00\n",
            "Forward/backward pass size (MB): 0.08\n",
            "Params size (MB): 0.24\n",
            "Estimated Total Size (MB): 0.32\n",
            "----------------------------------------------------------------\n"
          ]
        }
      ],
      "source": [
        "class DropoutModel(nn.Module):\n",
        "    def __init__(self):\n",
        "        super(DropoutModel, self).__init__()\n",
        "\n",
        "        self.conv1 = nn.Conv2d(in_channels=1, out_channels=6, kernel_size=5,stride=1,padding=2)\n",
        "        self.conv2 = nn.Conv2d(in_channels=6, out_channels=16, kernel_size=5,stride=1)\n",
        "\n",
        "\n",
        "        self.maxpool = nn.MaxPool2d(kernel_size=2, stride=2)\n",
        "\n",
        "        self.fc1 = nn.Linear(16 * 5 * 5, 120)\n",
        "        self.fc2 = nn.Linear(120, 84)\n",
        "        self.fc3 = nn.Linear(84, 10)\n",
        "\n",
        "        self.dropout = nn.Dropout(p=0.5)\n",
        "\n",
        "        self.flatten=nn.Flatten()\n",
        "\n",
        "    def forward(self, x):\n",
        "        x = self.maxpool(F.relu(self.conv1(x)))\n",
        "        x = self.dropout(x)\n",
        "\n",
        "        x = self.maxpool(F.relu(self.conv2(x)))\n",
        "        x = self.dropout(x)\n",
        "\n",
        "        x = self.flatten(x)\n",
        "\n",
        "        x = F.relu(self.fc1(x))\n",
        "        x = self.dropout(x)\n",
        "\n",
        "        x = F.relu(self.fc2(x))\n",
        "        x = self.dropout(x)\n",
        "\n",
        "        x = self.fc3(x)\n",
        "        return x\n",
        "\n",
        "model= DropoutModel()\n",
        "model.to(device)\n",
        "summary(model,(1,28,28))"
      ]
    },
    {
      "cell_type": "markdown",
      "metadata": {
        "id": "Z62CI8cAfO3G"
      },
      "source": [
        "# Metrics Setup\n"
      ]
    },
    {
      "cell_type": "code",
      "execution_count": 13,
      "metadata": {
        "id": "NIT-xw6WF8AZ"
      },
      "outputs": [],
      "source": [
        "def calculate_accuracy(output,labels):\n",
        "    _,predicted=torch.max(output.data, 1)\n",
        "\n",
        "    total = labels.size(0)\n",
        "    correct = (predicted.to(device) == labels).sum().item()\n",
        "\n",
        "    return correct,total"
      ]
    },
    {
      "cell_type": "markdown",
      "metadata": {
        "id": "OMLPNlEQfSct"
      },
      "source": [
        "# Regularizers code setup\n"
      ]
    },
    {
      "cell_type": "code",
      "execution_count": 14,
      "metadata": {
        "id": "zAPDky7amd2p"
      },
      "outputs": [],
      "source": [
        "def double_backprop_loss(model, criterion, inputs, targets, lambda_double_backprop):\n",
        "    outputs = model(inputs)\n",
        "    loss = criterion(outputs, targets)\n",
        "\n",
        "    # Compute gradient of the original loss with respect to model parameters\n",
        "    model.zero_grad()\n",
        "    loss.backward(retain_graph=True)\n",
        "    grad_loss = torch.cat([param.grad.flatten() for param in model.parameters()])\n",
        "\n",
        "    # Compute squared L2 norm of the gradient\n",
        "    double_backprop_term = lambda_double_backprop * torch.norm(grad_loss, p=2)**2\n",
        "\n",
        "    # Total loss including Double Backpropagation regularization\n",
        "    total_loss = loss + double_backprop_term\n",
        "\n",
        "    return total_loss"
      ]
    },
    {
      "cell_type": "code",
      "execution_count": 15,
      "metadata": {
        "id": "FBSSR6u9oroa"
      },
      "outputs": [],
      "source": [
        "def jac_reg_loss(model, criterion, inputs, targets, lambda_jacreg):\n",
        "    outputs = model(inputs)\n",
        "    loss = criterion(outputs, targets)\n",
        "\n",
        "    # Compute Jacobian of softmax output probabilities w.r.t. input\n",
        "    inputs.requires_grad_(True)\n",
        "    outputs = model(inputs)\n",
        "    outputs=F.softmax(outputs,dim=1)\n",
        "    grad_outputs = torch.ones_like(outputs)\n",
        "    grad_softmax = torch.autograd.grad(outputs, inputs, grad_outputs=grad_outputs, retain_graph=True)[0]\n",
        "\n",
        "    # Compute squared Frobenius norm of Jacobian\n",
        "    jac_norm_squared = torch.norm(grad_softmax, p='fro')**2\n",
        "\n",
        "    # Jacobian Regularization term\n",
        "    jacreg_term = lambda_jacreg * jac_norm_squared\n",
        "\n",
        "    # Total loss including JacReg\n",
        "    total_loss = loss + jacreg_term\n",
        "\n",
        "    return total_loss"
      ]
    },
    {
      "cell_type": "code",
      "execution_count": 16,
      "metadata": {
        "id": "N7D06xH6rp-I"
      },
      "outputs": [],
      "source": [
        "def frobreg_loss(model, criterion, inputs, targets, lambda_frobreg):\n",
        "    outputs = model(inputs)\n",
        "    loss = criterion(outputs, targets)\n",
        "\n",
        "    # Compute Jacobian of logits w.r.t. input\n",
        "    inputs.requires_grad_(True)\n",
        "    outputs = model(inputs)\n",
        "    grad_outputs = torch.ones_like(outputs)\n",
        "    grad_logits = torch.autograd.grad(outputs, inputs, grad_outputs=grad_outputs, retain_graph=True)[0]\n",
        "\n",
        "    # Compute squared Frobenius norm of Jacobian\n",
        "    frob_norm_squared = torch.norm(grad_logits, p='fro')**2\n",
        "\n",
        "    # Frobenius Regularization term\n",
        "    frobreg_term = lambda_frobreg * frob_norm_squared\n",
        "\n",
        "    # Total loss including FrobReg\n",
        "    total_loss = loss + frobreg_term\n",
        "\n",
        "    return total_loss"
      ]
    },
    {
      "cell_type": "code",
      "execution_count": 17,
      "metadata": {
        "id": "0WJgXjYPst9o"
      },
      "outputs": [],
      "source": [
        "def spectral_reg_loss(model, criterion, inputs, targets, lambda_spectreg, k_dimensions):\n",
        "    outputs = model(inputs)\n",
        "    loss = criterion(outputs, targets)\n",
        "\n",
        "    # Compute Jacobian of logits w.r.t. input\n",
        "    inputs.requires_grad_(True)\n",
        "    outputs = model(inputs)\n",
        "    grad_outputs = torch.ones_like(outputs)\n",
        "    grad_logits = torch.autograd.grad(outputs, inputs, grad_outputs=grad_outputs, retain_graph=True)[0]\n",
        "\n",
        "    # Apply random projection\n",
        "    random_proj = torch.randn(grad_logits.shape[2], k_dimensions).to(device)\n",
        "    # print(grad_logits.shape,random_proj.shape)\n",
        "    projected_grad_logits = torch.matmul(grad_logits, random_proj)\n",
        "\n",
        "    # Compute squared L2 norm of the result\n",
        "    spectral_reg_term = lambda_spectreg * torch.norm(projected_grad_logits, p=2)**2\n",
        "\n",
        "    # Total loss including SpectReg\n",
        "    total_loss = loss + spectral_reg_term\n",
        "\n",
        "    return total_loss"
      ]
    },
    {
      "cell_type": "code",
      "execution_count": 18,
      "metadata": {
        "id": "XrGAYpoxbTYC"
      },
      "outputs": [],
      "source": [
        "def conf_penalty_loss(model,criterion,inputs,targets,alpha=0.1):\n",
        "    outputs = model(inputs)\n",
        "    loss = criterion(outputs, targets)\n",
        "    # Calculate probabilities from logits using softmax\n",
        "    probs = torch.softmax(outputs, dim=1)\n",
        "\n",
        "    # Calculate entropy\n",
        "    entropy = torch.sum(-probs * torch.log(probs + 1e-10), dim=1).mean()\n",
        "\n",
        "    # Apply confidence penalty regularization\n",
        "    penalty = alpha * entropy\n",
        "\n",
        "    total_loss = loss + penalty\n",
        "\n",
        "    return total_loss"
      ]
    },
    {
      "cell_type": "code",
      "execution_count": 19,
      "metadata": {
        "id": "r6GMvOGNac6X"
      },
      "outputs": [],
      "source": [
        "def Evaluate(test_loader,model):\n",
        "    with torch.no_grad():\n",
        "        val_correct=0\n",
        "        val_total=0\n",
        "        for i, data in enumerate(test_loader):\n",
        "            inputs,label=data\n",
        "\n",
        "            inputs=inputs.to(device)\n",
        "            label=label.to(device)\n",
        "\n",
        "            output=model(inputs)\n",
        "            correct,total=calculate_accuracy(output,label)\n",
        "            val_correct+=correct\n",
        "            val_total+=total\n",
        "    # print(val_correct,val_total)\n",
        "    return round(100*(val_correct/val_total),2)"
      ]
    },
    {
      "cell_type": "markdown",
      "metadata": {
        "id": "92JAC6SCc7fr"
      },
      "source": [
        "# Experiment C2: GRADIENT REGULARIZATION COMPARED WITH DROPOUT AND BATCH NORMALIZATION\n"
      ]
    },
    {
      "cell_type": "code",
      "execution_count": null,
      "metadata": {},
      "outputs": [],
      "source": [
        "batch_size=50\n",
        "num_samples_per_class=200\n",
        "seeds=[10,20,30,40,50,60,70,80,90,100]"
      ]
    },
    {
      "cell_type": "code",
      "execution_count": null,
      "metadata": {},
      "outputs": [],
      "source": [
        "def train(model,train_loader,test_loader,num_samples_per_class,regularizer,reg_parameter):\n",
        "    criterion=nn.CrossEntropyLoss()\n",
        "    opt=torch.optim.Adam(model.parameters(),lr=0.01,betas=(0.9,0.999),weight_decay=0.0005)\n",
        "\n",
        "    num_epochs= int(10000/((num_samples_per_class*10)/batch_size))\n",
        "    # num_epochs=1\n",
        "    milestones = [int(0.5 * num_epochs), int(0.75 * num_epochs)]\n",
        "    scheduler = MultiStepLR(opt, milestones=milestones, gamma=0.1)\n",
        "\n",
        "    for epoch in tqdm(range(num_epochs),\"Trained\"):\n",
        "        for i, data in enumerate(train_loader):\n",
        "            inputs,label=data\n",
        "            inputs=inputs.to(device)\n",
        "            label=label.to(device)\n",
        "            opt.zero_grad()\n",
        "\n",
        "            if regularizer==\"SpectReg\":\n",
        "                loss = spectral_reg_loss(model, criterion, inputs, label, reg_parameter, 10)\n",
        "            elif regularizer==\"NoGR\":\n",
        "                output=model(inputs)\n",
        "                loss = criterion(output,label)\n",
        "            elif regularizer==\"DoubleBack\":\n",
        "                loss = double_backprop_loss(model, criterion, inputs, label,reg_parameter)\n",
        "\n",
        "            loss.backward()\n",
        "            opt.step()\n",
        "\n",
        "        scheduler.step()\n",
        "\n",
        "    return Evaluate(test_loader,model)"
      ]
    },
    {
      "cell_type": "code",
      "execution_count": null,
      "metadata": {},
      "outputs": [
        {
          "name": "stdout",
          "output_type": "stream",
          "text": [
            "{'Baseline': {'NoGR': [], 'DoubleBack': [], 'SpectReg': []}, 'Batchnorm': {'NoGR': [], 'DoubleBack': [], 'SpectReg': []}, 'Dropout': {'NoGR': [], 'DoubleBack': [], 'SpectReg': []}}\n"
          ]
        }
      ],
      "source": [
        "models=[\"Baseline\",\"Batchnorm\",\"Dropout\"]\n",
        "regularizers=[\"NoGR\",\"DoubleBack\",\"SpectReg\"]\n",
        "\n",
        "model_params={\"Baseline\":{\"NoGR\":0,\"DoubleBack\":50,\"SpectReg\":0.01},\n",
        "              \"Batchnorm\":{\"NoGR\":0,\"DoubleBack\":0.001,\"SpectReg\":0.001},\n",
        "              \"Dropout\":{\"NoGR\":0,\"DoubleBack\":50,\"SpectReg\":0.01}}\n",
        "\n",
        "accuracy_dict={}\n",
        "for i in models:\n",
        "    k={}\n",
        "    for j in regularizers:\n",
        "        k[j]=[]\n",
        "    accuracy_dict[i]=k\n",
        "print(accuracy_dict)"
      ]
    },
    {
      "cell_type": "code",
      "execution_count": null,
      "metadata": {},
      "outputs": [
        {
          "name": "stdout",
          "output_type": "stream",
          "text": [
            "Model Name:Baseline, Regularizer: NoGR, Parameter: 0\n",
            "Iteration:0 seed:10\n"
          ]
        },
        {
          "name": "stderr",
          "output_type": "stream",
          "text": [
            "Trained: 100%|██████████| 250/250 [02:10<00:00,  1.91it/s]\n"
          ]
        },
        {
          "name": "stdout",
          "output_type": "stream",
          "text": [
            "Accuracy: 96.09\n",
            "Iteration:1 seed:20\n"
          ]
        },
        {
          "name": "stderr",
          "output_type": "stream",
          "text": [
            "Trained: 100%|██████████| 250/250 [02:12<00:00,  1.89it/s]\n"
          ]
        },
        {
          "name": "stdout",
          "output_type": "stream",
          "text": [
            "Accuracy: 97.23\n",
            "Iteration:2 seed:30\n"
          ]
        },
        {
          "name": "stderr",
          "output_type": "stream",
          "text": [
            "Trained: 100%|██████████| 250/250 [02:07<00:00,  1.97it/s]\n"
          ]
        },
        {
          "name": "stdout",
          "output_type": "stream",
          "text": [
            "Accuracy: 96.91\n",
            "Iteration:3 seed:40\n"
          ]
        },
        {
          "name": "stderr",
          "output_type": "stream",
          "text": [
            "Trained: 100%|██████████| 250/250 [02:08<00:00,  1.95it/s]\n"
          ]
        },
        {
          "name": "stdout",
          "output_type": "stream",
          "text": [
            "Accuracy: 96.42\n",
            "Iteration:4 seed:50\n"
          ]
        },
        {
          "name": "stderr",
          "output_type": "stream",
          "text": [
            "Trained: 100%|██████████| 250/250 [02:07<00:00,  1.95it/s]\n"
          ]
        },
        {
          "name": "stdout",
          "output_type": "stream",
          "text": [
            "Accuracy: 97.06\n",
            "Iteration:5 seed:60\n"
          ]
        },
        {
          "name": "stderr",
          "output_type": "stream",
          "text": [
            "Trained: 100%|██████████| 250/250 [02:07<00:00,  1.96it/s]\n"
          ]
        },
        {
          "name": "stdout",
          "output_type": "stream",
          "text": [
            "Accuracy: 96.63\n",
            "Iteration:6 seed:70\n"
          ]
        },
        {
          "name": "stderr",
          "output_type": "stream",
          "text": [
            "Trained: 100%|██████████| 250/250 [02:08<00:00,  1.94it/s]\n"
          ]
        },
        {
          "name": "stdout",
          "output_type": "stream",
          "text": [
            "Accuracy: 96.93\n",
            "Iteration:7 seed:80\n"
          ]
        },
        {
          "name": "stderr",
          "output_type": "stream",
          "text": [
            "Trained: 100%|██████████| 250/250 [02:07<00:00,  1.95it/s]\n"
          ]
        },
        {
          "name": "stdout",
          "output_type": "stream",
          "text": [
            "Accuracy: 96.83\n",
            "Iteration:8 seed:90\n"
          ]
        },
        {
          "name": "stderr",
          "output_type": "stream",
          "text": [
            "Trained: 100%|██████████| 250/250 [02:06<00:00,  1.98it/s]\n"
          ]
        },
        {
          "name": "stdout",
          "output_type": "stream",
          "text": [
            "Accuracy: 96.88\n",
            "Iteration:9 seed:100\n"
          ]
        },
        {
          "name": "stderr",
          "output_type": "stream",
          "text": [
            "Trained: 100%|██████████| 250/250 [02:07<00:00,  1.96it/s]\n"
          ]
        },
        {
          "name": "stdout",
          "output_type": "stream",
          "text": [
            "Accuracy: 96.75\n",
            "Mean Accuracy:96.773, STD: 0.31006612198045763\n",
            "\n",
            "Model Name:Baseline, Regularizer: DoubleBack, Parameter: 50\n",
            "Iteration:0 seed:10\n"
          ]
        },
        {
          "name": "stderr",
          "output_type": "stream",
          "text": [
            "Trained: 100%|██████████| 250/250 [02:19<00:00,  1.79it/s]\n"
          ]
        },
        {
          "name": "stdout",
          "output_type": "stream",
          "text": [
            "Accuracy: 94.32\n",
            "Iteration:1 seed:20\n"
          ]
        },
        {
          "name": "stderr",
          "output_type": "stream",
          "text": [
            "Trained: 100%|██████████| 250/250 [02:19<00:00,  1.79it/s]\n"
          ]
        },
        {
          "name": "stdout",
          "output_type": "stream",
          "text": [
            "Accuracy: 96.55\n",
            "Iteration:2 seed:30\n"
          ]
        },
        {
          "name": "stderr",
          "output_type": "stream",
          "text": [
            "Trained: 100%|██████████| 250/250 [02:20<00:00,  1.78it/s]\n"
          ]
        },
        {
          "name": "stdout",
          "output_type": "stream",
          "text": [
            "Accuracy: 96.73\n",
            "Iteration:3 seed:40\n"
          ]
        },
        {
          "name": "stderr",
          "output_type": "stream",
          "text": [
            "Trained: 100%|██████████| 250/250 [02:21<00:00,  1.76it/s]\n"
          ]
        },
        {
          "name": "stdout",
          "output_type": "stream",
          "text": [
            "Accuracy: 95.75\n",
            "Iteration:4 seed:50\n"
          ]
        },
        {
          "name": "stderr",
          "output_type": "stream",
          "text": [
            "Trained: 100%|██████████| 250/250 [02:19<00:00,  1.79it/s]\n"
          ]
        },
        {
          "name": "stdout",
          "output_type": "stream",
          "text": [
            "Accuracy: 96.85\n",
            "Iteration:5 seed:60\n"
          ]
        },
        {
          "name": "stderr",
          "output_type": "stream",
          "text": [
            "Trained: 100%|██████████| 250/250 [02:20<00:00,  1.78it/s]\n"
          ]
        },
        {
          "name": "stdout",
          "output_type": "stream",
          "text": [
            "Accuracy: 96.46\n",
            "Iteration:6 seed:70\n"
          ]
        },
        {
          "name": "stderr",
          "output_type": "stream",
          "text": [
            "Trained: 100%|██████████| 250/250 [02:22<00:00,  1.75it/s]\n"
          ]
        },
        {
          "name": "stdout",
          "output_type": "stream",
          "text": [
            "Accuracy: 96.66\n",
            "Iteration:7 seed:80\n"
          ]
        },
        {
          "name": "stderr",
          "output_type": "stream",
          "text": [
            "Trained: 100%|██████████| 250/250 [02:21<00:00,  1.76it/s]\n"
          ]
        },
        {
          "name": "stdout",
          "output_type": "stream",
          "text": [
            "Accuracy: 96.83\n",
            "Iteration:8 seed:90\n"
          ]
        },
        {
          "name": "stderr",
          "output_type": "stream",
          "text": [
            "Trained: 100%|██████████| 250/250 [02:19<00:00,  1.79it/s]\n"
          ]
        },
        {
          "name": "stdout",
          "output_type": "stream",
          "text": [
            "Accuracy: 96.56\n",
            "Iteration:9 seed:100\n"
          ]
        },
        {
          "name": "stderr",
          "output_type": "stream",
          "text": [
            "Trained: 100%|██████████| 250/250 [02:19<00:00,  1.79it/s]\n"
          ]
        },
        {
          "name": "stdout",
          "output_type": "stream",
          "text": [
            "Accuracy: 96.5\n",
            "Mean Accuracy:96.321, STD: 0.7288408605450177\n",
            "\n",
            "Model Name:Baseline, Regularizer: SpectReg, Parameter: 0.01\n",
            "Iteration:0 seed:10\n"
          ]
        },
        {
          "name": "stderr",
          "output_type": "stream",
          "text": [
            "Trained: 100%|██████████| 250/250 [02:22<00:00,  1.75it/s]\n"
          ]
        },
        {
          "name": "stdout",
          "output_type": "stream",
          "text": [
            "Accuracy: 94.75\n",
            "Iteration:1 seed:20\n"
          ]
        },
        {
          "name": "stderr",
          "output_type": "stream",
          "text": [
            "Trained: 100%|██████████| 250/250 [02:21<00:00,  1.76it/s]\n"
          ]
        },
        {
          "name": "stdout",
          "output_type": "stream",
          "text": [
            "Accuracy: 97.07\n",
            "Iteration:2 seed:30\n"
          ]
        },
        {
          "name": "stderr",
          "output_type": "stream",
          "text": [
            "Trained: 100%|██████████| 250/250 [02:22<00:00,  1.75it/s]\n"
          ]
        },
        {
          "name": "stdout",
          "output_type": "stream",
          "text": [
            "Accuracy: 96.87\n",
            "Iteration:3 seed:40\n"
          ]
        },
        {
          "name": "stderr",
          "output_type": "stream",
          "text": [
            "Trained: 100%|██████████| 250/250 [02:23<00:00,  1.74it/s]\n"
          ]
        },
        {
          "name": "stdout",
          "output_type": "stream",
          "text": [
            "Accuracy: 96.92\n",
            "Iteration:4 seed:50\n"
          ]
        },
        {
          "name": "stderr",
          "output_type": "stream",
          "text": [
            "Trained: 100%|██████████| 250/250 [02:22<00:00,  1.75it/s]\n"
          ]
        },
        {
          "name": "stdout",
          "output_type": "stream",
          "text": [
            "Accuracy: 96.95\n",
            "Iteration:5 seed:60\n"
          ]
        },
        {
          "name": "stderr",
          "output_type": "stream",
          "text": [
            "Trained: 100%|██████████| 250/250 [02:23<00:00,  1.74it/s]\n"
          ]
        },
        {
          "name": "stdout",
          "output_type": "stream",
          "text": [
            "Accuracy: 96.22\n",
            "Iteration:6 seed:70\n"
          ]
        },
        {
          "name": "stderr",
          "output_type": "stream",
          "text": [
            "Trained: 100%|██████████| 250/250 [02:23<00:00,  1.74it/s]\n"
          ]
        },
        {
          "name": "stdout",
          "output_type": "stream",
          "text": [
            "Accuracy: 97.1\n",
            "Iteration:7 seed:80\n"
          ]
        },
        {
          "name": "stderr",
          "output_type": "stream",
          "text": [
            "Trained: 100%|██████████| 250/250 [02:21<00:00,  1.76it/s]\n"
          ]
        },
        {
          "name": "stdout",
          "output_type": "stream",
          "text": [
            "Accuracy: 97.04\n",
            "Iteration:8 seed:90\n"
          ]
        },
        {
          "name": "stderr",
          "output_type": "stream",
          "text": [
            "Trained: 100%|██████████| 250/250 [02:22<00:00,  1.75it/s]\n"
          ]
        },
        {
          "name": "stdout",
          "output_type": "stream",
          "text": [
            "Accuracy: 96.52\n",
            "Iteration:9 seed:100\n"
          ]
        },
        {
          "name": "stderr",
          "output_type": "stream",
          "text": [
            "Trained: 100%|██████████| 250/250 [02:24<00:00,  1.73it/s]\n"
          ]
        },
        {
          "name": "stdout",
          "output_type": "stream",
          "text": [
            "Accuracy: 96.67\n",
            "Mean Accuracy:96.611, STD: 0.6737425324261487\n",
            "\n",
            "Model Name:Batchnorm, Regularizer: NoGR, Parameter: 0\n",
            "Iteration:0 seed:10\n"
          ]
        },
        {
          "name": "stderr",
          "output_type": "stream",
          "text": [
            "Trained: 100%|██████████| 250/250 [02:17<00:00,  1.82it/s]\n"
          ]
        },
        {
          "name": "stdout",
          "output_type": "stream",
          "text": [
            "Accuracy: 96.95\n",
            "Iteration:1 seed:20\n"
          ]
        },
        {
          "name": "stderr",
          "output_type": "stream",
          "text": [
            "Trained: 100%|██████████| 250/250 [02:19<00:00,  1.80it/s]\n"
          ]
        },
        {
          "name": "stdout",
          "output_type": "stream",
          "text": [
            "Accuracy: 97.16\n",
            "Iteration:2 seed:30\n"
          ]
        },
        {
          "name": "stderr",
          "output_type": "stream",
          "text": [
            "Trained: 100%|██████████| 250/250 [02:19<00:00,  1.79it/s]\n"
          ]
        },
        {
          "name": "stdout",
          "output_type": "stream",
          "text": [
            "Accuracy: 97.1\n",
            "Iteration:3 seed:40\n"
          ]
        },
        {
          "name": "stderr",
          "output_type": "stream",
          "text": [
            "Trained: 100%|██████████| 250/250 [02:19<00:00,  1.80it/s]\n"
          ]
        },
        {
          "name": "stdout",
          "output_type": "stream",
          "text": [
            "Accuracy: 97.41\n",
            "Iteration:4 seed:50\n"
          ]
        },
        {
          "name": "stderr",
          "output_type": "stream",
          "text": [
            "Trained: 100%|██████████| 250/250 [02:19<00:00,  1.79it/s]\n"
          ]
        },
        {
          "name": "stdout",
          "output_type": "stream",
          "text": [
            "Accuracy: 97.31\n",
            "Iteration:5 seed:60\n"
          ]
        },
        {
          "name": "stderr",
          "output_type": "stream",
          "text": [
            "Trained: 100%|██████████| 250/250 [02:19<00:00,  1.79it/s]\n"
          ]
        },
        {
          "name": "stdout",
          "output_type": "stream",
          "text": [
            "Accuracy: 97.03\n",
            "Iteration:6 seed:70\n"
          ]
        },
        {
          "name": "stderr",
          "output_type": "stream",
          "text": [
            "Trained: 100%|██████████| 250/250 [02:19<00:00,  1.79it/s]\n"
          ]
        },
        {
          "name": "stdout",
          "output_type": "stream",
          "text": [
            "Accuracy: 96.92\n",
            "Iteration:7 seed:80\n"
          ]
        },
        {
          "name": "stderr",
          "output_type": "stream",
          "text": [
            "Trained: 100%|██████████| 250/250 [02:19<00:00,  1.79it/s]\n"
          ]
        },
        {
          "name": "stdout",
          "output_type": "stream",
          "text": [
            "Accuracy: 97.12\n",
            "Iteration:8 seed:90\n"
          ]
        },
        {
          "name": "stderr",
          "output_type": "stream",
          "text": [
            "Trained: 100%|██████████| 250/250 [02:19<00:00,  1.79it/s]\n"
          ]
        },
        {
          "name": "stdout",
          "output_type": "stream",
          "text": [
            "Accuracy: 96.97\n",
            "Iteration:9 seed:100\n"
          ]
        },
        {
          "name": "stderr",
          "output_type": "stream",
          "text": [
            "Trained: 100%|██████████| 250/250 [02:20<00:00,  1.79it/s]\n"
          ]
        },
        {
          "name": "stdout",
          "output_type": "stream",
          "text": [
            "Accuracy: 97.37\n",
            "Mean Accuracy:97.134, STD: 0.16799999999999984\n",
            "\n",
            "Model Name:Batchnorm, Regularizer: DoubleBack, Parameter: 0.001\n",
            "Iteration:0 seed:10\n"
          ]
        },
        {
          "name": "stderr",
          "output_type": "stream",
          "text": [
            "Trained: 100%|██████████| 250/250 [02:36<00:00,  1.60it/s]\n"
          ]
        },
        {
          "name": "stdout",
          "output_type": "stream",
          "text": [
            "Accuracy: 96.97\n",
            "Iteration:1 seed:20\n"
          ]
        },
        {
          "name": "stderr",
          "output_type": "stream",
          "text": [
            "Trained: 100%|██████████| 250/250 [02:35<00:00,  1.60it/s]\n"
          ]
        },
        {
          "name": "stdout",
          "output_type": "stream",
          "text": [
            "Accuracy: 97.06\n",
            "Iteration:2 seed:30\n"
          ]
        },
        {
          "name": "stderr",
          "output_type": "stream",
          "text": [
            "Trained: 100%|██████████| 250/250 [02:36<00:00,  1.59it/s]\n"
          ]
        },
        {
          "name": "stdout",
          "output_type": "stream",
          "text": [
            "Accuracy: 97.33\n",
            "Iteration:3 seed:40\n"
          ]
        },
        {
          "name": "stderr",
          "output_type": "stream",
          "text": [
            "Trained: 100%|██████████| 250/250 [02:36<00:00,  1.60it/s]\n"
          ]
        },
        {
          "name": "stdout",
          "output_type": "stream",
          "text": [
            "Accuracy: 97.34\n",
            "Iteration:4 seed:50\n"
          ]
        },
        {
          "name": "stderr",
          "output_type": "stream",
          "text": [
            "Trained: 100%|██████████| 250/250 [02:36<00:00,  1.60it/s]\n"
          ]
        },
        {
          "name": "stdout",
          "output_type": "stream",
          "text": [
            "Accuracy: 97.51\n",
            "Iteration:5 seed:60\n"
          ]
        },
        {
          "name": "stderr",
          "output_type": "stream",
          "text": [
            "Trained: 100%|██████████| 250/250 [02:36<00:00,  1.60it/s]\n"
          ]
        },
        {
          "name": "stdout",
          "output_type": "stream",
          "text": [
            "Accuracy: 97.29\n",
            "Iteration:6 seed:70\n"
          ]
        },
        {
          "name": "stderr",
          "output_type": "stream",
          "text": [
            "Trained: 100%|██████████| 250/250 [02:35<00:00,  1.60it/s]\n"
          ]
        },
        {
          "name": "stdout",
          "output_type": "stream",
          "text": [
            "Accuracy: 97.79\n",
            "Iteration:7 seed:80\n"
          ]
        },
        {
          "name": "stderr",
          "output_type": "stream",
          "text": [
            "Trained: 100%|██████████| 250/250 [02:36<00:00,  1.60it/s]\n"
          ]
        },
        {
          "name": "stdout",
          "output_type": "stream",
          "text": [
            "Accuracy: 97.15\n",
            "Iteration:8 seed:90\n"
          ]
        },
        {
          "name": "stderr",
          "output_type": "stream",
          "text": [
            "Trained: 100%|██████████| 250/250 [02:35<00:00,  1.60it/s]\n"
          ]
        },
        {
          "name": "stdout",
          "output_type": "stream",
          "text": [
            "Accuracy: 97.14\n",
            "Iteration:9 seed:100\n"
          ]
        },
        {
          "name": "stderr",
          "output_type": "stream",
          "text": [
            "Trained: 100%|██████████| 250/250 [02:37<00:00,  1.58it/s]\n"
          ]
        },
        {
          "name": "stdout",
          "output_type": "stream",
          "text": [
            "Accuracy: 97.51\n",
            "Mean Accuracy:97.309, STD: 0.23338594644922553\n",
            "\n",
            "Model Name:Batchnorm, Regularizer: SpectReg, Parameter: 0.001\n",
            "Iteration:0 seed:10\n"
          ]
        },
        {
          "name": "stderr",
          "output_type": "stream",
          "text": [
            "Trained: 100%|██████████| 250/250 [02:45<00:00,  1.51it/s]\n"
          ]
        },
        {
          "name": "stdout",
          "output_type": "stream",
          "text": [
            "Accuracy: 97.06\n",
            "Iteration:1 seed:20\n"
          ]
        },
        {
          "name": "stderr",
          "output_type": "stream",
          "text": [
            "Trained: 100%|██████████| 250/250 [02:45<00:00,  1.51it/s]\n"
          ]
        },
        {
          "name": "stdout",
          "output_type": "stream",
          "text": [
            "Accuracy: 97.27\n",
            "Iteration:2 seed:30\n"
          ]
        },
        {
          "name": "stderr",
          "output_type": "stream",
          "text": [
            "Trained: 100%|██████████| 250/250 [02:43<00:00,  1.53it/s]\n"
          ]
        },
        {
          "name": "stdout",
          "output_type": "stream",
          "text": [
            "Accuracy: 97.15\n",
            "Iteration:3 seed:40\n"
          ]
        },
        {
          "name": "stderr",
          "output_type": "stream",
          "text": [
            "Trained: 100%|██████████| 250/250 [02:45<00:00,  1.51it/s]\n"
          ]
        },
        {
          "name": "stdout",
          "output_type": "stream",
          "text": [
            "Accuracy: 97.04\n",
            "Iteration:4 seed:50\n"
          ]
        },
        {
          "name": "stderr",
          "output_type": "stream",
          "text": [
            "Trained: 100%|██████████| 250/250 [02:41<00:00,  1.55it/s]\n"
          ]
        },
        {
          "name": "stdout",
          "output_type": "stream",
          "text": [
            "Accuracy: 97.3\n",
            "Iteration:5 seed:60\n"
          ]
        },
        {
          "name": "stderr",
          "output_type": "stream",
          "text": [
            "Trained: 100%|██████████| 250/250 [02:39<00:00,  1.56it/s]\n"
          ]
        },
        {
          "name": "stdout",
          "output_type": "stream",
          "text": [
            "Accuracy: 97.33\n",
            "Iteration:6 seed:70\n"
          ]
        },
        {
          "name": "stderr",
          "output_type": "stream",
          "text": [
            "Trained: 100%|██████████| 250/250 [02:39<00:00,  1.57it/s]\n"
          ]
        },
        {
          "name": "stdout",
          "output_type": "stream",
          "text": [
            "Accuracy: 97.13\n",
            "Iteration:7 seed:80\n"
          ]
        },
        {
          "name": "stderr",
          "output_type": "stream",
          "text": [
            "Trained: 100%|██████████| 250/250 [02:39<00:00,  1.57it/s]\n"
          ]
        },
        {
          "name": "stdout",
          "output_type": "stream",
          "text": [
            "Accuracy: 97.01\n",
            "Iteration:8 seed:90\n"
          ]
        },
        {
          "name": "stderr",
          "output_type": "stream",
          "text": [
            "Trained: 100%|██████████| 250/250 [02:41<00:00,  1.54it/s]\n"
          ]
        },
        {
          "name": "stdout",
          "output_type": "stream",
          "text": [
            "Accuracy: 97.46\n",
            "Iteration:9 seed:100\n"
          ]
        },
        {
          "name": "stderr",
          "output_type": "stream",
          "text": [
            "Trained: 100%|██████████| 250/250 [02:40<00:00,  1.56it/s]\n"
          ]
        },
        {
          "name": "stdout",
          "output_type": "stream",
          "text": [
            "Accuracy: 97.32\n",
            "Mean Accuracy:97.207, STD: 0.1421302219797004\n",
            "\n",
            "Model Name:Dropout, Regularizer: NoGR, Parameter: 0\n",
            "Iteration:0 seed:10\n"
          ]
        },
        {
          "name": "stderr",
          "output_type": "stream",
          "text": [
            "Trained: 100%|██████████| 250/250 [02:13<00:00,  1.88it/s]\n"
          ]
        },
        {
          "name": "stdout",
          "output_type": "stream",
          "text": [
            "Accuracy: 91.39\n",
            "Iteration:1 seed:20\n"
          ]
        },
        {
          "name": "stderr",
          "output_type": "stream",
          "text": [
            "Trained: 100%|██████████| 250/250 [02:13<00:00,  1.88it/s]\n"
          ]
        },
        {
          "name": "stdout",
          "output_type": "stream",
          "text": [
            "Accuracy: 91.94\n",
            "Iteration:2 seed:30\n"
          ]
        },
        {
          "name": "stderr",
          "output_type": "stream",
          "text": [
            "Trained: 100%|██████████| 250/250 [02:14<00:00,  1.86it/s]\n"
          ]
        },
        {
          "name": "stdout",
          "output_type": "stream",
          "text": [
            "Accuracy: 91.69\n",
            "Iteration:3 seed:40\n"
          ]
        },
        {
          "name": "stderr",
          "output_type": "stream",
          "text": [
            "Trained: 100%|██████████| 250/250 [02:14<00:00,  1.85it/s]\n"
          ]
        },
        {
          "name": "stdout",
          "output_type": "stream",
          "text": [
            "Accuracy: 92.24\n",
            "Iteration:4 seed:50\n"
          ]
        },
        {
          "name": "stderr",
          "output_type": "stream",
          "text": [
            "Trained: 100%|██████████| 250/250 [02:12<00:00,  1.88it/s]\n"
          ]
        },
        {
          "name": "stdout",
          "output_type": "stream",
          "text": [
            "Accuracy: 91.85\n",
            "Iteration:5 seed:60\n"
          ]
        },
        {
          "name": "stderr",
          "output_type": "stream",
          "text": [
            "Trained: 100%|██████████| 250/250 [02:11<00:00,  1.90it/s]\n"
          ]
        },
        {
          "name": "stdout",
          "output_type": "stream",
          "text": [
            "Accuracy: 91.9\n",
            "Iteration:6 seed:70\n"
          ]
        },
        {
          "name": "stderr",
          "output_type": "stream",
          "text": [
            "Trained: 100%|██████████| 250/250 [02:11<00:00,  1.90it/s]\n"
          ]
        },
        {
          "name": "stdout",
          "output_type": "stream",
          "text": [
            "Accuracy: 92.2\n",
            "Iteration:7 seed:80\n"
          ]
        },
        {
          "name": "stderr",
          "output_type": "stream",
          "text": [
            "Trained: 100%|██████████| 250/250 [02:11<00:00,  1.90it/s]\n"
          ]
        },
        {
          "name": "stdout",
          "output_type": "stream",
          "text": [
            "Accuracy: 92.37\n",
            "Iteration:8 seed:90\n"
          ]
        },
        {
          "name": "stderr",
          "output_type": "stream",
          "text": [
            "Trained: 100%|██████████| 250/250 [02:11<00:00,  1.91it/s]\n"
          ]
        },
        {
          "name": "stdout",
          "output_type": "stream",
          "text": [
            "Accuracy: 91.76\n",
            "Iteration:9 seed:100\n"
          ]
        },
        {
          "name": "stderr",
          "output_type": "stream",
          "text": [
            "Trained: 100%|██████████| 250/250 [02:09<00:00,  1.93it/s]\n"
          ]
        },
        {
          "name": "stdout",
          "output_type": "stream",
          "text": [
            "Accuracy: 91.68\n",
            "Mean Accuracy:91.902, STD: 0.2833301960610621\n",
            "\n",
            "Model Name:Dropout, Regularizer: DoubleBack, Parameter: 50\n",
            "Iteration:0 seed:10\n"
          ]
        },
        {
          "name": "stderr",
          "output_type": "stream",
          "text": [
            "Trained:  59%|█████▉    | 147/250 [01:23<00:57,  1.80it/s]"
          ]
        }
      ],
      "source": [
        "for model_name in models:\n",
        "    for reg in regularizers:\n",
        "            reg_parameter=model_params[model_name][reg]\n",
        "            print(f\"Model Name:{model_name}, Regularizer: {reg}, Parameter: {reg_parameter}\")\n",
        "            for i in range(10):\n",
        "                print(f\"Iteration:{i} seed:{seeds[i]}\")\n",
        "\n",
        "                if model_name==\"Baseline\":\n",
        "                    model=BaseModel(include_dropout=False).to(device)\n",
        "                elif model_name==\"Batchnorm\":\n",
        "                    model=BatchNormModel().to(device)\n",
        "                elif model_name== \"Dropout\":\n",
        "                    model=DropoutModel().to(device)\n",
        "\n",
        "                train_loader=get_subset_dataloader(data_train,seeds[i],num_samples_per_class,batch_size)\n",
        "                accuracy=train(model,train_loader,test_loader,num_samples_per_class,reg,reg_parameter)\n",
        "                accuracy_dict[model_name][reg].append(accuracy)\n",
        "                print(\"Accuracy:\",accuracy)\n",
        "\n",
        "            accuracy_list=accuracy_dict[model_name][reg]\n",
        "            print(f\"Mean Accuracy:{np.mean(accuracy_list)}, STD: {np.std(accuracy_list)}\")\n",
        "            print(\"\")"
      ]
    },
    {
      "cell_type": "code",
      "execution_count": null,
      "metadata": {},
      "outputs": [
        {
          "name": "stdout",
          "output_type": "stream",
          "text": [
            "{'Dropout': {'DoubleBack': [], 'SpectReg': []}}\n"
          ]
        }
      ],
      "source": [
        "models=[\"Dropout\"]\n",
        "regularizers=[\"DoubleBack\",\"SpectReg\"]\n",
        "\n",
        "model_params={\"Baseline\":{\"NoGR\":0,\"DoubleBack\":50,\"SpectReg\":0.01},\n",
        "              \"Batchnorm\":{\"NoGR\":0,\"DoubleBack\":0.001,\"SpectReg\":0.001},\n",
        "              \"Dropout\":{\"NoGR\":0,\"DoubleBack\":50,\"SpectReg\":0.01}}\n",
        "\n",
        "accuracy_dict={}\n",
        "for i in models:\n",
        "    k={}\n",
        "    for j in regularizers:\n",
        "        k[j]=[]\n",
        "    accuracy_dict[i]=k\n",
        "print(accuracy_dict)"
      ]
    },
    {
      "cell_type": "code",
      "execution_count": null,
      "metadata": {},
      "outputs": [
        {
          "name": "stdout",
          "output_type": "stream",
          "text": [
            "Model Name:Dropout, Regularizer: DoubleBack, Parameter: 50\n",
            "Iteration:0 seed:10\n"
          ]
        },
        {
          "name": "stderr",
          "output_type": "stream",
          "text": [
            "Trained: 100%|██████████| 250/250 [02:18<00:00,  1.81it/s]\n"
          ]
        },
        {
          "name": "stdout",
          "output_type": "stream",
          "text": [
            "Accuracy: 91.57\n",
            "Iteration:1 seed:20\n"
          ]
        },
        {
          "name": "stderr",
          "output_type": "stream",
          "text": [
            "Trained: 100%|██████████| 250/250 [02:18<00:00,  1.81it/s]\n"
          ]
        },
        {
          "name": "stdout",
          "output_type": "stream",
          "text": [
            "Accuracy: 91.91\n",
            "Iteration:2 seed:30\n"
          ]
        },
        {
          "name": "stderr",
          "output_type": "stream",
          "text": [
            "Trained: 100%|██████████| 250/250 [02:17<00:00,  1.82it/s]\n"
          ]
        },
        {
          "name": "stdout",
          "output_type": "stream",
          "text": [
            "Accuracy: 91.69\n",
            "Iteration:3 seed:40\n"
          ]
        },
        {
          "name": "stderr",
          "output_type": "stream",
          "text": [
            "Trained: 100%|██████████| 250/250 [02:17<00:00,  1.81it/s]\n"
          ]
        },
        {
          "name": "stdout",
          "output_type": "stream",
          "text": [
            "Accuracy: 91.39\n",
            "Iteration:4 seed:50\n"
          ]
        },
        {
          "name": "stderr",
          "output_type": "stream",
          "text": [
            "Trained: 100%|██████████| 250/250 [02:17<00:00,  1.82it/s]\n"
          ]
        },
        {
          "name": "stdout",
          "output_type": "stream",
          "text": [
            "Accuracy: 90.91\n",
            "Iteration:5 seed:60\n"
          ]
        },
        {
          "name": "stderr",
          "output_type": "stream",
          "text": [
            "Trained: 100%|██████████| 250/250 [02:17<00:00,  1.82it/s]\n"
          ]
        },
        {
          "name": "stdout",
          "output_type": "stream",
          "text": [
            "Accuracy: 90.93\n",
            "Iteration:6 seed:70\n"
          ]
        },
        {
          "name": "stderr",
          "output_type": "stream",
          "text": [
            "Trained: 100%|██████████| 250/250 [02:17<00:00,  1.82it/s]\n"
          ]
        },
        {
          "name": "stdout",
          "output_type": "stream",
          "text": [
            "Accuracy: 91.33\n",
            "Iteration:7 seed:80\n"
          ]
        },
        {
          "name": "stderr",
          "output_type": "stream",
          "text": [
            "Trained: 100%|██████████| 250/250 [02:17<00:00,  1.82it/s]\n"
          ]
        },
        {
          "name": "stdout",
          "output_type": "stream",
          "text": [
            "Accuracy: 91.41\n",
            "Iteration:8 seed:90\n"
          ]
        },
        {
          "name": "stderr",
          "output_type": "stream",
          "text": [
            "Trained: 100%|██████████| 250/250 [02:18<00:00,  1.81it/s]\n"
          ]
        },
        {
          "name": "stdout",
          "output_type": "stream",
          "text": [
            "Accuracy: 91.21\n",
            "Iteration:9 seed:100\n"
          ]
        },
        {
          "name": "stderr",
          "output_type": "stream",
          "text": [
            "Trained: 100%|██████████| 250/250 [02:17<00:00,  1.82it/s]\n"
          ]
        },
        {
          "name": "stdout",
          "output_type": "stream",
          "text": [
            "Accuracy: 90.71\n",
            "Mean Accuracy:91.30600000000001, STD: 0.35539274049985825\n",
            "\n",
            "Model Name:Dropout, Regularizer: SpectReg, Parameter: 0.01\n",
            "Iteration:0 seed:10\n"
          ]
        },
        {
          "name": "stderr",
          "output_type": "stream",
          "text": [
            "Trained: 100%|██████████| 250/250 [02:22<00:00,  1.75it/s]\n"
          ]
        },
        {
          "name": "stdout",
          "output_type": "stream",
          "text": [
            "Accuracy: 90.27\n",
            "Iteration:1 seed:20\n"
          ]
        },
        {
          "name": "stderr",
          "output_type": "stream",
          "text": [
            "Trained: 100%|██████████| 250/250 [02:22<00:00,  1.76it/s]\n"
          ]
        },
        {
          "name": "stdout",
          "output_type": "stream",
          "text": [
            "Accuracy: 92.12\n",
            "Iteration:2 seed:30\n"
          ]
        },
        {
          "name": "stderr",
          "output_type": "stream",
          "text": [
            "Trained: 100%|██████████| 250/250 [02:23<00:00,  1.74it/s]\n"
          ]
        },
        {
          "name": "stdout",
          "output_type": "stream",
          "text": [
            "Accuracy: 92.09\n",
            "Iteration:3 seed:40\n"
          ]
        },
        {
          "name": "stderr",
          "output_type": "stream",
          "text": [
            "Trained: 100%|██████████| 250/250 [02:22<00:00,  1.76it/s]\n"
          ]
        },
        {
          "name": "stdout",
          "output_type": "stream",
          "text": [
            "Accuracy: 92.09\n",
            "Iteration:4 seed:50\n"
          ]
        },
        {
          "name": "stderr",
          "output_type": "stream",
          "text": [
            "Trained: 100%|██████████| 250/250 [02:35<00:00,  1.61it/s]\n"
          ]
        },
        {
          "name": "stdout",
          "output_type": "stream",
          "text": [
            "Accuracy: 92.51\n",
            "Iteration:5 seed:60\n"
          ]
        },
        {
          "name": "stderr",
          "output_type": "stream",
          "text": [
            "Trained: 100%|██████████| 250/250 [02:32<00:00,  1.64it/s]\n"
          ]
        },
        {
          "name": "stdout",
          "output_type": "stream",
          "text": [
            "Accuracy: 91.71\n",
            "Iteration:6 seed:70\n"
          ]
        },
        {
          "name": "stderr",
          "output_type": "stream",
          "text": [
            "Trained: 100%|██████████| 250/250 [02:30<00:00,  1.66it/s]\n"
          ]
        },
        {
          "name": "stdout",
          "output_type": "stream",
          "text": [
            "Accuracy: 91.82\n",
            "Iteration:7 seed:80\n"
          ]
        },
        {
          "name": "stderr",
          "output_type": "stream",
          "text": [
            "Trained: 100%|██████████| 250/250 [02:24<00:00,  1.74it/s]\n"
          ]
        },
        {
          "name": "stdout",
          "output_type": "stream",
          "text": [
            "Accuracy: 90.78\n",
            "Iteration:8 seed:90\n"
          ]
        },
        {
          "name": "stderr",
          "output_type": "stream",
          "text": [
            "Trained: 100%|██████████| 250/250 [02:21<00:00,  1.76it/s]\n"
          ]
        },
        {
          "name": "stdout",
          "output_type": "stream",
          "text": [
            "Accuracy: 91.77\n",
            "Iteration:9 seed:100\n"
          ]
        },
        {
          "name": "stderr",
          "output_type": "stream",
          "text": [
            "Trained: 100%|██████████| 250/250 [02:21<00:00,  1.77it/s]\n"
          ]
        },
        {
          "name": "stdout",
          "output_type": "stream",
          "text": [
            "Accuracy: 91.35\n",
            "Mean Accuracy:91.651, STD: 0.6438858594502621\n",
            "\n"
          ]
        }
      ],
      "source": [
        "for model_name in models:\n",
        "    for reg in regularizers:\n",
        "            reg_parameter=model_params[model_name][reg]\n",
        "            print(f\"Model Name:{model_name}, Regularizer: {reg}, Parameter: {reg_parameter}\")\n",
        "            for i in range(10):\n",
        "                print(f\"Iteration:{i} seed:{seeds[i]}\")\n",
        "\n",
        "                if model_name==\"Baseline\":\n",
        "                    model=BaseModel(include_dropout=False).to(device)\n",
        "                elif model_name==\"Batchnorm\":\n",
        "                    model=BatchNormModel().to(device)\n",
        "                elif model_name== \"Dropout\":\n",
        "                    model=DropoutModel().to(device)\n",
        "\n",
        "                train_loader=get_subset_dataloader(data_train,seeds[i],num_samples_per_class,batch_size)\n",
        "                accuracy=train(model,train_loader,test_loader,num_samples_per_class,reg,reg_parameter)\n",
        "                accuracy_dict[model_name][reg].append(accuracy)\n",
        "                print(\"Accuracy:\",accuracy)\n",
        "\n",
        "            accuracy_list=accuracy_dict[model_name][reg]\n",
        "            print(f\"Mean Accuracy:{np.mean(accuracy_list)}, STD: {np.std(accuracy_list)}\")\n",
        "            print(\"\")"
      ]
    },
    {
      "cell_type": "markdown",
      "metadata": {
        "id": "YOOFH8vCeBdo"
      },
      "source": [
        "# Experiment C4: THE EFFECT OF TRAINING SET SIZE\n"
      ]
    },
    {
      "cell_type": "code",
      "execution_count": 20,
      "metadata": {},
      "outputs": [],
      "source": [
        "batch_size=50\n",
        "seeds=[10,20,30,40,50,60,70,80,90,100]"
      ]
    },
    {
      "cell_type": "code",
      "execution_count": 21,
      "metadata": {},
      "outputs": [],
      "source": [
        "def train(model,train_loader,test_loader,num_samples_per_class,regularizer,reg_parameter):\n",
        "    criterion=nn.CrossEntropyLoss()\n",
        "    opt=torch.optim.Adam(model.parameters(),lr=0.001,betas=(0.9,0.999),weight_decay=0.0005)\n",
        "    \n",
        "    num_epochs= int(10000/((num_samples_per_class*10)/batch_size))\n",
        "    # num_epochs=1\n",
        "    milestones = [int(0.5 * num_epochs), int(0.75 * num_epochs)]  \n",
        "    scheduler = MultiStepLR(opt, milestones=milestones, gamma=0.1)\n",
        "    \n",
        "    for epoch in tqdm(range(num_epochs),\"Trained\"):\n",
        "        for i, data in enumerate(train_loader):\n",
        "            inputs,label=data\n",
        "            inputs=inputs.to(device)\n",
        "            label=label.to(device)\n",
        "            opt.zero_grad()\n",
        "\n",
        "            if regularizer==\"SpectReg\":\n",
        "                loss = spectral_reg_loss(model, criterion, inputs, label, reg_parameter, 10)\n",
        "            elif regularizer==\"JacReg\":\n",
        "                loss = jac_reg_loss(model, criterion, inputs, label, reg_parameter)\n",
        "            elif regularizer==\"DoubleBack\":\n",
        "                loss = double_backprop_loss(model, criterion, inputs, label,reg_parameter)\n",
        "            elif regularizer=='ConfPenalty':\n",
        "                loss = conf_penalty_loss(model, criterion, inputs, label, reg_parameter)\n",
        "\n",
        "            loss.backward()\n",
        "            opt.step()\n",
        "    \n",
        "        scheduler.step()\n",
        "         \n",
        "    return Evaluate(test_loader,model)"
      ]
    },
    {
      "cell_type": "code",
      "execution_count": 22,
      "metadata": {},
      "outputs": [],
      "source": [
        "train_size=[500,1000,2000,3000,4000,5000,10000,15000,20000]\n",
        "doubleback_par=[50,50,50,20,20,20,5,2,2]\n",
        "spectreg_par=[0.03,0.03,0.03,0.03,0.03,0.003,0.01,0.01,0.001]\n",
        "jacreg_par=[0.3,0.03,1,1,1,1,1,1,0.3]\n",
        "cp_par=[0.01,0.01,0.01,0.01,0.01,0.1,0.1,0.01,0.03]\n",
        "\n",
        "regularizers=[\"DoubleBack\",\"SpectReg\",\"JacReg\",\"ConfPenalty\"]\n",
        "params={\"DoubleBack\":doubleback_par,\n",
        "        \"SpectReg\":spectreg_par,\n",
        "        \"JacReg\":jacreg_par,\n",
        "        \"ConfPenalty\":cp_par}\n",
        "\n",
        "accuracy_dict={}\n",
        "for i in train_size:\n",
        "    k={}\n",
        "    for j in regularizers:\n",
        "        k[j]=[]\n",
        "    accuracy_dict[i]=k\n"
      ]
    },
    {
      "cell_type": "code",
      "execution_count": 23,
      "metadata": {},
      "outputs": [
        {
          "name": "stdout",
          "output_type": "stream",
          "text": [
            "Train Size: 500, Regularizer: DoubleBack, Parameter: 50\n",
            "Iteration:0 seed:10\n"
          ]
        },
        {
          "name": "stderr",
          "output_type": "stream",
          "text": [
            "Trained: 100%|██████████| 1000/1000 [03:04<00:00,  5.41it/s]\n"
          ]
        },
        {
          "name": "stdout",
          "output_type": "stream",
          "text": [
            "Accuracy: 95.28\n",
            "Iteration:1 seed:20\n"
          ]
        },
        {
          "name": "stderr",
          "output_type": "stream",
          "text": [
            "Trained: 100%|██████████| 1000/1000 [03:28<00:00,  4.79it/s]\n"
          ]
        },
        {
          "name": "stdout",
          "output_type": "stream",
          "text": [
            "Accuracy: 94.44\n",
            "Iteration:2 seed:30\n"
          ]
        },
        {
          "name": "stderr",
          "output_type": "stream",
          "text": [
            "Trained: 100%|██████████| 1000/1000 [03:30<00:00,  4.76it/s]\n"
          ]
        },
        {
          "name": "stdout",
          "output_type": "stream",
          "text": [
            "Accuracy: 93.93\n",
            "Iteration:3 seed:40\n"
          ]
        },
        {
          "name": "stderr",
          "output_type": "stream",
          "text": [
            "Trained: 100%|██████████| 1000/1000 [03:30<00:00,  4.76it/s]\n"
          ]
        },
        {
          "name": "stdout",
          "output_type": "stream",
          "text": [
            "Accuracy: 93.71\n",
            "Iteration:4 seed:50\n"
          ]
        },
        {
          "name": "stderr",
          "output_type": "stream",
          "text": [
            "Trained: 100%|██████████| 1000/1000 [03:26<00:00,  4.85it/s]\n"
          ]
        },
        {
          "name": "stdout",
          "output_type": "stream",
          "text": [
            "Accuracy: 94.04\n",
            "Iteration:5 seed:60\n"
          ]
        },
        {
          "name": "stderr",
          "output_type": "stream",
          "text": [
            "Trained: 100%|██████████| 1000/1000 [03:26<00:00,  4.84it/s]\n"
          ]
        },
        {
          "name": "stdout",
          "output_type": "stream",
          "text": [
            "Accuracy: 94.21\n",
            "Iteration:6 seed:70\n"
          ]
        },
        {
          "name": "stderr",
          "output_type": "stream",
          "text": [
            "Trained: 100%|██████████| 1000/1000 [03:30<00:00,  4.76it/s]\n"
          ]
        },
        {
          "name": "stdout",
          "output_type": "stream",
          "text": [
            "Accuracy: 94.04\n",
            "Iteration:7 seed:80\n"
          ]
        },
        {
          "name": "stderr",
          "output_type": "stream",
          "text": [
            "Trained: 100%|██████████| 1000/1000 [03:29<00:00,  4.77it/s]\n"
          ]
        },
        {
          "name": "stdout",
          "output_type": "stream",
          "text": [
            "Accuracy: 94.06\n",
            "Iteration:8 seed:90\n"
          ]
        },
        {
          "name": "stderr",
          "output_type": "stream",
          "text": [
            "Trained: 100%|██████████| 1000/1000 [03:30<00:00,  4.75it/s]\n"
          ]
        },
        {
          "name": "stdout",
          "output_type": "stream",
          "text": [
            "Accuracy: 94.1\n",
            "Iteration:9 seed:100\n"
          ]
        },
        {
          "name": "stderr",
          "output_type": "stream",
          "text": [
            "Trained: 100%|██████████| 1000/1000 [03:25<00:00,  4.87it/s]\n"
          ]
        },
        {
          "name": "stdout",
          "output_type": "stream",
          "text": [
            "Accuracy: 93.91\n",
            "Mean Accuracy:94.172, STD: 0.4116017492674201\n",
            "\n",
            "Train Size: 500, Regularizer: SpectReg, Parameter: 0.03\n",
            "Iteration:0 seed:10\n"
          ]
        },
        {
          "name": "stderr",
          "output_type": "stream",
          "text": [
            "Trained: 100%|██████████| 1000/1000 [04:17<00:00,  3.89it/s]\n"
          ]
        },
        {
          "name": "stdout",
          "output_type": "stream",
          "text": [
            "Accuracy: 94.27\n",
            "Iteration:1 seed:20\n"
          ]
        },
        {
          "name": "stderr",
          "output_type": "stream",
          "text": [
            "Trained: 100%|██████████| 1000/1000 [04:36<00:00,  3.62it/s]\n"
          ]
        },
        {
          "name": "stdout",
          "output_type": "stream",
          "text": [
            "Accuracy: 94.04\n",
            "Iteration:2 seed:30\n"
          ]
        },
        {
          "name": "stderr",
          "output_type": "stream",
          "text": [
            "Trained: 100%|██████████| 1000/1000 [04:20<00:00,  3.83it/s]\n"
          ]
        },
        {
          "name": "stdout",
          "output_type": "stream",
          "text": [
            "Accuracy: 93.5\n",
            "Iteration:3 seed:40\n"
          ]
        },
        {
          "name": "stderr",
          "output_type": "stream",
          "text": [
            "Trained: 100%|██████████| 1000/1000 [04:16<00:00,  3.90it/s]\n"
          ]
        },
        {
          "name": "stdout",
          "output_type": "stream",
          "text": [
            "Accuracy: 93.92\n",
            "Iteration:4 seed:50\n"
          ]
        },
        {
          "name": "stderr",
          "output_type": "stream",
          "text": [
            "Trained: 100%|██████████| 1000/1000 [04:04<00:00,  4.09it/s]\n"
          ]
        },
        {
          "name": "stdout",
          "output_type": "stream",
          "text": [
            "Accuracy: 93.5\n",
            "Iteration:5 seed:60\n"
          ]
        },
        {
          "name": "stderr",
          "output_type": "stream",
          "text": [
            "Trained: 100%|██████████| 1000/1000 [04:04<00:00,  4.09it/s]\n"
          ]
        },
        {
          "name": "stdout",
          "output_type": "stream",
          "text": [
            "Accuracy: 94.74\n",
            "Iteration:6 seed:70\n"
          ]
        },
        {
          "name": "stderr",
          "output_type": "stream",
          "text": [
            "Trained: 100%|██████████| 1000/1000 [04:03<00:00,  4.11it/s]\n"
          ]
        },
        {
          "name": "stdout",
          "output_type": "stream",
          "text": [
            "Accuracy: 94.61\n",
            "Iteration:7 seed:80\n"
          ]
        },
        {
          "name": "stderr",
          "output_type": "stream",
          "text": [
            "Trained: 100%|██████████| 1000/1000 [04:16<00:00,  3.90it/s]\n"
          ]
        },
        {
          "name": "stdout",
          "output_type": "stream",
          "text": [
            "Accuracy: 94.16\n",
            "Iteration:8 seed:90\n"
          ]
        },
        {
          "name": "stderr",
          "output_type": "stream",
          "text": [
            "Trained: 100%|██████████| 1000/1000 [04:08<00:00,  4.02it/s]\n"
          ]
        },
        {
          "name": "stdout",
          "output_type": "stream",
          "text": [
            "Accuracy: 93.94\n",
            "Iteration:9 seed:100\n"
          ]
        },
        {
          "name": "stderr",
          "output_type": "stream",
          "text": [
            "Trained: 100%|██████████| 1000/1000 [04:34<00:00,  3.65it/s]\n"
          ]
        },
        {
          "name": "stdout",
          "output_type": "stream",
          "text": [
            "Accuracy: 93.96\n",
            "Mean Accuracy:94.06400000000001, STD: 0.38606217115899755\n",
            "\n",
            "Train Size: 500, Regularizer: JacReg, Parameter: 0.3\n",
            "Iteration:0 seed:10\n"
          ]
        },
        {
          "name": "stderr",
          "output_type": "stream",
          "text": [
            "Trained: 100%|██████████| 1000/1000 [04:30<00:00,  3.70it/s]\n"
          ]
        },
        {
          "name": "stdout",
          "output_type": "stream",
          "text": [
            "Accuracy: 93.5\n",
            "Iteration:1 seed:20\n"
          ]
        },
        {
          "name": "stderr",
          "output_type": "stream",
          "text": [
            "Trained: 100%|██████████| 1000/1000 [04:32<00:00,  3.67it/s]\n"
          ]
        },
        {
          "name": "stdout",
          "output_type": "stream",
          "text": [
            "Accuracy: 94.56\n",
            "Iteration:2 seed:30\n"
          ]
        },
        {
          "name": "stderr",
          "output_type": "stream",
          "text": [
            "Trained: 100%|██████████| 1000/1000 [04:19<00:00,  3.86it/s]\n"
          ]
        },
        {
          "name": "stdout",
          "output_type": "stream",
          "text": [
            "Accuracy: 94.27\n",
            "Iteration:3 seed:40\n"
          ]
        },
        {
          "name": "stderr",
          "output_type": "stream",
          "text": [
            "Trained: 100%|██████████| 1000/1000 [04:21<00:00,  3.82it/s]\n"
          ]
        },
        {
          "name": "stdout",
          "output_type": "stream",
          "text": [
            "Accuracy: 94.0\n",
            "Iteration:4 seed:50\n"
          ]
        },
        {
          "name": "stderr",
          "output_type": "stream",
          "text": [
            "Trained: 100%|██████████| 1000/1000 [04:18<00:00,  3.87it/s]\n"
          ]
        },
        {
          "name": "stdout",
          "output_type": "stream",
          "text": [
            "Accuracy: 93.27\n",
            "Iteration:5 seed:60\n"
          ]
        },
        {
          "name": "stderr",
          "output_type": "stream",
          "text": [
            "Trained: 100%|██████████| 1000/1000 [04:24<00:00,  3.78it/s]\n"
          ]
        },
        {
          "name": "stdout",
          "output_type": "stream",
          "text": [
            "Accuracy: 93.32\n",
            "Iteration:6 seed:70\n"
          ]
        },
        {
          "name": "stderr",
          "output_type": "stream",
          "text": [
            "Trained: 100%|██████████| 1000/1000 [04:02<00:00,  4.12it/s]\n"
          ]
        },
        {
          "name": "stdout",
          "output_type": "stream",
          "text": [
            "Accuracy: 94.23\n",
            "Iteration:7 seed:80\n"
          ]
        },
        {
          "name": "stderr",
          "output_type": "stream",
          "text": [
            "Trained: 100%|██████████| 1000/1000 [04:38<00:00,  3.59it/s]\n"
          ]
        },
        {
          "name": "stdout",
          "output_type": "stream",
          "text": [
            "Accuracy: 93.69\n",
            "Iteration:8 seed:90\n"
          ]
        },
        {
          "name": "stderr",
          "output_type": "stream",
          "text": [
            "Trained: 100%|██████████| 1000/1000 [04:24<00:00,  3.78it/s]\n"
          ]
        },
        {
          "name": "stdout",
          "output_type": "stream",
          "text": [
            "Accuracy: 93.52\n",
            "Iteration:9 seed:100\n"
          ]
        },
        {
          "name": "stderr",
          "output_type": "stream",
          "text": [
            "Trained: 100%|██████████| 1000/1000 [05:26<00:00,  3.06it/s]\n"
          ]
        },
        {
          "name": "stdout",
          "output_type": "stream",
          "text": [
            "Accuracy: 94.0\n",
            "Mean Accuracy:93.83599999999998, STD: 0.41740148538308025\n",
            "\n",
            "Train Size: 500, Regularizer: ConfPenalty, Parameter: 0.01\n",
            "Iteration:0 seed:10\n"
          ]
        },
        {
          "name": "stderr",
          "output_type": "stream",
          "text": [
            "Trained: 100%|██████████| 1000/1000 [03:49<00:00,  4.35it/s]\n"
          ]
        },
        {
          "name": "stdout",
          "output_type": "stream",
          "text": [
            "Accuracy: 94.06\n",
            "Iteration:1 seed:20\n"
          ]
        },
        {
          "name": "stderr",
          "output_type": "stream",
          "text": [
            "Trained: 100%|██████████| 1000/1000 [03:42<00:00,  4.50it/s]\n"
          ]
        },
        {
          "name": "stdout",
          "output_type": "stream",
          "text": [
            "Accuracy: 94.48\n",
            "Iteration:2 seed:30\n"
          ]
        },
        {
          "name": "stderr",
          "output_type": "stream",
          "text": [
            "Trained: 100%|██████████| 1000/1000 [03:23<00:00,  4.90it/s]\n"
          ]
        },
        {
          "name": "stdout",
          "output_type": "stream",
          "text": [
            "Accuracy: 93.46\n",
            "Iteration:3 seed:40\n"
          ]
        },
        {
          "name": "stderr",
          "output_type": "stream",
          "text": [
            "Trained: 100%|██████████| 1000/1000 [03:13<00:00,  5.17it/s]\n"
          ]
        },
        {
          "name": "stdout",
          "output_type": "stream",
          "text": [
            "Accuracy: 94.06\n",
            "Iteration:4 seed:50\n"
          ]
        },
        {
          "name": "stderr",
          "output_type": "stream",
          "text": [
            "Trained: 100%|██████████| 1000/1000 [03:10<00:00,  5.25it/s]\n"
          ]
        },
        {
          "name": "stdout",
          "output_type": "stream",
          "text": [
            "Accuracy: 93.84\n",
            "Iteration:5 seed:60\n"
          ]
        },
        {
          "name": "stderr",
          "output_type": "stream",
          "text": [
            "Trained: 100%|██████████| 1000/1000 [03:01<00:00,  5.52it/s]\n"
          ]
        },
        {
          "name": "stdout",
          "output_type": "stream",
          "text": [
            "Accuracy: 93.74\n",
            "Iteration:6 seed:70\n"
          ]
        },
        {
          "name": "stderr",
          "output_type": "stream",
          "text": [
            "Trained: 100%|██████████| 1000/1000 [02:46<00:00,  6.00it/s]\n"
          ]
        },
        {
          "name": "stdout",
          "output_type": "stream",
          "text": [
            "Accuracy: 94.64\n",
            "Iteration:7 seed:80\n"
          ]
        },
        {
          "name": "stderr",
          "output_type": "stream",
          "text": [
            "Trained: 100%|██████████| 1000/1000 [02:45<00:00,  6.04it/s]\n"
          ]
        },
        {
          "name": "stdout",
          "output_type": "stream",
          "text": [
            "Accuracy: 94.07\n",
            "Iteration:8 seed:90\n"
          ]
        },
        {
          "name": "stderr",
          "output_type": "stream",
          "text": [
            "Trained: 100%|██████████| 1000/1000 [02:44<00:00,  6.10it/s]\n"
          ]
        },
        {
          "name": "stdout",
          "output_type": "stream",
          "text": [
            "Accuracy: 93.51\n",
            "Iteration:9 seed:100\n"
          ]
        },
        {
          "name": "stderr",
          "output_type": "stream",
          "text": [
            "Trained: 100%|██████████| 1000/1000 [02:42<00:00,  6.17it/s]\n"
          ]
        },
        {
          "name": "stdout",
          "output_type": "stream",
          "text": [
            "Accuracy: 94.67\n",
            "Mean Accuracy:94.05299999999998, STD: 0.41204490046595765\n",
            "\n",
            "Train Size: 1000, Regularizer: DoubleBack, Parameter: 50\n",
            "Iteration:0 seed:10\n"
          ]
        },
        {
          "name": "stderr",
          "output_type": "stream",
          "text": [
            "Trained: 100%|██████████| 500/500 [03:07<00:00,  2.66it/s]\n"
          ]
        },
        {
          "name": "stdout",
          "output_type": "stream",
          "text": [
            "Accuracy: 95.49\n",
            "Iteration:1 seed:20\n"
          ]
        },
        {
          "name": "stderr",
          "output_type": "stream",
          "text": [
            "Trained: 100%|██████████| 500/500 [03:07<00:00,  2.67it/s]\n"
          ]
        },
        {
          "name": "stdout",
          "output_type": "stream",
          "text": [
            "Accuracy: 95.63\n",
            "Iteration:2 seed:30\n"
          ]
        },
        {
          "name": "stderr",
          "output_type": "stream",
          "text": [
            "Trained: 100%|██████████| 500/500 [03:09<00:00,  2.64it/s]\n"
          ]
        },
        {
          "name": "stdout",
          "output_type": "stream",
          "text": [
            "Accuracy: 95.33\n",
            "Iteration:3 seed:40\n"
          ]
        },
        {
          "name": "stderr",
          "output_type": "stream",
          "text": [
            "Trained: 100%|██████████| 500/500 [03:10<00:00,  2.63it/s]\n"
          ]
        },
        {
          "name": "stdout",
          "output_type": "stream",
          "text": [
            "Accuracy: 95.36\n",
            "Iteration:4 seed:50\n"
          ]
        },
        {
          "name": "stderr",
          "output_type": "stream",
          "text": [
            "Trained: 100%|██████████| 500/500 [03:11<00:00,  2.61it/s]\n"
          ]
        },
        {
          "name": "stdout",
          "output_type": "stream",
          "text": [
            "Accuracy: 95.27\n",
            "Iteration:5 seed:60\n"
          ]
        },
        {
          "name": "stderr",
          "output_type": "stream",
          "text": [
            "Trained: 100%|██████████| 500/500 [03:35<00:00,  2.32it/s]\n"
          ]
        },
        {
          "name": "stdout",
          "output_type": "stream",
          "text": [
            "Accuracy: 95.76\n",
            "Iteration:6 seed:70\n"
          ]
        },
        {
          "name": "stderr",
          "output_type": "stream",
          "text": [
            "Trained: 100%|██████████| 500/500 [03:39<00:00,  2.28it/s]\n"
          ]
        },
        {
          "name": "stdout",
          "output_type": "stream",
          "text": [
            "Accuracy: 95.91\n",
            "Iteration:7 seed:80\n"
          ]
        },
        {
          "name": "stderr",
          "output_type": "stream",
          "text": [
            "Trained: 100%|██████████| 500/500 [03:32<00:00,  2.35it/s]\n"
          ]
        },
        {
          "name": "stdout",
          "output_type": "stream",
          "text": [
            "Accuracy: 95.64\n",
            "Iteration:8 seed:90\n"
          ]
        },
        {
          "name": "stderr",
          "output_type": "stream",
          "text": [
            "Trained: 100%|██████████| 500/500 [03:30<00:00,  2.37it/s]\n"
          ]
        },
        {
          "name": "stdout",
          "output_type": "stream",
          "text": [
            "Accuracy: 95.26\n",
            "Iteration:9 seed:100\n"
          ]
        },
        {
          "name": "stderr",
          "output_type": "stream",
          "text": [
            "Trained: 100%|██████████| 500/500 [03:40<00:00,  2.26it/s]\n"
          ]
        },
        {
          "name": "stdout",
          "output_type": "stream",
          "text": [
            "Accuracy: 95.79\n",
            "Mean Accuracy:95.54400000000001, STD: 0.22271955459725645\n",
            "\n",
            "Train Size: 1000, Regularizer: SpectReg, Parameter: 0.03\n",
            "Iteration:0 seed:10\n"
          ]
        },
        {
          "name": "stderr",
          "output_type": "stream",
          "text": [
            "Trained: 100%|██████████| 500/500 [04:39<00:00,  1.79it/s]\n"
          ]
        },
        {
          "name": "stdout",
          "output_type": "stream",
          "text": [
            "Accuracy: 94.88\n",
            "Iteration:1 seed:20\n"
          ]
        },
        {
          "name": "stderr",
          "output_type": "stream",
          "text": [
            "Trained: 100%|██████████| 500/500 [04:24<00:00,  1.89it/s]\n"
          ]
        },
        {
          "name": "stdout",
          "output_type": "stream",
          "text": [
            "Accuracy: 95.25\n",
            "Iteration:2 seed:30\n"
          ]
        },
        {
          "name": "stderr",
          "output_type": "stream",
          "text": [
            "Trained: 100%|██████████| 500/500 [04:40<00:00,  1.78it/s]\n"
          ]
        },
        {
          "name": "stdout",
          "output_type": "stream",
          "text": [
            "Accuracy: 95.24\n",
            "Iteration:3 seed:40\n"
          ]
        },
        {
          "name": "stderr",
          "output_type": "stream",
          "text": [
            "Trained: 100%|██████████| 500/500 [04:22<00:00,  1.91it/s]\n"
          ]
        },
        {
          "name": "stdout",
          "output_type": "stream",
          "text": [
            "Accuracy: 95.48\n",
            "Iteration:4 seed:50\n"
          ]
        },
        {
          "name": "stderr",
          "output_type": "stream",
          "text": [
            "Trained: 100%|██████████| 500/500 [04:07<00:00,  2.02it/s]\n"
          ]
        },
        {
          "name": "stdout",
          "output_type": "stream",
          "text": [
            "Accuracy: 95.47\n",
            "Iteration:5 seed:60\n"
          ]
        },
        {
          "name": "stderr",
          "output_type": "stream",
          "text": [
            "Trained: 100%|██████████| 500/500 [04:03<00:00,  2.05it/s]\n"
          ]
        },
        {
          "name": "stdout",
          "output_type": "stream",
          "text": [
            "Accuracy: 95.88\n",
            "Iteration:6 seed:70\n"
          ]
        },
        {
          "name": "stderr",
          "output_type": "stream",
          "text": [
            "Trained: 100%|██████████| 500/500 [03:46<00:00,  2.21it/s]\n"
          ]
        },
        {
          "name": "stdout",
          "output_type": "stream",
          "text": [
            "Accuracy: 95.03\n",
            "Iteration:7 seed:80\n"
          ]
        },
        {
          "name": "stderr",
          "output_type": "stream",
          "text": [
            "Trained: 100%|██████████| 500/500 [03:56<00:00,  2.12it/s]\n"
          ]
        },
        {
          "name": "stdout",
          "output_type": "stream",
          "text": [
            "Accuracy: 95.95\n",
            "Iteration:8 seed:90\n"
          ]
        },
        {
          "name": "stderr",
          "output_type": "stream",
          "text": [
            "Trained: 100%|██████████| 500/500 [04:13<00:00,  1.97it/s]\n"
          ]
        },
        {
          "name": "stdout",
          "output_type": "stream",
          "text": [
            "Accuracy: 95.78\n",
            "Iteration:9 seed:100\n"
          ]
        },
        {
          "name": "stderr",
          "output_type": "stream",
          "text": [
            "Trained: 100%|██████████| 500/500 [04:13<00:00,  1.97it/s]\n"
          ]
        },
        {
          "name": "stdout",
          "output_type": "stream",
          "text": [
            "Accuracy: 95.7\n",
            "Mean Accuracy:95.46600000000001, STD: 0.34502753513306844\n",
            "\n",
            "Train Size: 1000, Regularizer: JacReg, Parameter: 0.03\n",
            "Iteration:0 seed:10\n"
          ]
        },
        {
          "name": "stderr",
          "output_type": "stream",
          "text": [
            "Trained: 100%|██████████| 500/500 [04:09<00:00,  2.00it/s]\n"
          ]
        },
        {
          "name": "stdout",
          "output_type": "stream",
          "text": [
            "Accuracy: 95.18\n",
            "Iteration:1 seed:20\n"
          ]
        },
        {
          "name": "stderr",
          "output_type": "stream",
          "text": [
            "Trained: 100%|██████████| 500/500 [04:06<00:00,  2.03it/s]\n"
          ]
        },
        {
          "name": "stdout",
          "output_type": "stream",
          "text": [
            "Accuracy: 94.94\n",
            "Iteration:2 seed:30\n"
          ]
        },
        {
          "name": "stderr",
          "output_type": "stream",
          "text": [
            "Trained: 100%|██████████| 500/500 [04:29<00:00,  1.85it/s]\n"
          ]
        },
        {
          "name": "stdout",
          "output_type": "stream",
          "text": [
            "Accuracy: 95.87\n",
            "Iteration:3 seed:40\n"
          ]
        },
        {
          "name": "stderr",
          "output_type": "stream",
          "text": [
            "Trained: 100%|██████████| 500/500 [04:36<00:00,  1.81it/s]\n"
          ]
        },
        {
          "name": "stdout",
          "output_type": "stream",
          "text": [
            "Accuracy: 95.26\n",
            "Iteration:4 seed:50\n"
          ]
        },
        {
          "name": "stderr",
          "output_type": "stream",
          "text": [
            "Trained: 100%|██████████| 500/500 [04:38<00:00,  1.80it/s]\n"
          ]
        },
        {
          "name": "stdout",
          "output_type": "stream",
          "text": [
            "Accuracy: 95.71\n",
            "Iteration:5 seed:60\n"
          ]
        },
        {
          "name": "stderr",
          "output_type": "stream",
          "text": [
            "Trained: 100%|██████████| 500/500 [04:37<00:00,  1.80it/s]\n"
          ]
        },
        {
          "name": "stdout",
          "output_type": "stream",
          "text": [
            "Accuracy: 95.88\n",
            "Iteration:6 seed:70\n"
          ]
        },
        {
          "name": "stderr",
          "output_type": "stream",
          "text": [
            "Trained: 100%|██████████| 500/500 [05:09<00:00,  1.62it/s]\n"
          ]
        },
        {
          "name": "stdout",
          "output_type": "stream",
          "text": [
            "Accuracy: 94.84\n",
            "Iteration:7 seed:80\n"
          ]
        },
        {
          "name": "stderr",
          "output_type": "stream",
          "text": [
            "Trained: 100%|██████████| 500/500 [04:30<00:00,  1.85it/s]\n"
          ]
        },
        {
          "name": "stdout",
          "output_type": "stream",
          "text": [
            "Accuracy: 95.34\n",
            "Iteration:8 seed:90\n"
          ]
        },
        {
          "name": "stderr",
          "output_type": "stream",
          "text": [
            "Trained: 100%|██████████| 500/500 [04:29<00:00,  1.86it/s]\n"
          ]
        },
        {
          "name": "stdout",
          "output_type": "stream",
          "text": [
            "Accuracy: 95.15\n",
            "Iteration:9 seed:100\n"
          ]
        },
        {
          "name": "stderr",
          "output_type": "stream",
          "text": [
            "Trained: 100%|██████████| 500/500 [04:47<00:00,  1.74it/s]\n"
          ]
        },
        {
          "name": "stdout",
          "output_type": "stream",
          "text": [
            "Accuracy: 95.46\n",
            "Mean Accuracy:95.363, STD: 0.345920511100453\n",
            "\n",
            "Train Size: 1000, Regularizer: ConfPenalty, Parameter: 0.01\n",
            "Iteration:0 seed:10\n"
          ]
        },
        {
          "name": "stderr",
          "output_type": "stream",
          "text": [
            "Trained: 100%|██████████| 500/500 [03:21<00:00,  2.48it/s]\n"
          ]
        },
        {
          "name": "stdout",
          "output_type": "stream",
          "text": [
            "Accuracy: 95.36\n",
            "Iteration:1 seed:20\n"
          ]
        },
        {
          "name": "stderr",
          "output_type": "stream",
          "text": [
            "Trained: 100%|██████████| 500/500 [03:05<00:00,  2.69it/s]\n"
          ]
        },
        {
          "name": "stdout",
          "output_type": "stream",
          "text": [
            "Accuracy: 95.57\n",
            "Iteration:2 seed:30\n"
          ]
        },
        {
          "name": "stderr",
          "output_type": "stream",
          "text": [
            "Trained: 100%|██████████| 500/500 [03:16<00:00,  2.55it/s]\n"
          ]
        },
        {
          "name": "stdout",
          "output_type": "stream",
          "text": [
            "Accuracy: 95.92\n",
            "Iteration:3 seed:40\n"
          ]
        },
        {
          "name": "stderr",
          "output_type": "stream",
          "text": [
            "Trained: 100%|██████████| 500/500 [03:00<00:00,  2.77it/s]\n"
          ]
        },
        {
          "name": "stdout",
          "output_type": "stream",
          "text": [
            "Accuracy: 96.11\n",
            "Iteration:4 seed:50\n"
          ]
        },
        {
          "name": "stderr",
          "output_type": "stream",
          "text": [
            "Trained: 100%|██████████| 500/500 [03:22<00:00,  2.47it/s]\n"
          ]
        },
        {
          "name": "stdout",
          "output_type": "stream",
          "text": [
            "Accuracy: 94.91\n",
            "Iteration:5 seed:60\n"
          ]
        },
        {
          "name": "stderr",
          "output_type": "stream",
          "text": [
            "Trained: 100%|██████████| 500/500 [03:23<00:00,  2.46it/s]\n"
          ]
        },
        {
          "name": "stdout",
          "output_type": "stream",
          "text": [
            "Accuracy: 95.53\n",
            "Iteration:6 seed:70\n"
          ]
        },
        {
          "name": "stderr",
          "output_type": "stream",
          "text": [
            "Trained: 100%|██████████| 500/500 [03:21<00:00,  2.48it/s]\n"
          ]
        },
        {
          "name": "stdout",
          "output_type": "stream",
          "text": [
            "Accuracy: 95.56\n",
            "Iteration:7 seed:80\n"
          ]
        },
        {
          "name": "stderr",
          "output_type": "stream",
          "text": [
            "Trained: 100%|██████████| 500/500 [03:33<00:00,  2.34it/s]\n"
          ]
        },
        {
          "name": "stdout",
          "output_type": "stream",
          "text": [
            "Accuracy: 95.78\n",
            "Iteration:8 seed:90\n"
          ]
        },
        {
          "name": "stderr",
          "output_type": "stream",
          "text": [
            "Trained: 100%|██████████| 500/500 [03:24<00:00,  2.44it/s]\n"
          ]
        },
        {
          "name": "stdout",
          "output_type": "stream",
          "text": [
            "Accuracy: 95.6\n",
            "Iteration:9 seed:100\n"
          ]
        },
        {
          "name": "stderr",
          "output_type": "stream",
          "text": [
            "Trained: 100%|██████████| 500/500 [03:10<00:00,  2.62it/s]\n"
          ]
        },
        {
          "name": "stdout",
          "output_type": "stream",
          "text": [
            "Accuracy: 95.49\n",
            "Mean Accuracy:95.583, STD: 0.30744267758396954\n",
            "\n",
            "Train Size: 2000, Regularizer: DoubleBack, Parameter: 50\n",
            "Iteration:0 seed:10\n"
          ]
        },
        {
          "name": "stderr",
          "output_type": "stream",
          "text": [
            "Trained: 100%|██████████| 250/250 [03:48<00:00,  1.09it/s]\n"
          ]
        },
        {
          "name": "stdout",
          "output_type": "stream",
          "text": [
            "Accuracy: 96.17\n",
            "Iteration:1 seed:20\n"
          ]
        },
        {
          "name": "stderr",
          "output_type": "stream",
          "text": [
            "Trained: 100%|██████████| 250/250 [03:46<00:00,  1.10it/s]\n"
          ]
        },
        {
          "name": "stdout",
          "output_type": "stream",
          "text": [
            "Accuracy: 96.77\n",
            "Iteration:2 seed:30\n"
          ]
        },
        {
          "name": "stderr",
          "output_type": "stream",
          "text": [
            "Trained: 100%|██████████| 250/250 [03:55<00:00,  1.06it/s]\n"
          ]
        },
        {
          "name": "stdout",
          "output_type": "stream",
          "text": [
            "Accuracy: 96.35\n",
            "Iteration:3 seed:40\n"
          ]
        },
        {
          "name": "stderr",
          "output_type": "stream",
          "text": [
            "Trained: 100%|██████████| 250/250 [03:48<00:00,  1.09it/s]\n"
          ]
        },
        {
          "name": "stdout",
          "output_type": "stream",
          "text": [
            "Accuracy: 96.48\n",
            "Iteration:4 seed:50\n"
          ]
        },
        {
          "name": "stderr",
          "output_type": "stream",
          "text": [
            "Trained: 100%|██████████| 250/250 [03:45<00:00,  1.11it/s]\n"
          ]
        },
        {
          "name": "stdout",
          "output_type": "stream",
          "text": [
            "Accuracy: 96.8\n",
            "Iteration:5 seed:60\n"
          ]
        },
        {
          "name": "stderr",
          "output_type": "stream",
          "text": [
            "Trained: 100%|██████████| 250/250 [03:54<00:00,  1.07it/s]\n"
          ]
        },
        {
          "name": "stdout",
          "output_type": "stream",
          "text": [
            "Accuracy: 96.64\n",
            "Iteration:6 seed:70\n"
          ]
        },
        {
          "name": "stderr",
          "output_type": "stream",
          "text": [
            "Trained: 100%|██████████| 250/250 [04:05<00:00,  1.02it/s]\n"
          ]
        },
        {
          "name": "stdout",
          "output_type": "stream",
          "text": [
            "Accuracy: 96.56\n",
            "Iteration:7 seed:80\n"
          ]
        },
        {
          "name": "stderr",
          "output_type": "stream",
          "text": [
            "Trained: 100%|██████████| 250/250 [04:05<00:00,  1.02it/s]\n"
          ]
        },
        {
          "name": "stdout",
          "output_type": "stream",
          "text": [
            "Accuracy: 96.65\n",
            "Iteration:8 seed:90\n"
          ]
        },
        {
          "name": "stderr",
          "output_type": "stream",
          "text": [
            "Trained: 100%|██████████| 250/250 [03:57<00:00,  1.05it/s]\n"
          ]
        },
        {
          "name": "stdout",
          "output_type": "stream",
          "text": [
            "Accuracy: 96.64\n",
            "Iteration:9 seed:100\n"
          ]
        },
        {
          "name": "stderr",
          "output_type": "stream",
          "text": [
            "Trained: 100%|██████████| 250/250 [04:00<00:00,  1.04it/s]\n"
          ]
        },
        {
          "name": "stdout",
          "output_type": "stream",
          "text": [
            "Accuracy: 96.56\n",
            "Mean Accuracy:96.56199999999998, STD: 0.18032193432857763\n",
            "\n",
            "Train Size: 2000, Regularizer: SpectReg, Parameter: 0.03\n",
            "Iteration:0 seed:10\n"
          ]
        },
        {
          "name": "stderr",
          "output_type": "stream",
          "text": [
            "Trained: 100%|██████████| 250/250 [04:38<00:00,  1.11s/it]\n"
          ]
        },
        {
          "name": "stdout",
          "output_type": "stream",
          "text": [
            "Accuracy: 95.9\n",
            "Iteration:1 seed:20\n"
          ]
        },
        {
          "name": "stderr",
          "output_type": "stream",
          "text": [
            "Trained: 100%|██████████| 250/250 [04:41<00:00,  1.13s/it]\n"
          ]
        },
        {
          "name": "stdout",
          "output_type": "stream",
          "text": [
            "Accuracy: 96.24\n",
            "Iteration:2 seed:30\n"
          ]
        },
        {
          "name": "stderr",
          "output_type": "stream",
          "text": [
            "Trained: 100%|██████████| 250/250 [04:41<00:00,  1.13s/it]\n"
          ]
        },
        {
          "name": "stdout",
          "output_type": "stream",
          "text": [
            "Accuracy: 96.68\n",
            "Iteration:3 seed:40\n"
          ]
        },
        {
          "name": "stderr",
          "output_type": "stream",
          "text": [
            "Trained: 100%|██████████| 250/250 [04:44<00:00,  1.14s/it]\n"
          ]
        },
        {
          "name": "stdout",
          "output_type": "stream",
          "text": [
            "Accuracy: 96.62\n",
            "Iteration:4 seed:50\n"
          ]
        },
        {
          "name": "stderr",
          "output_type": "stream",
          "text": [
            "Trained: 100%|██████████| 250/250 [04:42<00:00,  1.13s/it]\n"
          ]
        },
        {
          "name": "stdout",
          "output_type": "stream",
          "text": [
            "Accuracy: 96.37\n",
            "Iteration:5 seed:60\n"
          ]
        },
        {
          "name": "stderr",
          "output_type": "stream",
          "text": [
            "Trained: 100%|██████████| 250/250 [04:18<00:00,  1.03s/it]\n"
          ]
        },
        {
          "name": "stdout",
          "output_type": "stream",
          "text": [
            "Accuracy: 96.53\n",
            "Iteration:6 seed:70\n"
          ]
        },
        {
          "name": "stderr",
          "output_type": "stream",
          "text": [
            "Trained: 100%|██████████| 250/250 [04:07<00:00,  1.01it/s]\n"
          ]
        },
        {
          "name": "stdout",
          "output_type": "stream",
          "text": [
            "Accuracy: 96.36\n",
            "Iteration:7 seed:80\n"
          ]
        },
        {
          "name": "stderr",
          "output_type": "stream",
          "text": [
            "Trained: 100%|██████████| 250/250 [04:38<00:00,  1.11s/it]\n"
          ]
        },
        {
          "name": "stdout",
          "output_type": "stream",
          "text": [
            "Accuracy: 96.71\n",
            "Iteration:8 seed:90\n"
          ]
        },
        {
          "name": "stderr",
          "output_type": "stream",
          "text": [
            "Trained: 100%|██████████| 250/250 [04:24<00:00,  1.06s/it]\n"
          ]
        },
        {
          "name": "stdout",
          "output_type": "stream",
          "text": [
            "Accuracy: 96.7\n",
            "Iteration:9 seed:100\n"
          ]
        },
        {
          "name": "stderr",
          "output_type": "stream",
          "text": [
            "Trained: 100%|██████████| 250/250 [04:26<00:00,  1.06s/it]\n"
          ]
        },
        {
          "name": "stdout",
          "output_type": "stream",
          "text": [
            "Accuracy: 96.56\n",
            "Mean Accuracy:96.46700000000001, STD: 0.24261286033514345\n",
            "\n",
            "Train Size: 2000, Regularizer: JacReg, Parameter: 1\n",
            "Iteration:0 seed:10\n"
          ]
        },
        {
          "name": "stderr",
          "output_type": "stream",
          "text": [
            "Trained: 100%|██████████| 250/250 [04:45<00:00,  1.14s/it]\n"
          ]
        },
        {
          "name": "stdout",
          "output_type": "stream",
          "text": [
            "Accuracy: 96.49\n",
            "Iteration:1 seed:20\n"
          ]
        },
        {
          "name": "stderr",
          "output_type": "stream",
          "text": [
            "Trained: 100%|██████████| 250/250 [04:18<00:00,  1.03s/it]\n"
          ]
        },
        {
          "name": "stdout",
          "output_type": "stream",
          "text": [
            "Accuracy: 96.4\n",
            "Iteration:2 seed:30\n"
          ]
        },
        {
          "name": "stderr",
          "output_type": "stream",
          "text": [
            "Trained: 100%|██████████| 250/250 [04:35<00:00,  1.10s/it]\n"
          ]
        },
        {
          "name": "stdout",
          "output_type": "stream",
          "text": [
            "Accuracy: 96.7\n",
            "Iteration:3 seed:40\n"
          ]
        },
        {
          "name": "stderr",
          "output_type": "stream",
          "text": [
            "Trained: 100%|██████████| 250/250 [04:18<00:00,  1.03s/it]\n"
          ]
        },
        {
          "name": "stdout",
          "output_type": "stream",
          "text": [
            "Accuracy: 96.76\n",
            "Iteration:4 seed:50\n"
          ]
        },
        {
          "name": "stderr",
          "output_type": "stream",
          "text": [
            "Trained: 100%|██████████| 250/250 [04:23<00:00,  1.06s/it]\n"
          ]
        },
        {
          "name": "stdout",
          "output_type": "stream",
          "text": [
            "Accuracy: 96.66\n",
            "Iteration:5 seed:60\n"
          ]
        },
        {
          "name": "stderr",
          "output_type": "stream",
          "text": [
            "Trained: 100%|██████████| 250/250 [04:21<00:00,  1.05s/it]\n"
          ]
        },
        {
          "name": "stdout",
          "output_type": "stream",
          "text": [
            "Accuracy: 96.42\n",
            "Iteration:6 seed:70\n"
          ]
        },
        {
          "name": "stderr",
          "output_type": "stream",
          "text": [
            "Trained: 100%|██████████| 250/250 [04:17<00:00,  1.03s/it]\n"
          ]
        },
        {
          "name": "stdout",
          "output_type": "stream",
          "text": [
            "Accuracy: 96.55\n",
            "Iteration:7 seed:80\n"
          ]
        },
        {
          "name": "stderr",
          "output_type": "stream",
          "text": [
            "Trained: 100%|██████████| 250/250 [04:25<00:00,  1.06s/it]\n"
          ]
        },
        {
          "name": "stdout",
          "output_type": "stream",
          "text": [
            "Accuracy: 96.59\n",
            "Iteration:8 seed:90\n"
          ]
        },
        {
          "name": "stderr",
          "output_type": "stream",
          "text": [
            "Trained: 100%|██████████| 250/250 [04:25<00:00,  1.06s/it]\n"
          ]
        },
        {
          "name": "stdout",
          "output_type": "stream",
          "text": [
            "Accuracy: 96.5\n",
            "Iteration:9 seed:100\n"
          ]
        },
        {
          "name": "stderr",
          "output_type": "stream",
          "text": [
            "Trained: 100%|██████████| 250/250 [04:33<00:00,  1.10s/it]\n"
          ]
        },
        {
          "name": "stdout",
          "output_type": "stream",
          "text": [
            "Accuracy: 96.87\n",
            "Mean Accuracy:96.594, STD: 0.14451297519600198\n",
            "\n",
            "Train Size: 2000, Regularizer: ConfPenalty, Parameter: 0.01\n",
            "Iteration:0 seed:10\n"
          ]
        },
        {
          "name": "stderr",
          "output_type": "stream",
          "text": [
            "Trained: 100%|██████████| 250/250 [03:08<00:00,  1.32it/s]\n"
          ]
        },
        {
          "name": "stdout",
          "output_type": "stream",
          "text": [
            "Accuracy: 96.48\n",
            "Iteration:1 seed:20\n"
          ]
        },
        {
          "name": "stderr",
          "output_type": "stream",
          "text": [
            "Trained: 100%|██████████| 250/250 [03:01<00:00,  1.38it/s]\n"
          ]
        },
        {
          "name": "stdout",
          "output_type": "stream",
          "text": [
            "Accuracy: 96.62\n",
            "Iteration:2 seed:30\n"
          ]
        },
        {
          "name": "stderr",
          "output_type": "stream",
          "text": [
            "Trained: 100%|██████████| 250/250 [03:04<00:00,  1.36it/s]\n"
          ]
        },
        {
          "name": "stdout",
          "output_type": "stream",
          "text": [
            "Accuracy: 96.63\n",
            "Iteration:3 seed:40\n"
          ]
        },
        {
          "name": "stderr",
          "output_type": "stream",
          "text": [
            "Trained: 100%|██████████| 250/250 [03:01<00:00,  1.37it/s]\n"
          ]
        },
        {
          "name": "stdout",
          "output_type": "stream",
          "text": [
            "Accuracy: 96.64\n",
            "Iteration:4 seed:50\n"
          ]
        },
        {
          "name": "stderr",
          "output_type": "stream",
          "text": [
            "Trained: 100%|██████████| 250/250 [03:06<00:00,  1.34it/s]\n"
          ]
        },
        {
          "name": "stdout",
          "output_type": "stream",
          "text": [
            "Accuracy: 96.79\n",
            "Iteration:5 seed:60\n"
          ]
        },
        {
          "name": "stderr",
          "output_type": "stream",
          "text": [
            "Trained: 100%|██████████| 250/250 [02:59<00:00,  1.39it/s]\n"
          ]
        },
        {
          "name": "stdout",
          "output_type": "stream",
          "text": [
            "Accuracy: 96.53\n",
            "Iteration:6 seed:70\n"
          ]
        },
        {
          "name": "stderr",
          "output_type": "stream",
          "text": [
            "Trained: 100%|██████████| 250/250 [02:57<00:00,  1.41it/s]\n"
          ]
        },
        {
          "name": "stdout",
          "output_type": "stream",
          "text": [
            "Accuracy: 96.4\n",
            "Iteration:7 seed:80\n"
          ]
        },
        {
          "name": "stderr",
          "output_type": "stream",
          "text": [
            "Trained: 100%|██████████| 250/250 [02:53<00:00,  1.44it/s]\n"
          ]
        },
        {
          "name": "stdout",
          "output_type": "stream",
          "text": [
            "Accuracy: 96.82\n",
            "Iteration:8 seed:90\n"
          ]
        },
        {
          "name": "stderr",
          "output_type": "stream",
          "text": [
            "Trained: 100%|██████████| 250/250 [02:50<00:00,  1.46it/s]\n"
          ]
        },
        {
          "name": "stdout",
          "output_type": "stream",
          "text": [
            "Accuracy: 96.71\n",
            "Iteration:9 seed:100\n"
          ]
        },
        {
          "name": "stderr",
          "output_type": "stream",
          "text": [
            "Trained: 100%|██████████| 250/250 [03:01<00:00,  1.38it/s]\n"
          ]
        },
        {
          "name": "stdout",
          "output_type": "stream",
          "text": [
            "Accuracy: 96.4\n",
            "Mean Accuracy:96.602, STD: 0.1409822683886141\n",
            "\n",
            "Train Size: 3000, Regularizer: DoubleBack, Parameter: 20\n",
            "Iteration:0 seed:10\n"
          ]
        },
        {
          "name": "stderr",
          "output_type": "stream",
          "text": [
            "Trained: 100%|██████████| 166/166 [03:28<00:00,  1.26s/it]\n"
          ]
        },
        {
          "name": "stdout",
          "output_type": "stream",
          "text": [
            "Accuracy: 96.94\n",
            "Iteration:1 seed:20\n"
          ]
        },
        {
          "name": "stderr",
          "output_type": "stream",
          "text": [
            "Trained:  32%|███▏      | 53/166 [01:04<02:18,  1.22s/it]\n"
          ]
        },
        {
          "ename": "KeyboardInterrupt",
          "evalue": "",
          "output_type": "error",
          "traceback": [
            "\u001b[1;31m---------------------------------------------------------------------------\u001b[0m",
            "\u001b[1;31mKeyboardInterrupt\u001b[0m                         Traceback (most recent call last)",
            "Cell \u001b[1;32mIn[23], line 10\u001b[0m\n\u001b[0;32m      8\u001b[0m model\u001b[38;5;241m=\u001b[39mBaseModel(include_dropout\u001b[38;5;241m=\u001b[39m\u001b[38;5;28;01mTrue\u001b[39;00m)\u001b[38;5;241m.\u001b[39mto(device)\n\u001b[0;32m      9\u001b[0m train_loader\u001b[38;5;241m=\u001b[39mget_subset_dataloader(data_train,seeds[i],num_samples_per_class,batch_size)\n\u001b[1;32m---> 10\u001b[0m accuracy\u001b[38;5;241m=\u001b[39m\u001b[43mtrain\u001b[49m\u001b[43m(\u001b[49m\u001b[43mmodel\u001b[49m\u001b[43m,\u001b[49m\u001b[43mtrain_loader\u001b[49m\u001b[43m,\u001b[49m\u001b[43mtest_loader\u001b[49m\u001b[43m,\u001b[49m\u001b[43mnum_samples_per_class\u001b[49m\u001b[43m,\u001b[49m\u001b[43mreg\u001b[49m\u001b[43m,\u001b[49m\u001b[43mreg_parameter\u001b[49m\u001b[43m)\u001b[49m\n\u001b[0;32m     11\u001b[0m accuracy_dict[size][reg]\u001b[38;5;241m.\u001b[39mappend(accuracy)\n\u001b[0;32m     12\u001b[0m \u001b[38;5;28mprint\u001b[39m(\u001b[38;5;124m\"\u001b[39m\u001b[38;5;124mAccuracy:\u001b[39m\u001b[38;5;124m\"\u001b[39m,accuracy)\n",
            "Cell \u001b[1;32mIn[21], line 22\u001b[0m, in \u001b[0;36mtrain\u001b[1;34m(model, train_loader, test_loader, num_samples_per_class, regularizer, reg_parameter)\u001b[0m\n\u001b[0;32m     20\u001b[0m     loss \u001b[38;5;241m=\u001b[39m jac_reg_loss(model, criterion, inputs, label, reg_parameter)\n\u001b[0;32m     21\u001b[0m \u001b[38;5;28;01melif\u001b[39;00m regularizer\u001b[38;5;241m==\u001b[39m\u001b[38;5;124m\"\u001b[39m\u001b[38;5;124mDoubleBack\u001b[39m\u001b[38;5;124m\"\u001b[39m:\n\u001b[1;32m---> 22\u001b[0m     loss \u001b[38;5;241m=\u001b[39m \u001b[43mdouble_backprop_loss\u001b[49m\u001b[43m(\u001b[49m\u001b[43mmodel\u001b[49m\u001b[43m,\u001b[49m\u001b[43m \u001b[49m\u001b[43mcriterion\u001b[49m\u001b[43m,\u001b[49m\u001b[43m \u001b[49m\u001b[43minputs\u001b[49m\u001b[43m,\u001b[49m\u001b[43m \u001b[49m\u001b[43mlabel\u001b[49m\u001b[43m,\u001b[49m\u001b[43mreg_parameter\u001b[49m\u001b[43m)\u001b[49m\n\u001b[0;32m     23\u001b[0m \u001b[38;5;28;01melif\u001b[39;00m regularizer\u001b[38;5;241m==\u001b[39m\u001b[38;5;124m'\u001b[39m\u001b[38;5;124mConfPenalty\u001b[39m\u001b[38;5;124m'\u001b[39m:\n\u001b[0;32m     24\u001b[0m     loss \u001b[38;5;241m=\u001b[39m conf_penalty_loss(model, criterion, inputs, label, reg_parameter)\n",
            "Cell \u001b[1;32mIn[14], line 8\u001b[0m, in \u001b[0;36mdouble_backprop_loss\u001b[1;34m(model, criterion, inputs, targets, lambda_double_backprop)\u001b[0m\n\u001b[0;32m      6\u001b[0m model\u001b[38;5;241m.\u001b[39mzero_grad()\n\u001b[0;32m      7\u001b[0m loss\u001b[38;5;241m.\u001b[39mbackward(retain_graph\u001b[38;5;241m=\u001b[39m\u001b[38;5;28;01mTrue\u001b[39;00m)\n\u001b[1;32m----> 8\u001b[0m grad_loss \u001b[38;5;241m=\u001b[39m \u001b[43mtorch\u001b[49m\u001b[38;5;241;43m.\u001b[39;49m\u001b[43mcat\u001b[49m\u001b[43m(\u001b[49m\u001b[43m[\u001b[49m\u001b[43mparam\u001b[49m\u001b[38;5;241;43m.\u001b[39;49m\u001b[43mgrad\u001b[49m\u001b[38;5;241;43m.\u001b[39;49m\u001b[43mflatten\u001b[49m\u001b[43m(\u001b[49m\u001b[43m)\u001b[49m\u001b[43m \u001b[49m\u001b[38;5;28;43;01mfor\u001b[39;49;00m\u001b[43m \u001b[49m\u001b[43mparam\u001b[49m\u001b[43m \u001b[49m\u001b[38;5;129;43;01min\u001b[39;49;00m\u001b[43m \u001b[49m\u001b[43mmodel\u001b[49m\u001b[38;5;241;43m.\u001b[39;49m\u001b[43mparameters\u001b[49m\u001b[43m(\u001b[49m\u001b[43m)\u001b[49m\u001b[43m]\u001b[49m\u001b[43m)\u001b[49m\n\u001b[0;32m     10\u001b[0m \u001b[38;5;66;03m# Compute squared L2 norm of the gradient\u001b[39;00m\n\u001b[0;32m     11\u001b[0m double_backprop_term \u001b[38;5;241m=\u001b[39m lambda_double_backprop \u001b[38;5;241m*\u001b[39m torch\u001b[38;5;241m.\u001b[39mnorm(grad_loss, p\u001b[38;5;241m=\u001b[39m\u001b[38;5;241m2\u001b[39m)\u001b[38;5;241m*\u001b[39m\u001b[38;5;241m*\u001b[39m\u001b[38;5;241m2\u001b[39m\n",
            "\u001b[1;31mKeyboardInterrupt\u001b[0m: "
          ]
        }
      ],
      "source": [
        "for index,size in enumerate(train_size):\n",
        "    num_samples_per_class=size//10\n",
        "    for reg in regularizers:\n",
        "        reg_parameter=params[reg][index]\n",
        "        print(f\"Train Size: {size}, Regularizer: {reg}, Parameter: {reg_parameter}\")\n",
        "        for i in range(10):\n",
        "            print(f\"Iteration:{i} seed:{seeds[i]}\")\n",
        "            model=BaseModel(include_dropout=True).to(device)\n",
        "            train_loader=get_subset_dataloader(data_train,seeds[i],num_samples_per_class,batch_size)\n",
        "            accuracy=train(model,train_loader,test_loader,num_samples_per_class,reg,reg_parameter)\n",
        "            accuracy_dict[size][reg].append(accuracy)\n",
        "            print(\"Accuracy:\",accuracy)\n",
        "        accuracy_list=accuracy_dict[size][reg]\n",
        "        print(f\"Mean Accuracy:{np.mean(accuracy_list)}, STD: {np.std(accuracy_list)}\")\n",
        "        print(\"\")"
      ]
    },
    {
      "cell_type": "code",
      "execution_count": null,
      "metadata": {},
      "outputs": [],
      "source": [
        "train_size=[3000,4000]\n",
        "doubleback_par=[20,20]\n",
        "spectreg_par=[0.03,0.03]\n",
        "jacreg_par=[1,1]\n",
        "cp_par=[0.01,0.01]\n",
        "\n",
        "regularizers=[\"DoubleBack\",\"SpectReg\",\"JacReg\",\"ConfPenalty\"]\n",
        "params={\"DoubleBack\":doubleback_par,\n",
        "        \"SpectReg\":spectreg_par,\n",
        "        \"JacReg\":jacreg_par,\n",
        "        \"ConfPenalty\":cp_par}\n",
        "\n",
        "accuracy_dict={}\n",
        "for i in train_size:\n",
        "    k={}\n",
        "    for j in regularizers:\n",
        "        k[j]=[]\n",
        "    accuracy_dict[i]=k\n"
      ]
    },
    {
      "cell_type": "code",
      "execution_count": null,
      "metadata": {},
      "outputs": [
        {
          "name": "stdout",
          "output_type": "stream",
          "text": [
            "Train Size: 3000, Regularizer: DoubleBack, Parameter: 20\n",
            "Iteration:0 seed:10\n"
          ]
        },
        {
          "name": "stderr",
          "output_type": "stream",
          "text": [
            "Trained: 100%|██████████| 166/166 [02:18<00:00,  1.20it/s]\n"
          ]
        },
        {
          "name": "stdout",
          "output_type": "stream",
          "text": [
            "Accuracy: 96.93\n",
            "Iteration:1 seed:20\n"
          ]
        },
        {
          "name": "stderr",
          "output_type": "stream",
          "text": [
            "Trained: 100%|██████████| 166/166 [02:20<00:00,  1.18it/s]\n"
          ]
        },
        {
          "name": "stdout",
          "output_type": "stream",
          "text": [
            "Accuracy: 97.16\n",
            "Iteration:2 seed:30\n"
          ]
        },
        {
          "name": "stderr",
          "output_type": "stream",
          "text": [
            "Trained: 100%|██████████| 166/166 [02:17<00:00,  1.21it/s]\n"
          ]
        },
        {
          "name": "stdout",
          "output_type": "stream",
          "text": [
            "Accuracy: 97.27\n",
            "Iteration:3 seed:40\n"
          ]
        },
        {
          "name": "stderr",
          "output_type": "stream",
          "text": [
            "Trained: 100%|██████████| 166/166 [02:16<00:00,  1.22it/s]\n"
          ]
        },
        {
          "name": "stdout",
          "output_type": "stream",
          "text": [
            "Accuracy: 96.77\n",
            "Iteration:4 seed:50\n"
          ]
        },
        {
          "name": "stderr",
          "output_type": "stream",
          "text": [
            "Trained: 100%|██████████| 166/166 [02:17<00:00,  1.21it/s]\n"
          ]
        },
        {
          "name": "stdout",
          "output_type": "stream",
          "text": [
            "Accuracy: 97.55\n",
            "Iteration:5 seed:60\n"
          ]
        },
        {
          "name": "stderr",
          "output_type": "stream",
          "text": [
            "Trained: 100%|██████████| 166/166 [02:17<00:00,  1.20it/s]\n"
          ]
        },
        {
          "name": "stdout",
          "output_type": "stream",
          "text": [
            "Accuracy: 97.15\n",
            "Iteration:6 seed:70\n"
          ]
        },
        {
          "name": "stderr",
          "output_type": "stream",
          "text": [
            "Trained: 100%|██████████| 166/166 [02:17<00:00,  1.21it/s]\n"
          ]
        },
        {
          "name": "stdout",
          "output_type": "stream",
          "text": [
            "Accuracy: 96.93\n",
            "Iteration:7 seed:80\n"
          ]
        },
        {
          "name": "stderr",
          "output_type": "stream",
          "text": [
            "Trained: 100%|██████████| 166/166 [02:16<00:00,  1.22it/s]\n"
          ]
        },
        {
          "name": "stdout",
          "output_type": "stream",
          "text": [
            "Accuracy: 97.1\n",
            "Iteration:8 seed:90\n"
          ]
        },
        {
          "name": "stderr",
          "output_type": "stream",
          "text": [
            "Trained: 100%|██████████| 166/166 [02:19<00:00,  1.19it/s]\n"
          ]
        },
        {
          "name": "stdout",
          "output_type": "stream",
          "text": [
            "Accuracy: 97.32\n",
            "Iteration:9 seed:100\n"
          ]
        },
        {
          "name": "stderr",
          "output_type": "stream",
          "text": [
            "Trained: 100%|██████████| 166/166 [02:17<00:00,  1.20it/s]\n"
          ]
        },
        {
          "name": "stdout",
          "output_type": "stream",
          "text": [
            "Accuracy: 96.96\n",
            "Mean Accuracy:97.114, STD: 0.21685017869487525\n",
            "\n",
            "Train Size: 3000, Regularizer: SpectReg, Parameter: 0.03\n",
            "Iteration:0 seed:10\n"
          ]
        },
        {
          "name": "stderr",
          "output_type": "stream",
          "text": [
            "Trained: 100%|██████████| 166/166 [02:23<00:00,  1.16it/s]\n"
          ]
        },
        {
          "name": "stdout",
          "output_type": "stream",
          "text": [
            "Accuracy: 97.09\n",
            "Iteration:1 seed:20\n"
          ]
        },
        {
          "name": "stderr",
          "output_type": "stream",
          "text": [
            "Trained: 100%|██████████| 166/166 [02:22<00:00,  1.16it/s]\n"
          ]
        },
        {
          "name": "stdout",
          "output_type": "stream",
          "text": [
            "Accuracy: 96.75\n",
            "Iteration:2 seed:30\n"
          ]
        },
        {
          "name": "stderr",
          "output_type": "stream",
          "text": [
            "Trained: 100%|██████████| 166/166 [02:29<00:00,  1.11it/s]\n"
          ]
        },
        {
          "name": "stdout",
          "output_type": "stream",
          "text": [
            "Accuracy: 97.2\n",
            "Iteration:3 seed:40\n"
          ]
        },
        {
          "name": "stderr",
          "output_type": "stream",
          "text": [
            "Trained: 100%|██████████| 166/166 [02:31<00:00,  1.10it/s]\n"
          ]
        },
        {
          "name": "stdout",
          "output_type": "stream",
          "text": [
            "Accuracy: 97.16\n",
            "Iteration:4 seed:50\n"
          ]
        },
        {
          "name": "stderr",
          "output_type": "stream",
          "text": [
            "Trained: 100%|██████████| 166/166 [02:31<00:00,  1.10it/s]\n"
          ]
        },
        {
          "name": "stdout",
          "output_type": "stream",
          "text": [
            "Accuracy: 96.44\n",
            "Iteration:5 seed:60\n"
          ]
        },
        {
          "name": "stderr",
          "output_type": "stream",
          "text": [
            "Trained: 100%|██████████| 166/166 [02:31<00:00,  1.10it/s]\n"
          ]
        },
        {
          "name": "stdout",
          "output_type": "stream",
          "text": [
            "Accuracy: 97.24\n",
            "Iteration:6 seed:70\n"
          ]
        },
        {
          "name": "stderr",
          "output_type": "stream",
          "text": [
            "Trained: 100%|██████████| 166/166 [02:31<00:00,  1.10it/s]\n"
          ]
        },
        {
          "name": "stdout",
          "output_type": "stream",
          "text": [
            "Accuracy: 97.15\n",
            "Iteration:7 seed:80\n"
          ]
        },
        {
          "name": "stderr",
          "output_type": "stream",
          "text": [
            "Trained: 100%|██████████| 166/166 [02:34<00:00,  1.08it/s]\n"
          ]
        },
        {
          "name": "stdout",
          "output_type": "stream",
          "text": [
            "Accuracy: 96.75\n",
            "Iteration:8 seed:90\n"
          ]
        },
        {
          "name": "stderr",
          "output_type": "stream",
          "text": [
            "Trained: 100%|██████████| 166/166 [02:32<00:00,  1.09it/s]\n"
          ]
        },
        {
          "name": "stdout",
          "output_type": "stream",
          "text": [
            "Accuracy: 97.29\n",
            "Iteration:9 seed:100\n"
          ]
        },
        {
          "name": "stderr",
          "output_type": "stream",
          "text": [
            "Trained: 100%|██████████| 166/166 [02:30<00:00,  1.10it/s]\n"
          ]
        },
        {
          "name": "stdout",
          "output_type": "stream",
          "text": [
            "Accuracy: 96.61\n",
            "Mean Accuracy:96.968, STD: 0.28606992152269467\n",
            "\n",
            "Train Size: 3000, Regularizer: JacReg, Parameter: 1\n",
            "Iteration:0 seed:10\n"
          ]
        },
        {
          "name": "stderr",
          "output_type": "stream",
          "text": [
            "Trained: 100%|██████████| 166/166 [02:29<00:00,  1.11it/s]\n"
          ]
        },
        {
          "name": "stdout",
          "output_type": "stream",
          "text": [
            "Accuracy: 96.97\n",
            "Iteration:1 seed:20\n"
          ]
        },
        {
          "name": "stderr",
          "output_type": "stream",
          "text": [
            "Trained: 100%|██████████| 166/166 [02:30<00:00,  1.10it/s]\n"
          ]
        },
        {
          "name": "stdout",
          "output_type": "stream",
          "text": [
            "Accuracy: 96.66\n",
            "Iteration:2 seed:30\n"
          ]
        },
        {
          "name": "stderr",
          "output_type": "stream",
          "text": [
            "Trained: 100%|██████████| 166/166 [02:28<00:00,  1.12it/s]\n"
          ]
        },
        {
          "name": "stdout",
          "output_type": "stream",
          "text": [
            "Accuracy: 96.91\n",
            "Iteration:3 seed:40\n"
          ]
        },
        {
          "name": "stderr",
          "output_type": "stream",
          "text": [
            "Trained: 100%|██████████| 166/166 [02:29<00:00,  1.11it/s]\n"
          ]
        },
        {
          "name": "stdout",
          "output_type": "stream",
          "text": [
            "Accuracy: 97.06\n",
            "Iteration:4 seed:50\n"
          ]
        },
        {
          "name": "stderr",
          "output_type": "stream",
          "text": [
            "Trained: 100%|██████████| 166/166 [02:29<00:00,  1.11it/s]\n"
          ]
        },
        {
          "name": "stdout",
          "output_type": "stream",
          "text": [
            "Accuracy: 97.25\n",
            "Iteration:5 seed:60\n"
          ]
        },
        {
          "name": "stderr",
          "output_type": "stream",
          "text": [
            "Trained: 100%|██████████| 166/166 [02:28<00:00,  1.12it/s]\n"
          ]
        },
        {
          "name": "stdout",
          "output_type": "stream",
          "text": [
            "Accuracy: 97.34\n",
            "Iteration:6 seed:70\n"
          ]
        },
        {
          "name": "stderr",
          "output_type": "stream",
          "text": [
            "Trained: 100%|██████████| 166/166 [02:27<00:00,  1.12it/s]\n"
          ]
        },
        {
          "name": "stdout",
          "output_type": "stream",
          "text": [
            "Accuracy: 97.01\n",
            "Iteration:7 seed:80\n"
          ]
        },
        {
          "name": "stderr",
          "output_type": "stream",
          "text": [
            "Trained: 100%|██████████| 166/166 [02:27<00:00,  1.12it/s]\n"
          ]
        },
        {
          "name": "stdout",
          "output_type": "stream",
          "text": [
            "Accuracy: 96.99\n",
            "Iteration:8 seed:90\n"
          ]
        },
        {
          "name": "stderr",
          "output_type": "stream",
          "text": [
            "Trained: 100%|██████████| 166/166 [02:27<00:00,  1.12it/s]\n"
          ]
        },
        {
          "name": "stdout",
          "output_type": "stream",
          "text": [
            "Accuracy: 96.92\n",
            "Iteration:9 seed:100\n"
          ]
        },
        {
          "name": "stderr",
          "output_type": "stream",
          "text": [
            "Trained: 100%|██████████| 166/166 [02:28<00:00,  1.11it/s]\n"
          ]
        },
        {
          "name": "stdout",
          "output_type": "stream",
          "text": [
            "Accuracy: 96.7\n",
            "Mean Accuracy:96.98100000000001, STD: 0.19982242116439386\n",
            "\n",
            "Train Size: 3000, Regularizer: ConfPenalty, Parameter: 0.01\n",
            "Iteration:0 seed:10\n"
          ]
        },
        {
          "name": "stderr",
          "output_type": "stream",
          "text": [
            "Trained: 100%|██████████| 166/166 [02:16<00:00,  1.22it/s]\n"
          ]
        },
        {
          "name": "stdout",
          "output_type": "stream",
          "text": [
            "Accuracy: 97.16\n",
            "Iteration:1 seed:20\n"
          ]
        },
        {
          "name": "stderr",
          "output_type": "stream",
          "text": [
            "Trained: 100%|██████████| 166/166 [02:15<00:00,  1.22it/s]\n"
          ]
        },
        {
          "name": "stdout",
          "output_type": "stream",
          "text": [
            "Accuracy: 97.05\n",
            "Iteration:2 seed:30\n"
          ]
        },
        {
          "name": "stderr",
          "output_type": "stream",
          "text": [
            "Trained: 100%|██████████| 166/166 [02:16<00:00,  1.22it/s]\n"
          ]
        },
        {
          "name": "stdout",
          "output_type": "stream",
          "text": [
            "Accuracy: 96.89\n",
            "Iteration:3 seed:40\n"
          ]
        },
        {
          "name": "stderr",
          "output_type": "stream",
          "text": [
            "Trained: 100%|██████████| 166/166 [02:16<00:00,  1.22it/s]\n"
          ]
        },
        {
          "name": "stdout",
          "output_type": "stream",
          "text": [
            "Accuracy: 97.06\n",
            "Iteration:4 seed:50\n"
          ]
        },
        {
          "name": "stderr",
          "output_type": "stream",
          "text": [
            "Trained: 100%|██████████| 166/166 [02:16<00:00,  1.22it/s]\n"
          ]
        },
        {
          "name": "stdout",
          "output_type": "stream",
          "text": [
            "Accuracy: 97.3\n",
            "Iteration:5 seed:60\n"
          ]
        },
        {
          "name": "stderr",
          "output_type": "stream",
          "text": [
            "Trained: 100%|██████████| 166/166 [02:15<00:00,  1.22it/s]\n"
          ]
        },
        {
          "name": "stdout",
          "output_type": "stream",
          "text": [
            "Accuracy: 96.95\n",
            "Iteration:6 seed:70\n"
          ]
        },
        {
          "name": "stderr",
          "output_type": "stream",
          "text": [
            "Trained: 100%|██████████| 166/166 [02:16<00:00,  1.21it/s]\n"
          ]
        },
        {
          "name": "stdout",
          "output_type": "stream",
          "text": [
            "Accuracy: 96.9\n",
            "Iteration:7 seed:80\n"
          ]
        },
        {
          "name": "stderr",
          "output_type": "stream",
          "text": [
            "Trained: 100%|██████████| 166/166 [02:15<00:00,  1.23it/s]\n"
          ]
        },
        {
          "name": "stdout",
          "output_type": "stream",
          "text": [
            "Accuracy: 97.17\n",
            "Iteration:8 seed:90\n"
          ]
        },
        {
          "name": "stderr",
          "output_type": "stream",
          "text": [
            "Trained: 100%|██████████| 166/166 [02:15<00:00,  1.22it/s]\n"
          ]
        },
        {
          "name": "stdout",
          "output_type": "stream",
          "text": [
            "Accuracy: 96.74\n",
            "Iteration:9 seed:100\n"
          ]
        },
        {
          "name": "stderr",
          "output_type": "stream",
          "text": [
            "Trained: 100%|██████████| 166/166 [02:08<00:00,  1.30it/s]\n"
          ]
        },
        {
          "name": "stdout",
          "output_type": "stream",
          "text": [
            "Accuracy: 97.32\n",
            "Mean Accuracy:97.054, STD: 0.1777751388693018\n",
            "\n",
            "Train Size: 4000, Regularizer: DoubleBack, Parameter: 20\n",
            "Iteration:0 seed:10\n"
          ]
        },
        {
          "name": "stderr",
          "output_type": "stream",
          "text": [
            "Trained: 100%|██████████| 125/125 [02:16<00:00,  1.10s/it]\n"
          ]
        },
        {
          "name": "stdout",
          "output_type": "stream",
          "text": [
            "Accuracy: 97.23\n",
            "Iteration:1 seed:20\n"
          ]
        },
        {
          "name": "stderr",
          "output_type": "stream",
          "text": [
            "Trained: 100%|██████████| 125/125 [02:17<00:00,  1.10s/it]\n"
          ]
        },
        {
          "name": "stdout",
          "output_type": "stream",
          "text": [
            "Accuracy: 97.45\n",
            "Iteration:2 seed:30\n"
          ]
        },
        {
          "name": "stderr",
          "output_type": "stream",
          "text": [
            "Trained: 100%|██████████| 125/125 [02:15<00:00,  1.09s/it]\n"
          ]
        },
        {
          "name": "stdout",
          "output_type": "stream",
          "text": [
            "Accuracy: 97.1\n",
            "Iteration:3 seed:40\n"
          ]
        },
        {
          "name": "stderr",
          "output_type": "stream",
          "text": [
            "Trained: 100%|██████████| 125/125 [02:16<00:00,  1.09s/it]\n"
          ]
        },
        {
          "name": "stdout",
          "output_type": "stream",
          "text": [
            "Accuracy: 97.36\n",
            "Iteration:4 seed:50\n"
          ]
        },
        {
          "name": "stderr",
          "output_type": "stream",
          "text": [
            "Trained: 100%|██████████| 125/125 [02:16<00:00,  1.09s/it]\n"
          ]
        },
        {
          "name": "stdout",
          "output_type": "stream",
          "text": [
            "Accuracy: 97.28\n",
            "Iteration:5 seed:60\n"
          ]
        },
        {
          "name": "stderr",
          "output_type": "stream",
          "text": [
            "Trained: 100%|██████████| 125/125 [02:16<00:00,  1.09s/it]\n"
          ]
        },
        {
          "name": "stdout",
          "output_type": "stream",
          "text": [
            "Accuracy: 97.25\n",
            "Iteration:6 seed:70\n"
          ]
        },
        {
          "name": "stderr",
          "output_type": "stream",
          "text": [
            "Trained: 100%|██████████| 125/125 [02:16<00:00,  1.09s/it]\n"
          ]
        },
        {
          "name": "stdout",
          "output_type": "stream",
          "text": [
            "Accuracy: 96.96\n",
            "Iteration:7 seed:80\n"
          ]
        },
        {
          "name": "stderr",
          "output_type": "stream",
          "text": [
            "Trained: 100%|██████████| 125/125 [02:17<00:00,  1.10s/it]\n"
          ]
        },
        {
          "name": "stdout",
          "output_type": "stream",
          "text": [
            "Accuracy: 97.37\n",
            "Iteration:8 seed:90\n"
          ]
        },
        {
          "name": "stderr",
          "output_type": "stream",
          "text": [
            "Trained: 100%|██████████| 125/125 [02:16<00:00,  1.10s/it]\n"
          ]
        },
        {
          "name": "stdout",
          "output_type": "stream",
          "text": [
            "Accuracy: 97.52\n",
            "Iteration:9 seed:100\n"
          ]
        },
        {
          "name": "stderr",
          "output_type": "stream",
          "text": [
            "Trained: 100%|██████████| 125/125 [02:15<00:00,  1.09s/it]\n"
          ]
        },
        {
          "name": "stdout",
          "output_type": "stream",
          "text": [
            "Accuracy: 97.54\n",
            "Mean Accuracy:97.306, STD: 0.17321662737739948\n",
            "\n",
            "Train Size: 4000, Regularizer: SpectReg, Parameter: 0.03\n",
            "Iteration:0 seed:10\n"
          ]
        },
        {
          "name": "stderr",
          "output_type": "stream",
          "text": [
            "Trained: 100%|██████████| 125/125 [02:19<00:00,  1.12s/it]\n"
          ]
        },
        {
          "name": "stdout",
          "output_type": "stream",
          "text": [
            "Accuracy: 96.95\n",
            "Iteration:1 seed:20\n"
          ]
        },
        {
          "name": "stderr",
          "output_type": "stream",
          "text": [
            "Trained: 100%|██████████| 125/125 [02:18<00:00,  1.11s/it]\n"
          ]
        },
        {
          "name": "stdout",
          "output_type": "stream",
          "text": [
            "Accuracy: 97.3\n",
            "Iteration:2 seed:30\n"
          ]
        },
        {
          "name": "stderr",
          "output_type": "stream",
          "text": [
            "Trained: 100%|██████████| 125/125 [02:18<00:00,  1.11s/it]\n"
          ]
        },
        {
          "name": "stdout",
          "output_type": "stream",
          "text": [
            "Accuracy: 97.16\n",
            "Iteration:3 seed:40\n"
          ]
        },
        {
          "name": "stderr",
          "output_type": "stream",
          "text": [
            "Trained: 100%|██████████| 125/125 [02:18<00:00,  1.11s/it]\n"
          ]
        },
        {
          "name": "stdout",
          "output_type": "stream",
          "text": [
            "Accuracy: 97.61\n",
            "Iteration:4 seed:50\n"
          ]
        },
        {
          "name": "stderr",
          "output_type": "stream",
          "text": [
            "Trained: 100%|██████████| 125/125 [02:18<00:00,  1.11s/it]\n"
          ]
        },
        {
          "name": "stdout",
          "output_type": "stream",
          "text": [
            "Accuracy: 97.49\n",
            "Iteration:5 seed:60\n"
          ]
        },
        {
          "name": "stderr",
          "output_type": "stream",
          "text": [
            "Trained: 100%|██████████| 125/125 [02:18<00:00,  1.11s/it]\n"
          ]
        },
        {
          "name": "stdout",
          "output_type": "stream",
          "text": [
            "Accuracy: 97.4\n",
            "Iteration:6 seed:70\n"
          ]
        },
        {
          "name": "stderr",
          "output_type": "stream",
          "text": [
            "Trained: 100%|██████████| 125/125 [02:18<00:00,  1.11s/it]\n"
          ]
        },
        {
          "name": "stdout",
          "output_type": "stream",
          "text": [
            "Accuracy: 97.54\n",
            "Iteration:7 seed:80\n"
          ]
        },
        {
          "name": "stderr",
          "output_type": "stream",
          "text": [
            "Trained: 100%|██████████| 125/125 [02:18<00:00,  1.11s/it]\n"
          ]
        },
        {
          "name": "stdout",
          "output_type": "stream",
          "text": [
            "Accuracy: 97.3\n",
            "Iteration:8 seed:90\n"
          ]
        },
        {
          "name": "stderr",
          "output_type": "stream",
          "text": [
            "Trained: 100%|██████████| 125/125 [02:17<00:00,  1.10s/it]\n"
          ]
        },
        {
          "name": "stdout",
          "output_type": "stream",
          "text": [
            "Accuracy: 97.39\n",
            "Iteration:9 seed:100\n"
          ]
        },
        {
          "name": "stderr",
          "output_type": "stream",
          "text": [
            "Trained: 100%|██████████| 125/125 [02:18<00:00,  1.11s/it]\n"
          ]
        },
        {
          "name": "stdout",
          "output_type": "stream",
          "text": [
            "Accuracy: 97.49\n",
            "Mean Accuracy:97.363, STD: 0.18612092843095307\n",
            "\n",
            "Train Size: 4000, Regularizer: JacReg, Parameter: 1\n",
            "Iteration:0 seed:10\n"
          ]
        },
        {
          "name": "stderr",
          "output_type": "stream",
          "text": [
            "Trained: 100%|██████████| 125/125 [02:18<00:00,  1.11s/it]\n"
          ]
        },
        {
          "name": "stdout",
          "output_type": "stream",
          "text": [
            "Accuracy: 97.1\n",
            "Iteration:1 seed:20\n"
          ]
        },
        {
          "name": "stderr",
          "output_type": "stream",
          "text": [
            "Trained: 100%|██████████| 125/125 [02:24<00:00,  1.15s/it]\n"
          ]
        },
        {
          "name": "stdout",
          "output_type": "stream",
          "text": [
            "Accuracy: 97.2\n",
            "Iteration:2 seed:30\n"
          ]
        },
        {
          "name": "stderr",
          "output_type": "stream",
          "text": [
            "Trained: 100%|██████████| 125/125 [02:21<00:00,  1.13s/it]\n"
          ]
        },
        {
          "name": "stdout",
          "output_type": "stream",
          "text": [
            "Accuracy: 97.27\n",
            "Iteration:3 seed:40\n"
          ]
        },
        {
          "name": "stderr",
          "output_type": "stream",
          "text": [
            "Trained: 100%|██████████| 125/125 [02:17<00:00,  1.10s/it]\n"
          ]
        },
        {
          "name": "stdout",
          "output_type": "stream",
          "text": [
            "Accuracy: 97.33\n",
            "Iteration:4 seed:50\n"
          ]
        },
        {
          "name": "stderr",
          "output_type": "stream",
          "text": [
            "Trained: 100%|██████████| 125/125 [02:16<00:00,  1.09s/it]\n"
          ]
        },
        {
          "name": "stdout",
          "output_type": "stream",
          "text": [
            "Accuracy: 97.43\n",
            "Iteration:5 seed:60\n"
          ]
        },
        {
          "name": "stderr",
          "output_type": "stream",
          "text": [
            "Trained: 100%|██████████| 125/125 [02:16<00:00,  1.10s/it]\n"
          ]
        },
        {
          "name": "stdout",
          "output_type": "stream",
          "text": [
            "Accuracy: 97.28\n",
            "Iteration:6 seed:70\n"
          ]
        },
        {
          "name": "stderr",
          "output_type": "stream",
          "text": [
            "Trained: 100%|██████████| 125/125 [02:16<00:00,  1.09s/it]\n"
          ]
        },
        {
          "name": "stdout",
          "output_type": "stream",
          "text": [
            "Accuracy: 97.09\n",
            "Iteration:7 seed:80\n"
          ]
        },
        {
          "name": "stderr",
          "output_type": "stream",
          "text": [
            "Trained: 100%|██████████| 125/125 [02:16<00:00,  1.09s/it]\n"
          ]
        },
        {
          "name": "stdout",
          "output_type": "stream",
          "text": [
            "Accuracy: 97.24\n",
            "Iteration:8 seed:90\n"
          ]
        },
        {
          "name": "stderr",
          "output_type": "stream",
          "text": [
            "Trained: 100%|██████████| 125/125 [02:16<00:00,  1.09s/it]\n"
          ]
        },
        {
          "name": "stdout",
          "output_type": "stream",
          "text": [
            "Accuracy: 97.27\n",
            "Iteration:9 seed:100\n"
          ]
        },
        {
          "name": "stderr",
          "output_type": "stream",
          "text": [
            "Trained: 100%|██████████| 125/125 [02:15<00:00,  1.09s/it]\n"
          ]
        },
        {
          "name": "stdout",
          "output_type": "stream",
          "text": [
            "Accuracy: 97.93\n",
            "Mean Accuracy:97.314, STD: 0.22641554716936105\n",
            "\n",
            "Train Size: 4000, Regularizer: ConfPenalty, Parameter: 0.01\n",
            "Iteration:0 seed:10\n"
          ]
        },
        {
          "name": "stderr",
          "output_type": "stream",
          "text": [
            "Trained: 100%|██████████| 125/125 [02:05<00:00,  1.00s/it]\n"
          ]
        },
        {
          "name": "stdout",
          "output_type": "stream",
          "text": [
            "Accuracy: 97.27\n",
            "Iteration:1 seed:20\n"
          ]
        },
        {
          "name": "stderr",
          "output_type": "stream",
          "text": [
            "Trained: 100%|██████████| 125/125 [02:06<00:00,  1.01s/it]\n"
          ]
        },
        {
          "name": "stdout",
          "output_type": "stream",
          "text": [
            "Accuracy: 97.71\n",
            "Iteration:2 seed:30\n"
          ]
        },
        {
          "name": "stderr",
          "output_type": "stream",
          "text": [
            "Trained: 100%|██████████| 125/125 [02:05<00:00,  1.01s/it]\n"
          ]
        },
        {
          "name": "stdout",
          "output_type": "stream",
          "text": [
            "Accuracy: 97.46\n",
            "Iteration:3 seed:40\n"
          ]
        },
        {
          "name": "stderr",
          "output_type": "stream",
          "text": [
            "Trained: 100%|██████████| 125/125 [02:07<00:00,  1.02s/it]\n"
          ]
        },
        {
          "name": "stdout",
          "output_type": "stream",
          "text": [
            "Accuracy: 97.48\n",
            "Iteration:4 seed:50\n"
          ]
        },
        {
          "name": "stderr",
          "output_type": "stream",
          "text": [
            "Trained: 100%|██████████| 125/125 [02:05<00:00,  1.01s/it]\n"
          ]
        },
        {
          "name": "stdout",
          "output_type": "stream",
          "text": [
            "Accuracy: 97.37\n",
            "Iteration:5 seed:60\n"
          ]
        },
        {
          "name": "stderr",
          "output_type": "stream",
          "text": [
            "Trained: 100%|██████████| 125/125 [02:06<00:00,  1.01s/it]\n"
          ]
        },
        {
          "name": "stdout",
          "output_type": "stream",
          "text": [
            "Accuracy: 97.01\n",
            "Iteration:6 seed:70\n"
          ]
        },
        {
          "name": "stderr",
          "output_type": "stream",
          "text": [
            "Trained: 100%|██████████| 125/125 [02:05<00:00,  1.01s/it]\n"
          ]
        },
        {
          "name": "stdout",
          "output_type": "stream",
          "text": [
            "Accuracy: 96.9\n",
            "Iteration:7 seed:80\n"
          ]
        },
        {
          "name": "stderr",
          "output_type": "stream",
          "text": [
            "Trained: 100%|██████████| 125/125 [02:05<00:00,  1.01s/it]\n"
          ]
        },
        {
          "name": "stdout",
          "output_type": "stream",
          "text": [
            "Accuracy: 96.99\n",
            "Iteration:8 seed:90\n"
          ]
        },
        {
          "name": "stderr",
          "output_type": "stream",
          "text": [
            "Trained: 100%|██████████| 125/125 [02:06<00:00,  1.01s/it]\n"
          ]
        },
        {
          "name": "stdout",
          "output_type": "stream",
          "text": [
            "Accuracy: 97.25\n",
            "Iteration:9 seed:100\n"
          ]
        },
        {
          "name": "stderr",
          "output_type": "stream",
          "text": [
            "Trained: 100%|██████████| 125/125 [02:05<00:00,  1.00s/it]\n"
          ]
        },
        {
          "name": "stdout",
          "output_type": "stream",
          "text": [
            "Accuracy: 97.9\n",
            "Mean Accuracy:97.33399999999999, STD: 0.30381573362813147\n",
            "\n"
          ]
        }
      ],
      "source": [
        "for index,size in enumerate(train_size):\n",
        "    num_samples_per_class=size//10\n",
        "    for reg in regularizers:\n",
        "        reg_parameter=params[reg][index]\n",
        "        print(f\"Train Size: {size}, Regularizer: {reg}, Parameter: {reg_parameter}\")\n",
        "        for i in range(10):\n",
        "            print(f\"Iteration:{i} seed:{seeds[i]}\")\n",
        "            model=BaseModel(include_dropout=True).to(device)\n",
        "            train_loader=get_subset_dataloader(data_train,seeds[i],num_samples_per_class,batch_size)\n",
        "            accuracy=train(model,train_loader,test_loader,num_samples_per_class,reg,reg_parameter)\n",
        "            accuracy_dict[size][reg].append(accuracy)\n",
        "            print(\"Accuracy:\",accuracy)\n",
        "        accuracy_list=accuracy_dict[size][reg]\n",
        "        print(f\"Mean Accuracy:{np.mean(accuracy_list)}, STD: {np.std(accuracy_list)}\")\n",
        "        print(\"\")"
      ]
    },
    {
      "cell_type": "code",
      "execution_count": null,
      "metadata": {},
      "outputs": [],
      "source": [
        "train_size=[5000,10000]\n",
        "doubleback_par=[20,5]\n",
        "spectreg_par=[0.003,0.01]\n",
        "jacreg_par=[1,1]\n",
        "cp_par=[0.1,0.1]\n",
        "\n",
        "regularizers=[\"DoubleBack\",\"SpectReg\",\"JacReg\",\"ConfPenalty\"]\n",
        "params={\"DoubleBack\":doubleback_par,\n",
        "        \"SpectReg\":spectreg_par,\n",
        "        \"JacReg\":jacreg_par,\n",
        "        \"ConfPenalty\":cp_par}\n",
        "\n",
        "accuracy_dict={}\n",
        "for i in train_size:\n",
        "    k={}\n",
        "    for j in regularizers:\n",
        "        k[j]=[]\n",
        "    accuracy_dict[i]=k\n"
      ]
    },
    {
      "cell_type": "code",
      "execution_count": null,
      "metadata": {},
      "outputs": [
        {
          "name": "stdout",
          "output_type": "stream",
          "text": [
            "Train Size: 5000, Regularizer: DoubleBack, Parameter: 20\n",
            "Iteration:0 seed:10\n"
          ]
        },
        {
          "name": "stderr",
          "output_type": "stream",
          "text": [
            "Trained: 100%|██████████| 100/100 [02:18<00:00,  1.38s/it]\n"
          ]
        },
        {
          "name": "stdout",
          "output_type": "stream",
          "text": [
            "Accuracy: 97.29\n",
            "Iteration:1 seed:20\n"
          ]
        },
        {
          "name": "stderr",
          "output_type": "stream",
          "text": [
            "Trained: 100%|██████████| 100/100 [02:14<00:00,  1.35s/it]\n"
          ]
        },
        {
          "name": "stdout",
          "output_type": "stream",
          "text": [
            "Accuracy: 97.4\n",
            "Iteration:2 seed:30\n"
          ]
        },
        {
          "name": "stderr",
          "output_type": "stream",
          "text": [
            "Trained: 100%|██████████| 100/100 [02:14<00:00,  1.34s/it]\n"
          ]
        },
        {
          "name": "stdout",
          "output_type": "stream",
          "text": [
            "Accuracy: 97.52\n",
            "Iteration:3 seed:40\n"
          ]
        },
        {
          "name": "stderr",
          "output_type": "stream",
          "text": [
            "Trained: 100%|██████████| 100/100 [02:15<00:00,  1.35s/it]\n"
          ]
        },
        {
          "name": "stdout",
          "output_type": "stream",
          "text": [
            "Accuracy: 97.52\n",
            "Iteration:4 seed:50\n"
          ]
        },
        {
          "name": "stderr",
          "output_type": "stream",
          "text": [
            "Trained: 100%|██████████| 100/100 [02:13<00:00,  1.34s/it]\n"
          ]
        },
        {
          "name": "stdout",
          "output_type": "stream",
          "text": [
            "Accuracy: 97.52\n",
            "Iteration:5 seed:60\n"
          ]
        },
        {
          "name": "stderr",
          "output_type": "stream",
          "text": [
            "Trained: 100%|██████████| 100/100 [02:15<00:00,  1.35s/it]\n"
          ]
        },
        {
          "name": "stdout",
          "output_type": "stream",
          "text": [
            "Accuracy: 97.42\n",
            "Iteration:6 seed:70\n"
          ]
        },
        {
          "name": "stderr",
          "output_type": "stream",
          "text": [
            "Trained: 100%|██████████| 100/100 [02:13<00:00,  1.34s/it]\n"
          ]
        },
        {
          "name": "stdout",
          "output_type": "stream",
          "text": [
            "Accuracy: 97.31\n",
            "Iteration:7 seed:80\n"
          ]
        },
        {
          "name": "stderr",
          "output_type": "stream",
          "text": [
            "Trained: 100%|██████████| 100/100 [02:13<00:00,  1.34s/it]\n"
          ]
        },
        {
          "name": "stdout",
          "output_type": "stream",
          "text": [
            "Accuracy: 97.33\n",
            "Iteration:8 seed:90\n"
          ]
        },
        {
          "name": "stderr",
          "output_type": "stream",
          "text": [
            "Trained: 100%|██████████| 100/100 [02:13<00:00,  1.34s/it]\n"
          ]
        },
        {
          "name": "stdout",
          "output_type": "stream",
          "text": [
            "Accuracy: 97.73\n",
            "Iteration:9 seed:100\n"
          ]
        },
        {
          "name": "stderr",
          "output_type": "stream",
          "text": [
            "Trained: 100%|██████████| 100/100 [02:14<00:00,  1.34s/it]\n"
          ]
        },
        {
          "name": "stdout",
          "output_type": "stream",
          "text": [
            "Accuracy: 97.58\n",
            "Mean Accuracy:97.462, STD: 0.13098091464026243\n",
            "\n",
            "Train Size: 5000, Regularizer: SpectReg, Parameter: 0.003\n",
            "Iteration:0 seed:10\n"
          ]
        },
        {
          "name": "stderr",
          "output_type": "stream",
          "text": [
            "Trained: 100%|██████████| 100/100 [02:16<00:00,  1.37s/it]\n"
          ]
        },
        {
          "name": "stdout",
          "output_type": "stream",
          "text": [
            "Accuracy: 97.62\n",
            "Iteration:1 seed:20\n"
          ]
        },
        {
          "name": "stderr",
          "output_type": "stream",
          "text": [
            "Trained: 100%|██████████| 100/100 [02:17<00:00,  1.38s/it]\n"
          ]
        },
        {
          "name": "stdout",
          "output_type": "stream",
          "text": [
            "Accuracy: 97.37\n",
            "Iteration:2 seed:30\n"
          ]
        },
        {
          "name": "stderr",
          "output_type": "stream",
          "text": [
            "Trained: 100%|██████████| 100/100 [02:17<00:00,  1.37s/it]\n"
          ]
        },
        {
          "name": "stdout",
          "output_type": "stream",
          "text": [
            "Accuracy: 97.57\n",
            "Iteration:3 seed:40\n"
          ]
        },
        {
          "name": "stderr",
          "output_type": "stream",
          "text": [
            "Trained: 100%|██████████| 100/100 [02:17<00:00,  1.38s/it]\n"
          ]
        },
        {
          "name": "stdout",
          "output_type": "stream",
          "text": [
            "Accuracy: 97.54\n",
            "Iteration:4 seed:50\n"
          ]
        },
        {
          "name": "stderr",
          "output_type": "stream",
          "text": [
            "Trained: 100%|██████████| 100/100 [02:16<00:00,  1.37s/it]\n"
          ]
        },
        {
          "name": "stdout",
          "output_type": "stream",
          "text": [
            "Accuracy: 97.5\n",
            "Iteration:5 seed:60\n"
          ]
        },
        {
          "name": "stderr",
          "output_type": "stream",
          "text": [
            "Trained: 100%|██████████| 100/100 [02:17<00:00,  1.37s/it]\n"
          ]
        },
        {
          "name": "stdout",
          "output_type": "stream",
          "text": [
            "Accuracy: 97.71\n",
            "Iteration:6 seed:70\n"
          ]
        },
        {
          "name": "stderr",
          "output_type": "stream",
          "text": [
            "Trained: 100%|██████████| 100/100 [02:17<00:00,  1.38s/it]\n"
          ]
        },
        {
          "name": "stdout",
          "output_type": "stream",
          "text": [
            "Accuracy: 97.53\n",
            "Iteration:7 seed:80\n"
          ]
        },
        {
          "name": "stderr",
          "output_type": "stream",
          "text": [
            "Trained: 100%|██████████| 100/100 [02:17<00:00,  1.38s/it]\n"
          ]
        },
        {
          "name": "stdout",
          "output_type": "stream",
          "text": [
            "Accuracy: 97.39\n",
            "Iteration:8 seed:90\n"
          ]
        },
        {
          "name": "stderr",
          "output_type": "stream",
          "text": [
            "Trained: 100%|██████████| 100/100 [02:18<00:00,  1.38s/it]\n"
          ]
        },
        {
          "name": "stdout",
          "output_type": "stream",
          "text": [
            "Accuracy: 97.28\n",
            "Iteration:9 seed:100\n"
          ]
        },
        {
          "name": "stderr",
          "output_type": "stream",
          "text": [
            "Trained: 100%|██████████| 100/100 [02:17<00:00,  1.37s/it]\n"
          ]
        },
        {
          "name": "stdout",
          "output_type": "stream",
          "text": [
            "Accuracy: 97.18\n",
            "Mean Accuracy:97.46900000000001, STD: 0.1536522046701552\n",
            "\n",
            "Train Size: 5000, Regularizer: JacReg, Parameter: 1\n",
            "Iteration:0 seed:10\n"
          ]
        },
        {
          "name": "stderr",
          "output_type": "stream",
          "text": [
            "Trained: 100%|██████████| 100/100 [02:15<00:00,  1.35s/it]\n"
          ]
        },
        {
          "name": "stdout",
          "output_type": "stream",
          "text": [
            "Accuracy: 97.67\n",
            "Iteration:1 seed:20\n"
          ]
        },
        {
          "name": "stderr",
          "output_type": "stream",
          "text": [
            "Trained: 100%|██████████| 100/100 [02:15<00:00,  1.35s/it]\n"
          ]
        },
        {
          "name": "stdout",
          "output_type": "stream",
          "text": [
            "Accuracy: 97.55\n",
            "Iteration:2 seed:30\n"
          ]
        },
        {
          "name": "stderr",
          "output_type": "stream",
          "text": [
            "Trained: 100%|██████████| 100/100 [02:14<00:00,  1.35s/it]\n"
          ]
        },
        {
          "name": "stdout",
          "output_type": "stream",
          "text": [
            "Accuracy: 97.81\n",
            "Iteration:3 seed:40\n"
          ]
        },
        {
          "name": "stderr",
          "output_type": "stream",
          "text": [
            "Trained: 100%|██████████| 100/100 [02:14<00:00,  1.34s/it]\n"
          ]
        },
        {
          "name": "stdout",
          "output_type": "stream",
          "text": [
            "Accuracy: 97.65\n",
            "Iteration:4 seed:50\n"
          ]
        },
        {
          "name": "stderr",
          "output_type": "stream",
          "text": [
            "Trained: 100%|██████████| 100/100 [02:15<00:00,  1.35s/it]\n"
          ]
        },
        {
          "name": "stdout",
          "output_type": "stream",
          "text": [
            "Accuracy: 97.45\n",
            "Iteration:5 seed:60\n"
          ]
        },
        {
          "name": "stderr",
          "output_type": "stream",
          "text": [
            "Trained: 100%|██████████| 100/100 [02:14<00:00,  1.34s/it]\n"
          ]
        },
        {
          "name": "stdout",
          "output_type": "stream",
          "text": [
            "Accuracy: 97.53\n",
            "Iteration:6 seed:70\n"
          ]
        },
        {
          "name": "stderr",
          "output_type": "stream",
          "text": [
            "Trained: 100%|██████████| 100/100 [02:14<00:00,  1.35s/it]\n"
          ]
        },
        {
          "name": "stdout",
          "output_type": "stream",
          "text": [
            "Accuracy: 97.23\n",
            "Iteration:7 seed:80\n"
          ]
        },
        {
          "name": "stderr",
          "output_type": "stream",
          "text": [
            "Trained: 100%|██████████| 100/100 [02:15<00:00,  1.35s/it]\n"
          ]
        },
        {
          "name": "stdout",
          "output_type": "stream",
          "text": [
            "Accuracy: 97.32\n",
            "Iteration:8 seed:90\n"
          ]
        },
        {
          "name": "stderr",
          "output_type": "stream",
          "text": [
            "Trained: 100%|██████████| 100/100 [02:14<00:00,  1.35s/it]\n"
          ]
        },
        {
          "name": "stdout",
          "output_type": "stream",
          "text": [
            "Accuracy: 97.82\n",
            "Iteration:9 seed:100\n"
          ]
        },
        {
          "name": "stderr",
          "output_type": "stream",
          "text": [
            "Trained: 100%|██████████| 100/100 [02:15<00:00,  1.35s/it]\n"
          ]
        },
        {
          "name": "stdout",
          "output_type": "stream",
          "text": [
            "Accuracy: 97.76\n",
            "Mean Accuracy:97.579, STD: 0.19138704240360704\n",
            "\n",
            "Train Size: 5000, Regularizer: ConfPenalty, Parameter: 0.1\n",
            "Iteration:0 seed:10\n"
          ]
        },
        {
          "name": "stderr",
          "output_type": "stream",
          "text": [
            "Trained: 100%|██████████| 100/100 [02:05<00:00,  1.25s/it]\n"
          ]
        },
        {
          "name": "stdout",
          "output_type": "stream",
          "text": [
            "Accuracy: 97.62\n",
            "Iteration:1 seed:20\n"
          ]
        },
        {
          "name": "stderr",
          "output_type": "stream",
          "text": [
            "Trained: 100%|██████████| 100/100 [02:04<00:00,  1.24s/it]\n"
          ]
        },
        {
          "name": "stdout",
          "output_type": "stream",
          "text": [
            "Accuracy: 97.2\n",
            "Iteration:2 seed:30\n"
          ]
        },
        {
          "name": "stderr",
          "output_type": "stream",
          "text": [
            "Trained: 100%|██████████| 100/100 [02:04<00:00,  1.25s/it]\n"
          ]
        },
        {
          "name": "stdout",
          "output_type": "stream",
          "text": [
            "Accuracy: 97.72\n",
            "Iteration:3 seed:40\n"
          ]
        },
        {
          "name": "stderr",
          "output_type": "stream",
          "text": [
            "Trained: 100%|██████████| 100/100 [02:04<00:00,  1.24s/it]\n"
          ]
        },
        {
          "name": "stdout",
          "output_type": "stream",
          "text": [
            "Accuracy: 97.41\n",
            "Iteration:4 seed:50\n"
          ]
        },
        {
          "name": "stderr",
          "output_type": "stream",
          "text": [
            "Trained: 100%|██████████| 100/100 [02:05<00:00,  1.25s/it]\n"
          ]
        },
        {
          "name": "stdout",
          "output_type": "stream",
          "text": [
            "Accuracy: 97.49\n",
            "Iteration:5 seed:60\n"
          ]
        },
        {
          "name": "stderr",
          "output_type": "stream",
          "text": [
            "Trained: 100%|██████████| 100/100 [02:04<00:00,  1.25s/it]\n"
          ]
        },
        {
          "name": "stdout",
          "output_type": "stream",
          "text": [
            "Accuracy: 97.64\n",
            "Iteration:6 seed:70\n"
          ]
        },
        {
          "name": "stderr",
          "output_type": "stream",
          "text": [
            "Trained: 100%|██████████| 100/100 [02:05<00:00,  1.25s/it]\n"
          ]
        },
        {
          "name": "stdout",
          "output_type": "stream",
          "text": [
            "Accuracy: 97.72\n",
            "Iteration:7 seed:80\n"
          ]
        },
        {
          "name": "stderr",
          "output_type": "stream",
          "text": [
            "Trained: 100%|██████████| 100/100 [02:04<00:00,  1.25s/it]\n"
          ]
        },
        {
          "name": "stdout",
          "output_type": "stream",
          "text": [
            "Accuracy: 97.59\n",
            "Iteration:8 seed:90\n"
          ]
        },
        {
          "name": "stderr",
          "output_type": "stream",
          "text": [
            "Trained: 100%|██████████| 100/100 [02:04<00:00,  1.25s/it]\n"
          ]
        },
        {
          "name": "stdout",
          "output_type": "stream",
          "text": [
            "Accuracy: 97.61\n",
            "Iteration:9 seed:100\n"
          ]
        },
        {
          "name": "stderr",
          "output_type": "stream",
          "text": [
            "Trained: 100%|██████████| 100/100 [02:04<00:00,  1.24s/it]\n"
          ]
        },
        {
          "name": "stdout",
          "output_type": "stream",
          "text": [
            "Accuracy: 97.52\n",
            "Mean Accuracy:97.55199999999999, STD: 0.14918444959177213\n",
            "\n",
            "Train Size: 10000, Regularizer: DoubleBack, Parameter: 5\n",
            "Iteration:0 seed:10\n"
          ]
        },
        {
          "name": "stderr",
          "output_type": "stream",
          "text": [
            "Trained: 100%|██████████| 50/50 [02:12<00:00,  2.66s/it]\n"
          ]
        },
        {
          "name": "stdout",
          "output_type": "stream",
          "text": [
            "Accuracy: 98.21\n",
            "Iteration:1 seed:20\n"
          ]
        },
        {
          "name": "stderr",
          "output_type": "stream",
          "text": [
            "Trained: 100%|██████████| 50/50 [02:12<00:00,  2.65s/it]\n"
          ]
        },
        {
          "name": "stdout",
          "output_type": "stream",
          "text": [
            "Accuracy: 98.05\n",
            "Iteration:2 seed:30\n"
          ]
        },
        {
          "name": "stderr",
          "output_type": "stream",
          "text": [
            "Trained: 100%|██████████| 50/50 [02:12<00:00,  2.65s/it]\n"
          ]
        },
        {
          "name": "stdout",
          "output_type": "stream",
          "text": [
            "Accuracy: 97.76\n",
            "Iteration:3 seed:40\n"
          ]
        },
        {
          "name": "stderr",
          "output_type": "stream",
          "text": [
            "Trained: 100%|██████████| 50/50 [02:12<00:00,  2.66s/it]\n"
          ]
        },
        {
          "name": "stdout",
          "output_type": "stream",
          "text": [
            "Accuracy: 97.87\n",
            "Iteration:4 seed:50\n"
          ]
        },
        {
          "name": "stderr",
          "output_type": "stream",
          "text": [
            "Trained: 100%|██████████| 50/50 [02:12<00:00,  2.65s/it]\n"
          ]
        },
        {
          "name": "stdout",
          "output_type": "stream",
          "text": [
            "Accuracy: 98.19\n",
            "Iteration:5 seed:60\n"
          ]
        },
        {
          "name": "stderr",
          "output_type": "stream",
          "text": [
            "Trained: 100%|██████████| 50/50 [02:12<00:00,  2.64s/it]\n"
          ]
        },
        {
          "name": "stdout",
          "output_type": "stream",
          "text": [
            "Accuracy: 98.18\n",
            "Iteration:6 seed:70\n"
          ]
        },
        {
          "name": "stderr",
          "output_type": "stream",
          "text": [
            "Trained: 100%|██████████| 50/50 [02:12<00:00,  2.64s/it]\n"
          ]
        },
        {
          "name": "stdout",
          "output_type": "stream",
          "text": [
            "Accuracy: 98.02\n",
            "Iteration:7 seed:80\n"
          ]
        },
        {
          "name": "stderr",
          "output_type": "stream",
          "text": [
            "Trained: 100%|██████████| 50/50 [02:11<00:00,  2.64s/it]\n"
          ]
        },
        {
          "name": "stdout",
          "output_type": "stream",
          "text": [
            "Accuracy: 97.75\n",
            "Iteration:8 seed:90\n"
          ]
        },
        {
          "name": "stderr",
          "output_type": "stream",
          "text": [
            "Trained: 100%|██████████| 50/50 [02:11<00:00,  2.64s/it]\n"
          ]
        },
        {
          "name": "stdout",
          "output_type": "stream",
          "text": [
            "Accuracy: 98.19\n",
            "Iteration:9 seed:100\n"
          ]
        },
        {
          "name": "stderr",
          "output_type": "stream",
          "text": [
            "Trained: 100%|██████████| 50/50 [02:11<00:00,  2.63s/it]\n"
          ]
        },
        {
          "name": "stdout",
          "output_type": "stream",
          "text": [
            "Accuracy: 97.82\n",
            "Mean Accuracy:98.00399999999999, STD: 0.17912007146045822\n",
            "\n",
            "Train Size: 10000, Regularizer: SpectReg, Parameter: 0.01\n",
            "Iteration:0 seed:10\n"
          ]
        },
        {
          "name": "stderr",
          "output_type": "stream",
          "text": [
            "Trained: 100%|██████████| 50/50 [02:16<00:00,  2.73s/it]\n"
          ]
        },
        {
          "name": "stdout",
          "output_type": "stream",
          "text": [
            "Accuracy: 97.79\n",
            "Iteration:1 seed:20\n"
          ]
        },
        {
          "name": "stderr",
          "output_type": "stream",
          "text": [
            "Trained: 100%|██████████| 50/50 [02:16<00:00,  2.72s/it]\n"
          ]
        },
        {
          "name": "stdout",
          "output_type": "stream",
          "text": [
            "Accuracy: 98.01\n",
            "Iteration:2 seed:30\n"
          ]
        },
        {
          "name": "stderr",
          "output_type": "stream",
          "text": [
            "Trained: 100%|██████████| 50/50 [02:17<00:00,  2.74s/it]\n"
          ]
        },
        {
          "name": "stdout",
          "output_type": "stream",
          "text": [
            "Accuracy: 97.94\n",
            "Iteration:3 seed:40\n"
          ]
        },
        {
          "name": "stderr",
          "output_type": "stream",
          "text": [
            "Trained: 100%|██████████| 50/50 [02:16<00:00,  2.73s/it]\n"
          ]
        },
        {
          "name": "stdout",
          "output_type": "stream",
          "text": [
            "Accuracy: 98.07\n",
            "Iteration:4 seed:50\n"
          ]
        },
        {
          "name": "stderr",
          "output_type": "stream",
          "text": [
            "Trained: 100%|██████████| 50/50 [02:16<00:00,  2.73s/it]\n"
          ]
        },
        {
          "name": "stdout",
          "output_type": "stream",
          "text": [
            "Accuracy: 97.98\n",
            "Iteration:5 seed:60\n"
          ]
        },
        {
          "name": "stderr",
          "output_type": "stream",
          "text": [
            "Trained: 100%|██████████| 50/50 [02:15<00:00,  2.71s/it]\n"
          ]
        },
        {
          "name": "stdout",
          "output_type": "stream",
          "text": [
            "Accuracy: 98.14\n",
            "Iteration:6 seed:70\n"
          ]
        },
        {
          "name": "stderr",
          "output_type": "stream",
          "text": [
            "Trained: 100%|██████████| 50/50 [02:15<00:00,  2.71s/it]\n"
          ]
        },
        {
          "name": "stdout",
          "output_type": "stream",
          "text": [
            "Accuracy: 97.93\n",
            "Iteration:7 seed:80\n"
          ]
        },
        {
          "name": "stderr",
          "output_type": "stream",
          "text": [
            "Trained: 100%|██████████| 50/50 [02:15<00:00,  2.71s/it]\n"
          ]
        },
        {
          "name": "stdout",
          "output_type": "stream",
          "text": [
            "Accuracy: 97.98\n",
            "Iteration:8 seed:90\n"
          ]
        },
        {
          "name": "stderr",
          "output_type": "stream",
          "text": [
            "Trained: 100%|██████████| 50/50 [02:15<00:00,  2.71s/it]\n"
          ]
        },
        {
          "name": "stdout",
          "output_type": "stream",
          "text": [
            "Accuracy: 97.89\n",
            "Iteration:9 seed:100\n"
          ]
        },
        {
          "name": "stderr",
          "output_type": "stream",
          "text": [
            "Trained: 100%|██████████| 50/50 [02:15<00:00,  2.71s/it]\n"
          ]
        },
        {
          "name": "stdout",
          "output_type": "stream",
          "text": [
            "Accuracy: 97.69\n",
            "Mean Accuracy:97.94200000000001, STD: 0.1235151812531556\n",
            "\n",
            "Train Size: 10000, Regularizer: JacReg, Parameter: 1\n",
            "Iteration:0 seed:10\n"
          ]
        },
        {
          "name": "stderr",
          "output_type": "stream",
          "text": [
            "Trained: 100%|██████████| 50/50 [02:13<00:00,  2.67s/it]\n"
          ]
        },
        {
          "name": "stdout",
          "output_type": "stream",
          "text": [
            "Accuracy: 98.26\n",
            "Iteration:1 seed:20\n"
          ]
        },
        {
          "name": "stderr",
          "output_type": "stream",
          "text": [
            "Trained: 100%|██████████| 50/50 [02:12<00:00,  2.66s/it]\n"
          ]
        },
        {
          "name": "stdout",
          "output_type": "stream",
          "text": [
            "Accuracy: 98.07\n",
            "Iteration:2 seed:30\n"
          ]
        },
        {
          "name": "stderr",
          "output_type": "stream",
          "text": [
            "Trained: 100%|██████████| 50/50 [02:13<00:00,  2.67s/it]\n"
          ]
        },
        {
          "name": "stdout",
          "output_type": "stream",
          "text": [
            "Accuracy: 98.01\n",
            "Iteration:3 seed:40\n"
          ]
        },
        {
          "name": "stderr",
          "output_type": "stream",
          "text": [
            "Trained: 100%|██████████| 50/50 [02:13<00:00,  2.66s/it]\n"
          ]
        },
        {
          "name": "stdout",
          "output_type": "stream",
          "text": [
            "Accuracy: 97.8\n",
            "Iteration:4 seed:50\n"
          ]
        },
        {
          "name": "stderr",
          "output_type": "stream",
          "text": [
            "Trained: 100%|██████████| 50/50 [02:13<00:00,  2.68s/it]\n"
          ]
        },
        {
          "name": "stdout",
          "output_type": "stream",
          "text": [
            "Accuracy: 98.16\n",
            "Iteration:5 seed:60\n"
          ]
        },
        {
          "name": "stderr",
          "output_type": "stream",
          "text": [
            "Trained: 100%|██████████| 50/50 [02:13<00:00,  2.67s/it]\n"
          ]
        },
        {
          "name": "stdout",
          "output_type": "stream",
          "text": [
            "Accuracy: 98.17\n",
            "Iteration:6 seed:70\n"
          ]
        },
        {
          "name": "stderr",
          "output_type": "stream",
          "text": [
            "Trained: 100%|██████████| 50/50 [02:13<00:00,  2.67s/it]\n"
          ]
        },
        {
          "name": "stdout",
          "output_type": "stream",
          "text": [
            "Accuracy: 98.05\n",
            "Iteration:7 seed:80\n"
          ]
        },
        {
          "name": "stderr",
          "output_type": "stream",
          "text": [
            "Trained: 100%|██████████| 50/50 [02:13<00:00,  2.66s/it]\n"
          ]
        },
        {
          "name": "stdout",
          "output_type": "stream",
          "text": [
            "Accuracy: 97.75\n",
            "Iteration:8 seed:90\n"
          ]
        },
        {
          "name": "stderr",
          "output_type": "stream",
          "text": [
            "Trained: 100%|██████████| 50/50 [02:14<00:00,  2.69s/it]\n"
          ]
        },
        {
          "name": "stdout",
          "output_type": "stream",
          "text": [
            "Accuracy: 98.1\n",
            "Iteration:9 seed:100\n"
          ]
        },
        {
          "name": "stderr",
          "output_type": "stream",
          "text": [
            "Trained: 100%|██████████| 50/50 [02:15<00:00,  2.71s/it]\n"
          ]
        },
        {
          "name": "stdout",
          "output_type": "stream",
          "text": [
            "Accuracy: 97.84\n",
            "Mean Accuracy:98.021, STD: 0.16226213359869276\n",
            "\n",
            "Train Size: 10000, Regularizer: ConfPenalty, Parameter: 0.1\n",
            "Iteration:0 seed:10\n"
          ]
        },
        {
          "name": "stderr",
          "output_type": "stream",
          "text": [
            "Trained: 100%|██████████| 50/50 [02:05<00:00,  2.52s/it]\n"
          ]
        },
        {
          "name": "stdout",
          "output_type": "stream",
          "text": [
            "Accuracy: 97.98\n",
            "Iteration:1 seed:20\n"
          ]
        },
        {
          "name": "stderr",
          "output_type": "stream",
          "text": [
            "Trained: 100%|██████████| 50/50 [02:06<00:00,  2.52s/it]\n"
          ]
        },
        {
          "name": "stdout",
          "output_type": "stream",
          "text": [
            "Accuracy: 98.09\n",
            "Iteration:2 seed:30\n"
          ]
        },
        {
          "name": "stderr",
          "output_type": "stream",
          "text": [
            "Trained: 100%|██████████| 50/50 [02:05<00:00,  2.51s/it]\n"
          ]
        },
        {
          "name": "stdout",
          "output_type": "stream",
          "text": [
            "Accuracy: 97.82\n",
            "Iteration:3 seed:40\n"
          ]
        },
        {
          "name": "stderr",
          "output_type": "stream",
          "text": [
            "Trained: 100%|██████████| 50/50 [02:04<00:00,  2.48s/it]\n"
          ]
        },
        {
          "name": "stdout",
          "output_type": "stream",
          "text": [
            "Accuracy: 97.98\n",
            "Iteration:4 seed:50\n"
          ]
        },
        {
          "name": "stderr",
          "output_type": "stream",
          "text": [
            "Trained: 100%|██████████| 50/50 [02:02<00:00,  2.46s/it]\n"
          ]
        },
        {
          "name": "stdout",
          "output_type": "stream",
          "text": [
            "Accuracy: 97.98\n",
            "Iteration:5 seed:60\n"
          ]
        },
        {
          "name": "stderr",
          "output_type": "stream",
          "text": [
            "Trained: 100%|██████████| 50/50 [02:02<00:00,  2.45s/it]\n"
          ]
        },
        {
          "name": "stdout",
          "output_type": "stream",
          "text": [
            "Accuracy: 98.16\n",
            "Iteration:6 seed:70\n"
          ]
        },
        {
          "name": "stderr",
          "output_type": "stream",
          "text": [
            "Trained: 100%|██████████| 50/50 [02:01<00:00,  2.44s/it]\n"
          ]
        },
        {
          "name": "stdout",
          "output_type": "stream",
          "text": [
            "Accuracy: 98.17\n",
            "Iteration:7 seed:80\n"
          ]
        },
        {
          "name": "stderr",
          "output_type": "stream",
          "text": [
            "Trained: 100%|██████████| 50/50 [02:02<00:00,  2.46s/it]\n"
          ]
        },
        {
          "name": "stdout",
          "output_type": "stream",
          "text": [
            "Accuracy: 97.66\n",
            "Iteration:8 seed:90\n"
          ]
        },
        {
          "name": "stderr",
          "output_type": "stream",
          "text": [
            "Trained: 100%|██████████| 50/50 [02:02<00:00,  2.45s/it]\n"
          ]
        },
        {
          "name": "stdout",
          "output_type": "stream",
          "text": [
            "Accuracy: 98.06\n",
            "Iteration:9 seed:100\n"
          ]
        },
        {
          "name": "stderr",
          "output_type": "stream",
          "text": [
            "Trained: 100%|██████████| 50/50 [02:02<00:00,  2.44s/it]\n"
          ]
        },
        {
          "name": "stdout",
          "output_type": "stream",
          "text": [
            "Accuracy: 97.69\n",
            "Mean Accuracy:97.95899999999999, STD: 0.17166537216340585\n",
            "\n"
          ]
        }
      ],
      "source": [
        "for index,size in enumerate(train_size):\n",
        "    num_samples_per_class=size//10\n",
        "    for reg in regularizers:\n",
        "        reg_parameter=params[reg][index]\n",
        "        print(f\"Train Size: {size}, Regularizer: {reg}, Parameter: {reg_parameter}\")\n",
        "        for i in range(10):\n",
        "            print(f\"Iteration:{i} seed:{seeds[i]}\")\n",
        "            model=BaseModel(include_dropout=True).to(device)\n",
        "            train_loader=get_subset_dataloader(data_train,seeds[i],num_samples_per_class,batch_size)\n",
        "            accuracy=train(model,train_loader,test_loader,num_samples_per_class,reg,reg_parameter)\n",
        "            accuracy_dict[size][reg].append(accuracy)\n",
        "            print(\"Accuracy:\",accuracy)\n",
        "        accuracy_list=accuracy_dict[size][reg]\n",
        "        print(f\"Mean Accuracy:{np.mean(accuracy_list)}, STD: {np.std(accuracy_list)}\")\n",
        "        print(\"\")"
      ]
    },
    {
      "cell_type": "code",
      "execution_count": null,
      "metadata": {},
      "outputs": [],
      "source": [
        "train_size=[15000,20000]\n",
        "doubleback_par=[2,2]\n",
        "spectreg_par=[0.01,0.001]\n",
        "jacreg_par=[1,0.3]\n",
        "cp_par=[0.01,0.03]\n",
        "\n",
        "regularizers=[\"DoubleBack\",\"SpectReg\",\"JacReg\",\"ConfPenalty\"]\n",
        "params={\"DoubleBack\":doubleback_par,\n",
        "        \"SpectReg\":spectreg_par,\n",
        "        \"JacReg\":jacreg_par,\n",
        "        \"ConfPenalty\":cp_par}\n",
        "\n",
        "accuracy_dict={}\n",
        "for i in train_size:\n",
        "    k={}\n",
        "    for j in regularizers:\n",
        "        k[j]=[]\n",
        "    accuracy_dict[i]=k\n"
      ]
    },
    {
      "cell_type": "code",
      "execution_count": null,
      "metadata": {},
      "outputs": [
        {
          "name": "stdout",
          "output_type": "stream",
          "text": [
            "Train Size: 15000, Regularizer: DoubleBack, Parameter: 2\n",
            "Iteration:0 seed:10\n"
          ]
        },
        {
          "name": "stderr",
          "output_type": "stream",
          "text": [
            "Trained: 100%|██████████| 33/33 [02:19<00:00,  4.24s/it]\n"
          ]
        },
        {
          "name": "stdout",
          "output_type": "stream",
          "text": [
            "Accuracy: 98.12\n",
            "Iteration:1 seed:20\n"
          ]
        },
        {
          "name": "stderr",
          "output_type": "stream",
          "text": [
            "Trained: 100%|██████████| 33/33 [02:15<00:00,  4.11s/it]\n"
          ]
        },
        {
          "name": "stdout",
          "output_type": "stream",
          "text": [
            "Accuracy: 98.43\n",
            "Iteration:2 seed:30\n"
          ]
        },
        {
          "name": "stderr",
          "output_type": "stream",
          "text": [
            "Trained: 100%|██████████| 33/33 [02:14<00:00,  4.08s/it]\n"
          ]
        },
        {
          "name": "stdout",
          "output_type": "stream",
          "text": [
            "Accuracy: 98.05\n",
            "Iteration:3 seed:40\n"
          ]
        },
        {
          "name": "stderr",
          "output_type": "stream",
          "text": [
            "Trained: 100%|██████████| 33/33 [02:13<00:00,  4.05s/it]\n"
          ]
        },
        {
          "name": "stdout",
          "output_type": "stream",
          "text": [
            "Accuracy: 98.19\n",
            "Iteration:4 seed:50\n"
          ]
        },
        {
          "name": "stderr",
          "output_type": "stream",
          "text": [
            "Trained: 100%|██████████| 33/33 [02:12<00:00,  4.02s/it]\n"
          ]
        },
        {
          "name": "stdout",
          "output_type": "stream",
          "text": [
            "Accuracy: 98.22\n",
            "Iteration:5 seed:60\n"
          ]
        },
        {
          "name": "stderr",
          "output_type": "stream",
          "text": [
            "Trained: 100%|██████████| 33/33 [02:12<00:00,  4.01s/it]\n"
          ]
        },
        {
          "name": "stdout",
          "output_type": "stream",
          "text": [
            "Accuracy: 97.72\n",
            "Iteration:6 seed:70\n"
          ]
        },
        {
          "name": "stderr",
          "output_type": "stream",
          "text": [
            "Trained: 100%|██████████| 33/33 [02:11<00:00,  3.99s/it]\n"
          ]
        },
        {
          "name": "stdout",
          "output_type": "stream",
          "text": [
            "Accuracy: 98.12\n",
            "Iteration:7 seed:80\n"
          ]
        },
        {
          "name": "stderr",
          "output_type": "stream",
          "text": [
            "Trained: 100%|██████████| 33/33 [02:12<00:00,  4.02s/it]\n"
          ]
        },
        {
          "name": "stdout",
          "output_type": "stream",
          "text": [
            "Accuracy: 98.18\n",
            "Iteration:8 seed:90\n"
          ]
        },
        {
          "name": "stderr",
          "output_type": "stream",
          "text": [
            "Trained: 100%|██████████| 33/33 [02:11<00:00,  4.00s/it]\n"
          ]
        },
        {
          "name": "stdout",
          "output_type": "stream",
          "text": [
            "Accuracy: 97.98\n",
            "Iteration:9 seed:100\n"
          ]
        },
        {
          "name": "stderr",
          "output_type": "stream",
          "text": [
            "Trained: 100%|██████████| 33/33 [02:12<00:00,  4.01s/it]\n"
          ]
        },
        {
          "name": "stdout",
          "output_type": "stream",
          "text": [
            "Accuracy: 98.02\n",
            "Mean Accuracy:98.103, STD: 0.17498857105537094\n",
            "\n",
            "Train Size: 15000, Regularizer: SpectReg, Parameter: 0.01\n",
            "Iteration:0 seed:10\n"
          ]
        },
        {
          "name": "stderr",
          "output_type": "stream",
          "text": [
            "Trained: 100%|██████████| 33/33 [02:21<00:00,  4.27s/it]\n"
          ]
        },
        {
          "name": "stdout",
          "output_type": "stream",
          "text": [
            "Accuracy: 98.03\n",
            "Iteration:1 seed:20\n"
          ]
        },
        {
          "name": "stderr",
          "output_type": "stream",
          "text": [
            "Trained: 100%|██████████| 33/33 [02:19<00:00,  4.23s/it]\n"
          ]
        },
        {
          "name": "stdout",
          "output_type": "stream",
          "text": [
            "Accuracy: 98.14\n",
            "Iteration:2 seed:30\n"
          ]
        },
        {
          "name": "stderr",
          "output_type": "stream",
          "text": [
            "Trained: 100%|██████████| 33/33 [02:21<00:00,  4.29s/it]\n"
          ]
        },
        {
          "name": "stdout",
          "output_type": "stream",
          "text": [
            "Accuracy: 98.14\n",
            "Iteration:3 seed:40\n"
          ]
        },
        {
          "name": "stderr",
          "output_type": "stream",
          "text": [
            "Trained: 100%|██████████| 33/33 [02:18<00:00,  4.20s/it]\n"
          ]
        },
        {
          "name": "stdout",
          "output_type": "stream",
          "text": [
            "Accuracy: 98.17\n",
            "Iteration:4 seed:50\n"
          ]
        },
        {
          "name": "stderr",
          "output_type": "stream",
          "text": [
            "Trained: 100%|██████████| 33/33 [02:17<00:00,  4.17s/it]\n"
          ]
        },
        {
          "name": "stdout",
          "output_type": "stream",
          "text": [
            "Accuracy: 97.83\n",
            "Iteration:5 seed:60\n"
          ]
        },
        {
          "name": "stderr",
          "output_type": "stream",
          "text": [
            "Trained: 100%|██████████| 33/33 [02:15<00:00,  4.11s/it]\n"
          ]
        },
        {
          "name": "stdout",
          "output_type": "stream",
          "text": [
            "Accuracy: 98.13\n",
            "Iteration:6 seed:70\n"
          ]
        },
        {
          "name": "stderr",
          "output_type": "stream",
          "text": [
            "Trained: 100%|██████████| 33/33 [02:15<00:00,  4.09s/it]\n"
          ]
        },
        {
          "name": "stdout",
          "output_type": "stream",
          "text": [
            "Accuracy: 98.2\n",
            "Iteration:7 seed:80\n"
          ]
        },
        {
          "name": "stderr",
          "output_type": "stream",
          "text": [
            "Trained: 100%|██████████| 33/33 [02:14<00:00,  4.08s/it]\n"
          ]
        },
        {
          "name": "stdout",
          "output_type": "stream",
          "text": [
            "Accuracy: 98.05\n",
            "Iteration:8 seed:90\n"
          ]
        },
        {
          "name": "stderr",
          "output_type": "stream",
          "text": [
            "Trained: 100%|██████████| 33/33 [02:15<00:00,  4.10s/it]\n"
          ]
        },
        {
          "name": "stdout",
          "output_type": "stream",
          "text": [
            "Accuracy: 98.2\n",
            "Iteration:9 seed:100\n"
          ]
        },
        {
          "name": "stderr",
          "output_type": "stream",
          "text": [
            "Trained: 100%|██████████| 33/33 [02:16<00:00,  4.14s/it]\n"
          ]
        },
        {
          "name": "stdout",
          "output_type": "stream",
          "text": [
            "Accuracy: 98.06\n",
            "Mean Accuracy:98.095, STD: 0.10519030373565907\n",
            "\n",
            "Train Size: 15000, Regularizer: JacReg, Parameter: 1\n",
            "Iteration:0 seed:10\n"
          ]
        },
        {
          "name": "stderr",
          "output_type": "stream",
          "text": [
            "Trained: 100%|██████████| 33/33 [02:14<00:00,  4.06s/it]\n"
          ]
        },
        {
          "name": "stdout",
          "output_type": "stream",
          "text": [
            "Accuracy: 98.11\n",
            "Iteration:1 seed:20\n"
          ]
        },
        {
          "name": "stderr",
          "output_type": "stream",
          "text": [
            "Trained: 100%|██████████| 33/33 [02:15<00:00,  4.10s/it]\n"
          ]
        },
        {
          "name": "stdout",
          "output_type": "stream",
          "text": [
            "Accuracy: 98.26\n",
            "Iteration:2 seed:30\n"
          ]
        },
        {
          "name": "stderr",
          "output_type": "stream",
          "text": [
            "Trained: 100%|██████████| 33/33 [02:13<00:00,  4.05s/it]\n"
          ]
        },
        {
          "name": "stdout",
          "output_type": "stream",
          "text": [
            "Accuracy: 97.73\n",
            "Iteration:3 seed:40\n"
          ]
        },
        {
          "name": "stderr",
          "output_type": "stream",
          "text": [
            "Trained: 100%|██████████| 33/33 [02:13<00:00,  4.05s/it]\n"
          ]
        },
        {
          "name": "stdout",
          "output_type": "stream",
          "text": [
            "Accuracy: 98.14\n",
            "Iteration:4 seed:50\n"
          ]
        },
        {
          "name": "stderr",
          "output_type": "stream",
          "text": [
            "Trained: 100%|██████████| 33/33 [02:13<00:00,  4.05s/it]\n"
          ]
        },
        {
          "name": "stdout",
          "output_type": "stream",
          "text": [
            "Accuracy: 98.13\n",
            "Iteration:5 seed:60\n"
          ]
        },
        {
          "name": "stderr",
          "output_type": "stream",
          "text": [
            "Trained: 100%|██████████| 33/33 [02:13<00:00,  4.06s/it]\n"
          ]
        },
        {
          "name": "stdout",
          "output_type": "stream",
          "text": [
            "Accuracy: 97.97\n",
            "Iteration:6 seed:70\n"
          ]
        },
        {
          "name": "stderr",
          "output_type": "stream",
          "text": [
            "Trained: 100%|██████████| 33/33 [02:13<00:00,  4.06s/it]\n"
          ]
        },
        {
          "name": "stdout",
          "output_type": "stream",
          "text": [
            "Accuracy: 98.1\n",
            "Iteration:7 seed:80\n"
          ]
        },
        {
          "name": "stderr",
          "output_type": "stream",
          "text": [
            "Trained: 100%|██████████| 33/33 [02:13<00:00,  4.05s/it]\n"
          ]
        },
        {
          "name": "stdout",
          "output_type": "stream",
          "text": [
            "Accuracy: 97.93\n",
            "Iteration:8 seed:90\n"
          ]
        },
        {
          "name": "stderr",
          "output_type": "stream",
          "text": [
            "Trained: 100%|██████████| 33/33 [02:12<00:00,  4.02s/it]\n"
          ]
        },
        {
          "name": "stdout",
          "output_type": "stream",
          "text": [
            "Accuracy: 98.28\n",
            "Iteration:9 seed:100\n"
          ]
        },
        {
          "name": "stderr",
          "output_type": "stream",
          "text": [
            "Trained: 100%|██████████| 33/33 [02:15<00:00,  4.11s/it]\n"
          ]
        },
        {
          "name": "stdout",
          "output_type": "stream",
          "text": [
            "Accuracy: 98.03\n",
            "Mean Accuracy:98.068, STD: 0.15425952158618836\n",
            "\n",
            "Train Size: 15000, Regularizer: ConfPenalty, Parameter: 0.01\n",
            "Iteration:0 seed:10\n"
          ]
        },
        {
          "name": "stderr",
          "output_type": "stream",
          "text": [
            "Trained: 100%|██████████| 33/33 [02:03<00:00,  3.75s/it]\n"
          ]
        },
        {
          "name": "stdout",
          "output_type": "stream",
          "text": [
            "Accuracy: 98.01\n",
            "Iteration:1 seed:20\n"
          ]
        },
        {
          "name": "stderr",
          "output_type": "stream",
          "text": [
            "Trained: 100%|██████████| 33/33 [02:02<00:00,  3.72s/it]\n"
          ]
        },
        {
          "name": "stdout",
          "output_type": "stream",
          "text": [
            "Accuracy: 98.22\n",
            "Iteration:2 seed:30\n"
          ]
        },
        {
          "name": "stderr",
          "output_type": "stream",
          "text": [
            "Trained: 100%|██████████| 33/33 [02:03<00:00,  3.74s/it]\n"
          ]
        },
        {
          "name": "stdout",
          "output_type": "stream",
          "text": [
            "Accuracy: 98.18\n",
            "Iteration:3 seed:40\n"
          ]
        },
        {
          "name": "stderr",
          "output_type": "stream",
          "text": [
            "Trained: 100%|██████████| 33/33 [02:03<00:00,  3.75s/it]\n"
          ]
        },
        {
          "name": "stdout",
          "output_type": "stream",
          "text": [
            "Accuracy: 97.94\n",
            "Iteration:4 seed:50\n"
          ]
        },
        {
          "name": "stderr",
          "output_type": "stream",
          "text": [
            "Trained: 100%|██████████| 33/33 [02:03<00:00,  3.73s/it]\n"
          ]
        },
        {
          "name": "stdout",
          "output_type": "stream",
          "text": [
            "Accuracy: 98.13\n",
            "Iteration:5 seed:60\n"
          ]
        },
        {
          "name": "stderr",
          "output_type": "stream",
          "text": [
            "Trained: 100%|██████████| 33/33 [02:04<00:00,  3.76s/it]\n"
          ]
        },
        {
          "name": "stdout",
          "output_type": "stream",
          "text": [
            "Accuracy: 98.08\n",
            "Iteration:6 seed:70\n"
          ]
        },
        {
          "name": "stderr",
          "output_type": "stream",
          "text": [
            "Trained: 100%|██████████| 33/33 [02:04<00:00,  3.77s/it]\n"
          ]
        },
        {
          "name": "stdout",
          "output_type": "stream",
          "text": [
            "Accuracy: 98.07\n",
            "Iteration:7 seed:80\n"
          ]
        },
        {
          "name": "stderr",
          "output_type": "stream",
          "text": [
            "Trained: 100%|██████████| 33/33 [02:06<00:00,  3.82s/it]\n"
          ]
        },
        {
          "name": "stdout",
          "output_type": "stream",
          "text": [
            "Accuracy: 97.97\n",
            "Iteration:8 seed:90\n"
          ]
        },
        {
          "name": "stderr",
          "output_type": "stream",
          "text": [
            "Trained: 100%|██████████| 33/33 [02:06<00:00,  3.85s/it]\n"
          ]
        },
        {
          "name": "stdout",
          "output_type": "stream",
          "text": [
            "Accuracy: 98.24\n",
            "Iteration:9 seed:100\n"
          ]
        },
        {
          "name": "stderr",
          "output_type": "stream",
          "text": [
            "Trained: 100%|██████████| 33/33 [02:06<00:00,  3.84s/it]\n"
          ]
        },
        {
          "name": "stdout",
          "output_type": "stream",
          "text": [
            "Accuracy: 97.93\n",
            "Mean Accuracy:98.077, STD: 0.10807867504739184\n",
            "\n",
            "Train Size: 20000, Regularizer: DoubleBack, Parameter: 2\n",
            "Iteration:0 seed:10\n"
          ]
        },
        {
          "name": "stderr",
          "output_type": "stream",
          "text": [
            "Trained: 100%|██████████| 25/25 [02:14<00:00,  5.37s/it]\n"
          ]
        },
        {
          "name": "stdout",
          "output_type": "stream",
          "text": [
            "Accuracy: 98.08\n",
            "Iteration:1 seed:20\n"
          ]
        },
        {
          "name": "stderr",
          "output_type": "stream",
          "text": [
            "Trained: 100%|██████████| 25/25 [02:13<00:00,  5.35s/it]\n"
          ]
        },
        {
          "name": "stdout",
          "output_type": "stream",
          "text": [
            "Accuracy: 98.36\n",
            "Iteration:2 seed:30\n"
          ]
        },
        {
          "name": "stderr",
          "output_type": "stream",
          "text": [
            "Trained: 100%|██████████| 25/25 [02:13<00:00,  5.34s/it]\n"
          ]
        },
        {
          "name": "stdout",
          "output_type": "stream",
          "text": [
            "Accuracy: 98.44\n",
            "Iteration:3 seed:40\n"
          ]
        },
        {
          "name": "stderr",
          "output_type": "stream",
          "text": [
            "Trained: 100%|██████████| 25/25 [02:14<00:00,  5.39s/it]\n"
          ]
        },
        {
          "name": "stdout",
          "output_type": "stream",
          "text": [
            "Accuracy: 98.21\n",
            "Iteration:4 seed:50\n"
          ]
        },
        {
          "name": "stderr",
          "output_type": "stream",
          "text": [
            "Trained: 100%|██████████| 25/25 [02:12<00:00,  5.28s/it]\n"
          ]
        },
        {
          "name": "stdout",
          "output_type": "stream",
          "text": [
            "Accuracy: 98.16\n",
            "Iteration:5 seed:60\n"
          ]
        },
        {
          "name": "stderr",
          "output_type": "stream",
          "text": [
            "Trained: 100%|██████████| 25/25 [02:13<00:00,  5.36s/it]\n"
          ]
        },
        {
          "name": "stdout",
          "output_type": "stream",
          "text": [
            "Accuracy: 98.25\n",
            "Iteration:6 seed:70\n"
          ]
        },
        {
          "name": "stderr",
          "output_type": "stream",
          "text": [
            "Trained: 100%|██████████| 25/25 [02:12<00:00,  5.32s/it]\n"
          ]
        },
        {
          "name": "stdout",
          "output_type": "stream",
          "text": [
            "Accuracy: 97.82\n",
            "Iteration:7 seed:80\n"
          ]
        },
        {
          "name": "stderr",
          "output_type": "stream",
          "text": [
            "Trained: 100%|██████████| 25/25 [02:13<00:00,  5.34s/it]\n"
          ]
        },
        {
          "name": "stdout",
          "output_type": "stream",
          "text": [
            "Accuracy: 98.29\n",
            "Iteration:8 seed:90\n"
          ]
        },
        {
          "name": "stderr",
          "output_type": "stream",
          "text": [
            "Trained: 100%|██████████| 25/25 [02:15<00:00,  5.42s/it]\n"
          ]
        },
        {
          "name": "stdout",
          "output_type": "stream",
          "text": [
            "Accuracy: 98.34\n",
            "Iteration:9 seed:100\n"
          ]
        },
        {
          "name": "stderr",
          "output_type": "stream",
          "text": [
            "Trained: 100%|██████████| 25/25 [02:17<00:00,  5.50s/it]\n"
          ]
        },
        {
          "name": "stdout",
          "output_type": "stream",
          "text": [
            "Accuracy: 98.3\n",
            "Mean Accuracy:98.225, STD: 0.1666283289239878\n",
            "\n",
            "Train Size: 20000, Regularizer: SpectReg, Parameter: 0.001\n",
            "Iteration:0 seed:10\n"
          ]
        },
        {
          "name": "stderr",
          "output_type": "stream",
          "text": [
            "Trained: 100%|██████████| 25/25 [02:20<00:00,  5.62s/it]\n"
          ]
        },
        {
          "name": "stdout",
          "output_type": "stream",
          "text": [
            "Accuracy: 98.11\n",
            "Iteration:1 seed:20\n"
          ]
        },
        {
          "name": "stderr",
          "output_type": "stream",
          "text": [
            "Trained: 100%|██████████| 25/25 [02:19<00:00,  5.59s/it]\n"
          ]
        },
        {
          "name": "stdout",
          "output_type": "stream",
          "text": [
            "Accuracy: 98.36\n",
            "Iteration:2 seed:30\n"
          ]
        },
        {
          "name": "stderr",
          "output_type": "stream",
          "text": [
            "Trained: 100%|██████████| 25/25 [02:18<00:00,  5.56s/it]\n"
          ]
        },
        {
          "name": "stdout",
          "output_type": "stream",
          "text": [
            "Accuracy: 98.45\n",
            "Iteration:3 seed:40\n"
          ]
        },
        {
          "name": "stderr",
          "output_type": "stream",
          "text": [
            "Trained: 100%|██████████| 25/25 [02:18<00:00,  5.54s/it]\n"
          ]
        },
        {
          "name": "stdout",
          "output_type": "stream",
          "text": [
            "Accuracy: 98.38\n",
            "Iteration:4 seed:50\n"
          ]
        },
        {
          "name": "stderr",
          "output_type": "stream",
          "text": [
            "Trained: 100%|██████████| 25/25 [02:18<00:00,  5.53s/it]\n"
          ]
        },
        {
          "name": "stdout",
          "output_type": "stream",
          "text": [
            "Accuracy: 98.3\n",
            "Iteration:5 seed:60\n"
          ]
        },
        {
          "name": "stderr",
          "output_type": "stream",
          "text": [
            "Trained: 100%|██████████| 25/25 [02:19<00:00,  5.56s/it]\n"
          ]
        },
        {
          "name": "stdout",
          "output_type": "stream",
          "text": [
            "Accuracy: 98.12\n",
            "Iteration:6 seed:70\n"
          ]
        },
        {
          "name": "stderr",
          "output_type": "stream",
          "text": [
            "Trained: 100%|██████████| 25/25 [02:19<00:00,  5.57s/it]\n"
          ]
        },
        {
          "name": "stdout",
          "output_type": "stream",
          "text": [
            "Accuracy: 98.19\n",
            "Iteration:7 seed:80\n"
          ]
        },
        {
          "name": "stderr",
          "output_type": "stream",
          "text": [
            "Trained: 100%|██████████| 25/25 [02:18<00:00,  5.53s/it]\n"
          ]
        },
        {
          "name": "stdout",
          "output_type": "stream",
          "text": [
            "Accuracy: 98.48\n",
            "Iteration:8 seed:90\n"
          ]
        },
        {
          "name": "stderr",
          "output_type": "stream",
          "text": [
            "Trained: 100%|██████████| 25/25 [02:21<00:00,  5.65s/it]\n"
          ]
        },
        {
          "name": "stdout",
          "output_type": "stream",
          "text": [
            "Accuracy: 98.43\n",
            "Iteration:9 seed:100\n"
          ]
        },
        {
          "name": "stderr",
          "output_type": "stream",
          "text": [
            "Trained: 100%|██████████| 25/25 [02:23<00:00,  5.74s/it]\n"
          ]
        },
        {
          "name": "stdout",
          "output_type": "stream",
          "text": [
            "Accuracy: 98.13\n",
            "Mean Accuracy:98.29499999999999, STD: 0.13822083779228223\n",
            "\n",
            "Train Size: 20000, Regularizer: JacReg, Parameter: 0.3\n",
            "Iteration:0 seed:10\n"
          ]
        },
        {
          "name": "stderr",
          "output_type": "stream",
          "text": [
            "Trained: 100%|██████████| 25/25 [02:28<00:00,  5.94s/it]\n"
          ]
        },
        {
          "name": "stdout",
          "output_type": "stream",
          "text": [
            "Accuracy: 98.23\n",
            "Iteration:1 seed:20\n"
          ]
        },
        {
          "name": "stderr",
          "output_type": "stream",
          "text": [
            "Trained: 100%|██████████| 25/25 [02:24<00:00,  5.77s/it]\n"
          ]
        },
        {
          "name": "stdout",
          "output_type": "stream",
          "text": [
            "Accuracy: 98.65\n",
            "Iteration:2 seed:30\n"
          ]
        },
        {
          "name": "stderr",
          "output_type": "stream",
          "text": [
            "Trained: 100%|██████████| 25/25 [02:16<00:00,  5.48s/it]\n"
          ]
        },
        {
          "name": "stdout",
          "output_type": "stream",
          "text": [
            "Accuracy: 97.98\n",
            "Iteration:3 seed:40\n"
          ]
        },
        {
          "name": "stderr",
          "output_type": "stream",
          "text": [
            "Trained: 100%|██████████| 25/25 [02:17<00:00,  5.52s/it]\n"
          ]
        },
        {
          "name": "stdout",
          "output_type": "stream",
          "text": [
            "Accuracy: 98.21\n",
            "Iteration:4 seed:50\n"
          ]
        },
        {
          "name": "stderr",
          "output_type": "stream",
          "text": [
            "Trained: 100%|██████████| 25/25 [02:18<00:00,  5.53s/it]\n"
          ]
        },
        {
          "name": "stdout",
          "output_type": "stream",
          "text": [
            "Accuracy: 98.18\n",
            "Iteration:5 seed:60\n"
          ]
        },
        {
          "name": "stderr",
          "output_type": "stream",
          "text": [
            "Trained: 100%|██████████| 25/25 [02:17<00:00,  5.49s/it]\n"
          ]
        },
        {
          "name": "stdout",
          "output_type": "stream",
          "text": [
            "Accuracy: 98.53\n",
            "Iteration:6 seed:70\n"
          ]
        },
        {
          "name": "stderr",
          "output_type": "stream",
          "text": [
            "Trained: 100%|██████████| 25/25 [02:16<00:00,  5.45s/it]\n"
          ]
        },
        {
          "name": "stdout",
          "output_type": "stream",
          "text": [
            "Accuracy: 97.87\n",
            "Iteration:7 seed:80\n"
          ]
        },
        {
          "name": "stderr",
          "output_type": "stream",
          "text": [
            "Trained: 100%|██████████| 25/25 [02:15<00:00,  5.44s/it]\n"
          ]
        },
        {
          "name": "stdout",
          "output_type": "stream",
          "text": [
            "Accuracy: 98.08\n",
            "Iteration:8 seed:90\n"
          ]
        },
        {
          "name": "stderr",
          "output_type": "stream",
          "text": [
            "Trained: 100%|██████████| 25/25 [02:15<00:00,  5.43s/it]\n"
          ]
        },
        {
          "name": "stdout",
          "output_type": "stream",
          "text": [
            "Accuracy: 98.29\n",
            "Iteration:9 seed:100\n"
          ]
        },
        {
          "name": "stderr",
          "output_type": "stream",
          "text": [
            "Trained: 100%|██████████| 25/25 [02:17<00:00,  5.52s/it]\n"
          ]
        },
        {
          "name": "stdout",
          "output_type": "stream",
          "text": [
            "Accuracy: 98.29\n",
            "Mean Accuracy:98.231, STD: 0.22160550534677648\n",
            "\n",
            "Train Size: 20000, Regularizer: ConfPenalty, Parameter: 0.03\n",
            "Iteration:0 seed:10\n"
          ]
        },
        {
          "name": "stderr",
          "output_type": "stream",
          "text": [
            "Trained: 100%|██████████| 25/25 [02:03<00:00,  4.95s/it]\n"
          ]
        },
        {
          "name": "stdout",
          "output_type": "stream",
          "text": [
            "Accuracy: 98.04\n",
            "Iteration:1 seed:20\n"
          ]
        },
        {
          "name": "stderr",
          "output_type": "stream",
          "text": [
            "Trained: 100%|██████████| 25/25 [02:04<00:00,  4.98s/it]\n"
          ]
        },
        {
          "name": "stdout",
          "output_type": "stream",
          "text": [
            "Accuracy: 98.33\n",
            "Iteration:2 seed:30\n"
          ]
        },
        {
          "name": "stderr",
          "output_type": "stream",
          "text": [
            "Trained: 100%|██████████| 25/25 [02:04<00:00,  4.96s/it]\n"
          ]
        },
        {
          "name": "stdout",
          "output_type": "stream",
          "text": [
            "Accuracy: 98.35\n",
            "Iteration:3 seed:40\n"
          ]
        },
        {
          "name": "stderr",
          "output_type": "stream",
          "text": [
            "Trained: 100%|██████████| 25/25 [02:03<00:00,  4.94s/it]\n"
          ]
        },
        {
          "name": "stdout",
          "output_type": "stream",
          "text": [
            "Accuracy: 98.23\n",
            "Iteration:4 seed:50\n"
          ]
        },
        {
          "name": "stderr",
          "output_type": "stream",
          "text": [
            "Trained: 100%|██████████| 25/25 [02:03<00:00,  4.92s/it]\n"
          ]
        },
        {
          "name": "stdout",
          "output_type": "stream",
          "text": [
            "Accuracy: 98.45\n",
            "Iteration:5 seed:60\n"
          ]
        },
        {
          "name": "stderr",
          "output_type": "stream",
          "text": [
            "Trained: 100%|██████████| 25/25 [02:05<00:00,  5.01s/it]\n"
          ]
        },
        {
          "name": "stdout",
          "output_type": "stream",
          "text": [
            "Accuracy: 98.36\n",
            "Iteration:6 seed:70\n"
          ]
        },
        {
          "name": "stderr",
          "output_type": "stream",
          "text": [
            "Trained: 100%|██████████| 25/25 [02:04<00:00,  4.97s/it]\n"
          ]
        },
        {
          "name": "stdout",
          "output_type": "stream",
          "text": [
            "Accuracy: 98.15\n",
            "Iteration:7 seed:80\n"
          ]
        },
        {
          "name": "stderr",
          "output_type": "stream",
          "text": [
            "Trained: 100%|██████████| 25/25 [02:03<00:00,  4.93s/it]\n"
          ]
        },
        {
          "name": "stdout",
          "output_type": "stream",
          "text": [
            "Accuracy: 97.98\n",
            "Iteration:8 seed:90\n"
          ]
        },
        {
          "name": "stderr",
          "output_type": "stream",
          "text": [
            "Trained: 100%|██████████| 25/25 [02:04<00:00,  4.99s/it]\n"
          ]
        },
        {
          "name": "stdout",
          "output_type": "stream",
          "text": [
            "Accuracy: 98.4\n",
            "Iteration:9 seed:100\n"
          ]
        },
        {
          "name": "stderr",
          "output_type": "stream",
          "text": [
            "Trained: 100%|██████████| 25/25 [02:03<00:00,  4.96s/it]\n"
          ]
        },
        {
          "name": "stdout",
          "output_type": "stream",
          "text": [
            "Accuracy: 98.35\n",
            "Mean Accuracy:98.264, STD: 0.15047923444781133\n",
            "\n"
          ]
        }
      ],
      "source": [
        "for index,size in enumerate(train_size):\n",
        "    num_samples_per_class=size//10\n",
        "    for reg in regularizers:\n",
        "        reg_parameter=params[reg][index]\n",
        "        print(f\"Train Size: {size}, Regularizer: {reg}, Parameter: {reg_parameter}\")\n",
        "        for i in range(10):\n",
        "            print(f\"Iteration:{i} seed:{seeds[i]}\")\n",
        "            model=BaseModel(include_dropout=True).to(device)\n",
        "            train_loader=get_subset_dataloader(data_train,seeds[i],num_samples_per_class,batch_size)\n",
        "            accuracy=train(model,train_loader,test_loader,num_samples_per_class,reg,reg_parameter)\n",
        "            accuracy_dict[size][reg].append(accuracy)\n",
        "            print(\"Accuracy:\",accuracy)\n",
        "        accuracy_list=accuracy_dict[size][reg]\n",
        "        print(f\"Mean Accuracy:{np.mean(accuracy_list)}, STD: {np.std(accuracy_list)}\")\n",
        "        print(\"\")"
      ]
    },
    {
      "cell_type": "markdown",
      "metadata": {
        "id": "lZAisK2KeIkA"
      },
      "source": [
        "# Experiment C6: APPROXIMATING THE FROBENIUS NORM OF THE JACOBIAN DOES NOT DECREASE ACCURACY\n"
      ]
    },
    {
      "cell_type": "code",
      "execution_count": 20,
      "metadata": {},
      "outputs": [],
      "source": [
        "batch_size=50\n",
        "num_samples_per_class=200\n",
        "seeds=[10,20,30,40,50,60,70,80,90,100]"
      ]
    },
    {
      "cell_type": "code",
      "execution_count": 21,
      "metadata": {},
      "outputs": [],
      "source": [
        "def train(model,train_loader,test_loader,num_samples_per_class,regularizer):\n",
        "    criterion=nn.CrossEntropyLoss()\n",
        "    opt=torch.optim.Adam(model.parameters(),lr=0.001,betas=(0.9,0.999),weight_decay=0.0005)\n",
        "    \n",
        "    num_epochs= int(10000/((num_samples_per_class*10)/batch_size))\n",
        "    # num_epochs=10\n",
        "    milestones = [int(0.5 * num_epochs), int(0.75 * num_epochs)]  \n",
        "    scheduler = MultiStepLR(opt, milestones=milestones, gamma=0.1)\n",
        "    \n",
        "    for epoch in tqdm(range(num_epochs),\"Trained\"):\n",
        "        for i, data in enumerate(train_loader):\n",
        "            inputs,label=data\n",
        "            inputs=inputs.to(device)\n",
        "            label=label.to(device)\n",
        "            opt.zero_grad()\n",
        "\n",
        "            if regularizer==\"SpectReg\":\n",
        "                loss = spectral_reg_loss(model, criterion, inputs, label, 0.03, 10)\n",
        "            elif regularizer==\"JacReg\":\n",
        "                loss = jac_reg_loss(model, criterion, inputs, label, 1)\n",
        "            elif regularizer==\"FrobReg\":\n",
        "                loss = frobreg_loss(model, criterion, inputs, label, 0.03)\n",
        "\n",
        "            loss.backward()\n",
        "            opt.step()\n",
        "    \n",
        "        scheduler.step()\n",
        "         \n",
        "    return Evaluate(test_loader,model)"
      ]
    },
    {
      "cell_type": "markdown",
      "metadata": {},
      "source": [
        "### SpectReg\n"
      ]
    },
    {
      "cell_type": "code",
      "execution_count": 22,
      "metadata": {},
      "outputs": [
        {
          "name": "stdout",
          "output_type": "stream",
          "text": [
            "Iteration:0 seed:10\n"
          ]
        },
        {
          "name": "stdout",
          "output_type": "stream",
          "text": [
            "Subset created with total lenght: 2000\n"
          ]
        },
        {
          "name": "stderr",
          "output_type": "stream",
          "text": [
            "Trained: 100%|██████████| 250/250 [04:28<00:00,  1.08s/it]\n"
          ]
        },
        {
          "name": "stdout",
          "output_type": "stream",
          "text": [
            "Accuracy: 96.37\n",
            "Iteration:1 seed:20\n",
            "Subset created with total lenght: 2000\n"
          ]
        },
        {
          "name": "stderr",
          "output_type": "stream",
          "text": [
            "Trained: 100%|██████████| 250/250 [04:31<00:00,  1.09s/it]\n"
          ]
        },
        {
          "name": "stdout",
          "output_type": "stream",
          "text": [
            "Accuracy: 96.39\n",
            "Iteration:2 seed:30\n",
            "Subset created with total lenght: 2000\n"
          ]
        },
        {
          "name": "stderr",
          "output_type": "stream",
          "text": [
            "Trained: 100%|██████████| 250/250 [04:34<00:00,  1.10s/it]\n"
          ]
        },
        {
          "name": "stdout",
          "output_type": "stream",
          "text": [
            "Accuracy: 96.72\n",
            "Iteration:3 seed:40\n",
            "Subset created with total lenght: 2000\n"
          ]
        },
        {
          "name": "stderr",
          "output_type": "stream",
          "text": [
            "Trained: 100%|██████████| 250/250 [03:57<00:00,  1.05it/s]\n"
          ]
        },
        {
          "name": "stdout",
          "output_type": "stream",
          "text": [
            "Accuracy: 96.74\n",
            "Iteration:4 seed:50\n",
            "Subset created with total lenght: 2000\n"
          ]
        },
        {
          "name": "stderr",
          "output_type": "stream",
          "text": [
            "Trained: 100%|██████████| 250/250 [03:49<00:00,  1.09it/s]\n"
          ]
        },
        {
          "name": "stdout",
          "output_type": "stream",
          "text": [
            "Accuracy: 96.13\n",
            "Iteration:5 seed:60\n",
            "Subset created with total lenght: 2000\n"
          ]
        },
        {
          "name": "stderr",
          "output_type": "stream",
          "text": [
            "Trained: 100%|██████████| 250/250 [03:46<00:00,  1.10it/s]\n"
          ]
        },
        {
          "name": "stdout",
          "output_type": "stream",
          "text": [
            "Accuracy: 96.32\n",
            "Iteration:6 seed:70\n",
            "Subset created with total lenght: 2000\n"
          ]
        },
        {
          "name": "stderr",
          "output_type": "stream",
          "text": [
            "Trained: 100%|██████████| 250/250 [03:45<00:00,  1.11it/s]\n"
          ]
        },
        {
          "name": "stdout",
          "output_type": "stream",
          "text": [
            "Accuracy: 96.52\n",
            "Iteration:7 seed:80\n",
            "Subset created with total lenght: 2000\n"
          ]
        },
        {
          "name": "stderr",
          "output_type": "stream",
          "text": [
            "Trained: 100%|██████████| 250/250 [03:50<00:00,  1.08it/s]\n"
          ]
        },
        {
          "name": "stdout",
          "output_type": "stream",
          "text": [
            "Accuracy: 96.4\n",
            "Iteration:8 seed:90\n",
            "Subset created with total lenght: 2000\n"
          ]
        },
        {
          "name": "stderr",
          "output_type": "stream",
          "text": [
            "Trained: 100%|██████████| 250/250 [03:40<00:00,  1.14it/s]\n"
          ]
        },
        {
          "name": "stdout",
          "output_type": "stream",
          "text": [
            "Accuracy: 96.74\n",
            "Iteration:9 seed:100\n",
            "Subset created with total lenght: 2000\n"
          ]
        },
        {
          "name": "stderr",
          "output_type": "stream",
          "text": [
            "Trained: 100%|██████████| 250/250 [03:47<00:00,  1.10it/s]\n"
          ]
        },
        {
          "name": "stdout",
          "output_type": "stream",
          "text": [
            "Accuracy: 96.54\n"
          ]
        }
      ],
      "source": [
        "accuracy_list=[]\n",
        "for i in range(10):\n",
        "    print(f\"Iteration:{i} seed:{seeds[i]}\")\n",
        "    model=BaseModel(include_dropout=True).to(device)\n",
        "    train_loader=get_subset_dataloader(data_train,seeds[i],num_samples_per_class,batch_size)\n",
        "    accuracy=train(model,train_loader,test_loader,num_samples_per_class,\"SpectReg\")\n",
        "    accuracy_list.append(accuracy)\n",
        "    print(\"Accuracy:\",accuracy)"
      ]
    },
    {
      "cell_type": "code",
      "execution_count": 23,
      "metadata": {},
      "outputs": [
        {
          "name": "stdout",
          "output_type": "stream",
          "text": [
            "Accuracy List [96.37, 96.39, 96.72, 96.74, 96.13, 96.32, 96.52, 96.4, 96.74, 96.54]\n",
            "Mean Accuracy: 96.487\n",
            "SD: 0.19\n"
          ]
        }
      ],
      "source": [
        "print(\"Accuracy List\",accuracy_list)\n",
        "print(\"Mean Accuracy:\",np.mean(accuracy_list))\n",
        "print(\"SD:\",round(np.std(accuracy_list),2))"
      ]
    },
    {
      "cell_type": "markdown",
      "metadata": {},
      "source": [
        "### JacReg\n"
      ]
    },
    {
      "cell_type": "code",
      "execution_count": 24,
      "metadata": {},
      "outputs": [
        {
          "name": "stdout",
          "output_type": "stream",
          "text": [
            "Iteration:0 seed:10\n",
            "Subset created with total lenght: 2000\n"
          ]
        },
        {
          "name": "stderr",
          "output_type": "stream",
          "text": [
            "Trained: 100%|██████████| 250/250 [03:55<00:00,  1.06it/s]\n"
          ]
        },
        {
          "name": "stdout",
          "output_type": "stream",
          "text": [
            "Accuracy: 96.09\n",
            "Iteration:1 seed:20\n",
            "Subset created with total lenght: 2000\n"
          ]
        },
        {
          "name": "stderr",
          "output_type": "stream",
          "text": [
            "Trained: 100%|██████████| 250/250 [03:51<00:00,  1.08it/s]\n"
          ]
        },
        {
          "name": "stdout",
          "output_type": "stream",
          "text": [
            "Accuracy: 96.46\n",
            "Iteration:2 seed:30\n",
            "Subset created with total lenght: 2000\n"
          ]
        },
        {
          "name": "stderr",
          "output_type": "stream",
          "text": [
            "Trained: 100%|██████████| 250/250 [03:48<00:00,  1.09it/s]\n"
          ]
        },
        {
          "name": "stdout",
          "output_type": "stream",
          "text": [
            "Accuracy: 96.65\n",
            "Iteration:3 seed:40\n",
            "Subset created with total lenght: 2000\n"
          ]
        },
        {
          "name": "stderr",
          "output_type": "stream",
          "text": [
            "Trained: 100%|██████████| 250/250 [03:48<00:00,  1.09it/s]\n"
          ]
        },
        {
          "name": "stdout",
          "output_type": "stream",
          "text": [
            "Accuracy: 96.72\n",
            "Iteration:4 seed:50\n",
            "Subset created with total lenght: 2000\n"
          ]
        },
        {
          "name": "stderr",
          "output_type": "stream",
          "text": [
            "Trained: 100%|██████████| 250/250 [03:48<00:00,  1.09it/s]\n"
          ]
        },
        {
          "name": "stdout",
          "output_type": "stream",
          "text": [
            "Accuracy: 96.46\n",
            "Iteration:5 seed:60\n",
            "Subset created with total lenght: 2000\n"
          ]
        },
        {
          "name": "stderr",
          "output_type": "stream",
          "text": [
            "Trained: 100%|██████████| 250/250 [03:46<00:00,  1.10it/s]\n"
          ]
        },
        {
          "name": "stdout",
          "output_type": "stream",
          "text": [
            "Accuracy: 96.61\n",
            "Iteration:6 seed:70\n",
            "Subset created with total lenght: 2000\n"
          ]
        },
        {
          "name": "stderr",
          "output_type": "stream",
          "text": [
            "Trained: 100%|██████████| 250/250 [03:51<00:00,  1.08it/s]\n"
          ]
        },
        {
          "name": "stdout",
          "output_type": "stream",
          "text": [
            "Accuracy: 96.81\n",
            "Iteration:7 seed:80\n",
            "Subset created with total lenght: 2000\n"
          ]
        },
        {
          "name": "stderr",
          "output_type": "stream",
          "text": [
            "Trained: 100%|██████████| 250/250 [03:45<00:00,  1.11it/s]\n"
          ]
        },
        {
          "name": "stdout",
          "output_type": "stream",
          "text": [
            "Accuracy: 96.84\n",
            "Iteration:8 seed:90\n",
            "Subset created with total lenght: 2000\n"
          ]
        },
        {
          "name": "stderr",
          "output_type": "stream",
          "text": [
            "Trained: 100%|██████████| 250/250 [03:53<00:00,  1.07it/s]\n"
          ]
        },
        {
          "name": "stdout",
          "output_type": "stream",
          "text": [
            "Accuracy: 96.78\n",
            "Iteration:9 seed:100\n",
            "Subset created with total lenght: 2000\n"
          ]
        },
        {
          "name": "stderr",
          "output_type": "stream",
          "text": [
            "Trained: 100%|██████████| 250/250 [03:42<00:00,  1.12it/s]\n"
          ]
        },
        {
          "name": "stdout",
          "output_type": "stream",
          "text": [
            "Accuracy: 96.39\n"
          ]
        }
      ],
      "source": [
        "accuracy_list=[]\n",
        "for i in range(10):\n",
        "    print(f\"Iteration:{i} seed:{seeds[i]}\")\n",
        "    model=BaseModel(include_dropout=True).to(device)\n",
        "    train_loader=get_subset_dataloader(data_train,seeds[i],num_samples_per_class,batch_size)\n",
        "    accuracy=train(model,train_loader,test_loader,num_samples_per_class,\"JacReg\")\n",
        "    accuracy_list.append(accuracy)\n",
        "    print(\"Accuracy:\",accuracy)"
      ]
    },
    {
      "cell_type": "code",
      "execution_count": 25,
      "metadata": {},
      "outputs": [
        {
          "name": "stdout",
          "output_type": "stream",
          "text": [
            "[96.09, 96.46, 96.65, 96.72, 96.46, 96.61, 96.81, 96.84, 96.78, 96.39]\n",
            "96.581\n",
            "0.22156037551872923\n"
          ]
        }
      ],
      "source": [
        "print(accuracy_list)\n",
        "print(np.mean(accuracy_list))\n",
        "print(np.std(accuracy_list))"
      ]
    },
    {
      "cell_type": "markdown",
      "metadata": {},
      "source": [
        "### FrobReg\n"
      ]
    },
    {
      "cell_type": "code",
      "execution_count": 26,
      "metadata": {},
      "outputs": [
        {
          "name": "stdout",
          "output_type": "stream",
          "text": [
            "Iteration:0 seed:10\n",
            "Subset created with total lenght: 2000\n"
          ]
        },
        {
          "name": "stderr",
          "output_type": "stream",
          "text": [
            "Trained: 100%|██████████| 250/250 [03:58<00:00,  1.05it/s]\n"
          ]
        },
        {
          "name": "stdout",
          "output_type": "stream",
          "text": [
            "Accuracy: 96.91\n",
            "Iteration:1 seed:20\n",
            "Subset created with total lenght: 2000\n"
          ]
        },
        {
          "name": "stderr",
          "output_type": "stream",
          "text": [
            "Trained: 100%|██████████| 250/250 [03:50<00:00,  1.09it/s]\n"
          ]
        },
        {
          "name": "stdout",
          "output_type": "stream",
          "text": [
            "Accuracy: 96.46\n",
            "Iteration:2 seed:30\n",
            "Subset created with total lenght: 2000\n"
          ]
        },
        {
          "name": "stderr",
          "output_type": "stream",
          "text": [
            "Trained: 100%|██████████| 250/250 [03:54<00:00,  1.07it/s]\n"
          ]
        },
        {
          "name": "stdout",
          "output_type": "stream",
          "text": [
            "Accuracy: 96.71\n",
            "Iteration:3 seed:40\n",
            "Subset created with total lenght: 2000\n"
          ]
        },
        {
          "name": "stderr",
          "output_type": "stream",
          "text": [
            "Trained: 100%|██████████| 250/250 [03:54<00:00,  1.07it/s]\n"
          ]
        },
        {
          "name": "stdout",
          "output_type": "stream",
          "text": [
            "Accuracy: 96.69\n",
            "Iteration:4 seed:50\n",
            "Subset created with total lenght: 2000\n"
          ]
        },
        {
          "name": "stderr",
          "output_type": "stream",
          "text": [
            "Trained: 100%|██████████| 250/250 [03:49<00:00,  1.09it/s]\n"
          ]
        },
        {
          "name": "stdout",
          "output_type": "stream",
          "text": [
            "Accuracy: 96.38\n",
            "Iteration:5 seed:60\n",
            "Subset created with total lenght: 2000\n"
          ]
        },
        {
          "name": "stderr",
          "output_type": "stream",
          "text": [
            "Trained: 100%|██████████| 250/250 [03:53<00:00,  1.07it/s]\n"
          ]
        },
        {
          "name": "stdout",
          "output_type": "stream",
          "text": [
            "Accuracy: 96.76\n",
            "Iteration:6 seed:70\n",
            "Subset created with total lenght: 2000\n"
          ]
        },
        {
          "name": "stderr",
          "output_type": "stream",
          "text": [
            "Trained: 100%|██████████| 250/250 [03:48<00:00,  1.09it/s]\n"
          ]
        },
        {
          "name": "stdout",
          "output_type": "stream",
          "text": [
            "Accuracy: 96.34\n",
            "Iteration:7 seed:80\n",
            "Subset created with total lenght: 2000\n"
          ]
        },
        {
          "name": "stderr",
          "output_type": "stream",
          "text": [
            "Trained: 100%|██████████| 250/250 [03:49<00:00,  1.09it/s]\n"
          ]
        },
        {
          "name": "stdout",
          "output_type": "stream",
          "text": [
            "Accuracy: 96.91\n",
            "Iteration:8 seed:90\n",
            "Subset created with total lenght: 2000\n"
          ]
        },
        {
          "name": "stderr",
          "output_type": "stream",
          "text": [
            "Trained: 100%|██████████| 250/250 [03:48<00:00,  1.10it/s]\n"
          ]
        },
        {
          "name": "stdout",
          "output_type": "stream",
          "text": [
            "Accuracy: 96.75\n",
            "Iteration:9 seed:100\n",
            "Subset created with total lenght: 2000\n"
          ]
        },
        {
          "name": "stderr",
          "output_type": "stream",
          "text": [
            "Trained: 100%|██████████| 250/250 [03:50<00:00,  1.08it/s]\n"
          ]
        },
        {
          "name": "stdout",
          "output_type": "stream",
          "text": [
            "Accuracy: 96.29\n"
          ]
        }
      ],
      "source": [
        "accuracy_list=[]\n",
        "for i in range(10):\n",
        "    print(f\"Iteration:{i} seed:{seeds[i]}\")\n",
        "    model=BaseModel(include_dropout=True).to(device)\n",
        "    train_loader=get_subset_dataloader(data_train,seeds[i],num_samples_per_class,batch_size)\n",
        "    accuracy=train(model,train_loader,test_loader,num_samples_per_class,\"FrobReg\")\n",
        "    accuracy_list.append(accuracy)\n",
        "    print(\"Accuracy:\",accuracy)"
      ]
    },
    {
      "cell_type": "code",
      "execution_count": 27,
      "metadata": {},
      "outputs": [
        {
          "name": "stdout",
          "output_type": "stream",
          "text": [
            "[96.91, 96.46, 96.71, 96.69, 96.38, 96.76, 96.34, 96.91, 96.75, 96.29]\n",
            "96.61999999999999\n",
            "0.2209524835796136\n"
          ]
        }
      ],
      "source": [
        "print(accuracy_list)\n",
        "print(np.mean(accuracy_list))\n",
        "print(np.std(accuracy_list))"
      ]
    }
  ],
  "metadata": {
    "accelerator": "GPU",
    "colab": {
      "gpuType": "T4",
      "provenance": []
    },
    "kernelspec": {
      "display_name": "Python 3",
      "name": "python3"
    },
    "language_info": {
      "codemirror_mode": {
        "name": "ipython",
        "version": 3
      },
      "file_extension": ".py",
      "mimetype": "text/x-python",
      "name": "python",
      "nbconvert_exporter": "python",
      "pygments_lexer": "ipython3",
      "version": "3.11.6"
    }
  },
  "nbformat": 4,
  "nbformat_minor": 0
}
